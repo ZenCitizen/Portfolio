{
 "cells": [
  {
   "cell_type": "markdown",
   "id": "83099640",
   "metadata": {},
   "source": [
    "# Анализ NPS телекоммуникационной компании"
   ]
  },
  {
   "cell_type": "markdown",
   "id": "852b35ed",
   "metadata": {},
   "source": [
    "<div class=\"alert alert-success\">\n",
    "<font size=\"5\"><b>Подготовка данных к исследованию</b></font>\n",
    "\n",
    "Данные находятся в SQLite — СУБД, в которой база данных представлена файлом. Для подключения к такой базе достаточно иметь доступ к файлу с расширением .db.\n",
    "Чтобы подключиться к базе данных и сохранить данные в датафрейм в pandas, понадобятся библиотеки urllib & sqlalchemy.\n",
    "    \n",
    "Нам нужно собрать в одну витрину данные из разных таблиц. Эту витрину мы будем использовать для дашборда. В БД имеются таблицы user, location, age_segment, traffic_segment, lifetime_segment. Все таблицы связаны друг с другом с помощью id разных признаков. \n",
    "    \n",
    "</div>"
   ]
  },
  {
   "cell_type": "code",
   "execution_count": 12,
   "id": "98df3751",
   "metadata": {
    "tags": [
     "aa81075c-062f-4de0-b5fe-14c73dc7468e"
    ]
   },
   "outputs": [],
   "source": [
    "# Setting up the Environment\n",
    "\n",
    "import pandas as pd\n",
    "import numpy as np\n",
    "\n",
    "from sqlalchemy import create_engine\n",
    "import urllib.request"
   ]
  },
  {
   "cell_type": "code",
   "execution_count": 13,
   "id": "40adfd3c",
   "metadata": {},
   "outputs": [],
   "source": [
    "# URL of the SQLite database\n",
    "url = 'https://code.s3.yandex.net/datasets/telecomm_csi.db'\n",
    "local_filename = 'telecomm_csi.db'\n",
    "\n",
    "# Download the SQLite file\n",
    "urllib.request.urlretrieve(url, local_filename)\n",
    "engine = create_engine(f'sqlite:///{local_filename}', echo=False)"
   ]
  },
  {
   "cell_type": "code",
   "execution_count": 14,
   "id": "cb0c6045",
   "metadata": {},
   "outputs": [],
   "source": [
    "# Retrieve data from SQLite db\n",
    "query = \"\"\"\n",
    "SELECT u.user_id, \n",
    "       u.lt_day, \n",
    "       u.is_new,\n",
    "       u.age,\n",
    "       u.gender_segment,\n",
    "       u.os_name,\n",
    "       u.cpe_type_name,\n",
    "       u.country,\n",
    "       u.city,\n",
    "       u.age_segment,\n",
    "       u.traffic_segment,\n",
    "       substr(l.title, 4, 10) lifetime_segment,\n",
    "       u.nps_score,\n",
    "       u.nps_group\n",
    "FROM (\n",
    "    SELECT u.*, \n",
    "           substr(t.title, 4, 10) traffic_segment\n",
    "    FROM (\n",
    "        with u as\n",
    "        (\n",
    "        SELECT u.*, \n",
    "               CASE WHEN u.lt_day <= 365 THEN 'newcomer' ELSE 'old_user' END is_new,\n",
    "               l.country,\n",
    "               l.city,\n",
    "               CASE WHEN u.nps_score <=6 THEN 'Detractor'\n",
    "                    WHEN u.nps_score >=9 THEN 'Promoter'\n",
    "                    ELSE 'Neutral'\n",
    "                    END 'nps_group'\n",
    "        FROM user u\n",
    "        LEFT JOIN location l ON u.location_id = l.location_id\n",
    "        )\n",
    "        SELECT u.*,\n",
    "               substr(a.title, 4, 10) age_segment           \n",
    "        FROM u\n",
    "        LEFT OUTER JOIN age_segment a ON u.age_gr_id = a.age_gr_id) AS u\n",
    "    LEFT JOIN traffic_segment t ON u.tr_gr_id = t.tr_gr_id) AS u\n",
    "LEFT JOIN lifetime_segment l ON u.lt_gr_id = l.lt_gr_id\n",
    ";\n",
    "\"\"\""
   ]
  },
  {
   "cell_type": "code",
   "execution_count": 15,
   "id": "d2d632cf",
   "metadata": {},
   "outputs": [
    {
     "data": {
      "text/html": [
       "<div>\n",
       "<style scoped>\n",
       "    .dataframe tbody tr th:only-of-type {\n",
       "        vertical-align: middle;\n",
       "    }\n",
       "\n",
       "    .dataframe tbody tr th {\n",
       "        vertical-align: top;\n",
       "    }\n",
       "\n",
       "    .dataframe thead th {\n",
       "        text-align: right;\n",
       "    }\n",
       "</style>\n",
       "<table border=\"1\" class=\"dataframe\">\n",
       "  <thead>\n",
       "    <tr style=\"text-align: right;\">\n",
       "      <th></th>\n",
       "      <th>user_id</th>\n",
       "      <th>lt_day</th>\n",
       "      <th>is_new</th>\n",
       "      <th>age</th>\n",
       "      <th>gender_segment</th>\n",
       "      <th>os_name</th>\n",
       "      <th>cpe_type_name</th>\n",
       "      <th>country</th>\n",
       "      <th>city</th>\n",
       "      <th>age_segment</th>\n",
       "      <th>traffic_segment</th>\n",
       "      <th>lifetime_segment</th>\n",
       "      <th>nps_score</th>\n",
       "      <th>nps_group</th>\n",
       "    </tr>\n",
       "  </thead>\n",
       "  <tbody>\n",
       "    <tr>\n",
       "      <th>0</th>\n",
       "      <td>A001A2</td>\n",
       "      <td>2320</td>\n",
       "      <td>old_user</td>\n",
       "      <td>45.0</td>\n",
       "      <td>1.0</td>\n",
       "      <td>ANDROID</td>\n",
       "      <td>SMARTPHONE</td>\n",
       "      <td>Россия</td>\n",
       "      <td>Уфа</td>\n",
       "      <td>45-54</td>\n",
       "      <td>1-5</td>\n",
       "      <td>36+</td>\n",
       "      <td>10</td>\n",
       "      <td>Promoter</td>\n",
       "    </tr>\n",
       "    <tr>\n",
       "      <th>1</th>\n",
       "      <td>A001WF</td>\n",
       "      <td>2344</td>\n",
       "      <td>old_user</td>\n",
       "      <td>53.0</td>\n",
       "      <td>0.0</td>\n",
       "      <td>ANDROID</td>\n",
       "      <td>SMARTPHONE</td>\n",
       "      <td>Россия</td>\n",
       "      <td>Киров</td>\n",
       "      <td>45-54</td>\n",
       "      <td>1-5</td>\n",
       "      <td>36+</td>\n",
       "      <td>10</td>\n",
       "      <td>Promoter</td>\n",
       "    </tr>\n",
       "    <tr>\n",
       "      <th>2</th>\n",
       "      <td>A003Q7</td>\n",
       "      <td>467</td>\n",
       "      <td>old_user</td>\n",
       "      <td>57.0</td>\n",
       "      <td>0.0</td>\n",
       "      <td>ANDROID</td>\n",
       "      <td>SMARTPHONE</td>\n",
       "      <td>Россия</td>\n",
       "      <td>Москва</td>\n",
       "      <td>55-64</td>\n",
       "      <td>20-25</td>\n",
       "      <td>13-24</td>\n",
       "      <td>10</td>\n",
       "      <td>Promoter</td>\n",
       "    </tr>\n",
       "  </tbody>\n",
       "</table>\n",
       "</div>"
      ],
      "text/plain": [
       "  user_id  lt_day    is_new   age  gender_segment  os_name cpe_type_name  \\\n",
       "0  A001A2    2320  old_user  45.0             1.0  ANDROID    SMARTPHONE   \n",
       "1  A001WF    2344  old_user  53.0             0.0  ANDROID    SMARTPHONE   \n",
       "2  A003Q7     467  old_user  57.0             0.0  ANDROID    SMARTPHONE   \n",
       "\n",
       "  country    city age_segment traffic_segment lifetime_segment  nps_score  \\\n",
       "0  Россия     Уфа       45-54             1-5              36+         10   \n",
       "1  Россия   Киров       45-54             1-5              36+         10   \n",
       "2  Россия  Москва       55-64           20-25            13-24         10   \n",
       "\n",
       "  nps_group  \n",
       "0  Promoter  \n",
       "1  Promoter  \n",
       "2  Promoter  "
      ]
     },
     "execution_count": 15,
     "metadata": {},
     "output_type": "execute_result"
    }
   ],
   "source": [
    "df = pd.read_sql(query, engine)\n",
    "df.head(3)"
   ]
  },
  {
   "cell_type": "code",
   "execution_count": 5,
   "id": "306fb5b6",
   "metadata": {},
   "outputs": [],
   "source": [
    "df.to_csv('telecomm_csi_tableau.csv', index=False)"
   ]
  },
  {
   "cell_type": "markdown",
   "id": "8e3dd935",
   "metadata": {},
   "source": [
    "<div class=\"alert alert-success\">\n",
    "<font size=\"5\"><b>Обзор данных</b></font>\n",
    "\n",
    "** С помощью запроса SQL выгрузили все необходимые для анализа поля из БД. Получившийся датафрейм выгружаем в виде .csv файла, и на основе этих данных будем строить дэшборды в Tableau.\n",
    "\n",
    "\n",
    "| поле | описание |\n",
    "| ----------- | ----------- |\n",
    "| user_id |\tИдентификатор клиента |\n",
    "| lt_day |\tКоличество дней «жизни» клиента |\n",
    "| is_new |\tПоле хранит информацию о том, является ли клиент новым |\n",
    "| age |\tВозраст |\n",
    "| gender_segment |\tПол (для удобства работы с полем преобразуйте значения в текстовый вид) |\n",
    "| os_name |\tТип операционной системы |\n",
    "| cpe_type_name |\tТип устройства |\n",
    "| country |\tСтрана проживания |\n",
    "| city |\tГород проживания |\n",
    "| age_segment |\tВозрастной сегмент |\n",
    "| traffic_segment |\tСегмент по объёму потребляемого трафика |\n",
    "| lifetime_segment |\tСегмент по количеству дней «жизни» |\n",
    "| nps_score |\tОценка клиента в NPS-опросе |\n",
    "| nps_group |\tПоле хранит информацию о том, к какой группе относится оценка клиента в опросе |\n",
    "    \n",
    "\n",
    "</div>"
   ]
  }
 ],
 "metadata": {
  "ExecuteTimeLog": [
   {
    "duration": 752,
    "start_time": "2021-10-03T17:40:52.731Z"
   },
   {
    "duration": 20,
    "start_time": "2021-10-03T17:40:53.486Z"
   },
   {
    "duration": 4,
    "start_time": "2021-10-03T17:41:04.638Z"
   },
   {
    "duration": 461,
    "start_time": "2021-10-03T17:41:04.912Z"
   },
   {
    "duration": 284,
    "start_time": "2021-10-03T17:41:05.376Z"
   },
   {
    "duration": 574,
    "start_time": "2021-10-06T07:55:05.029Z"
   },
   {
    "duration": 6,
    "start_time": "2021-10-06T07:55:05.605Z"
   },
   {
    "duration": 3,
    "start_time": "2021-10-06T07:55:14.685Z"
   },
   {
    "duration": 406,
    "start_time": "2021-10-06T07:55:15.522Z"
   },
   {
    "duration": 67,
    "start_time": "2021-10-06T07:55:15.929Z"
   },
   {
    "duration": 840,
    "start_time": "2021-10-07T07:54:04.647Z"
   },
   {
    "duration": 10,
    "start_time": "2021-10-07T07:54:05.490Z"
   },
   {
    "duration": 4,
    "start_time": "2021-10-07T07:54:05.544Z"
   },
   {
    "duration": 391,
    "start_time": "2021-10-07T07:54:06.237Z"
   },
   {
    "duration": 293,
    "start_time": "2021-10-07T07:54:06.654Z"
   },
   {
    "duration": 459,
    "start_time": "2022-11-02T09:47:26.051Z"
   },
   {
    "duration": 18,
    "start_time": "2022-11-02T09:47:29.914Z"
   },
   {
    "duration": 2,
    "start_time": "2022-11-02T09:47:32.492Z"
   },
   {
    "duration": 540,
    "start_time": "2022-11-02T09:47:35.413Z"
   },
   {
    "duration": 112,
    "start_time": "2022-11-02T09:49:20.541Z"
   },
   {
    "duration": 9,
    "start_time": "2022-11-02T11:16:33.362Z"
   },
   {
    "duration": 541,
    "start_time": "2022-11-02T11:16:35.859Z"
   },
   {
    "duration": 26,
    "start_time": "2022-11-02T11:16:37.541Z"
   },
   {
    "duration": 3,
    "start_time": "2022-11-02T11:16:38.901Z"
   },
   {
    "duration": 5455,
    "start_time": "2022-11-02T11:16:42.146Z"
   },
   {
    "duration": 4113,
    "start_time": "2022-11-02T11:16:53.399Z"
   },
   {
    "duration": 539,
    "start_time": "2022-11-03T12:14:10.292Z"
   },
   {
    "duration": 11,
    "start_time": "2022-11-03T12:14:10.833Z"
   },
   {
    "duration": 3,
    "start_time": "2022-11-03T12:14:10.846Z"
   },
   {
    "duration": 4978,
    "start_time": "2022-11-03T12:14:10.851Z"
   },
   {
    "duration": 4121,
    "start_time": "2022-11-03T12:14:15.831Z"
   }
  ],
  "kernelspec": {
   "display_name": "Python 3 (ipykernel)",
   "language": "python",
   "name": "python3"
  },
  "language_info": {
   "codemirror_mode": {
    "name": "ipython",
    "version": 3
   },
   "file_extension": ".py",
   "mimetype": "text/x-python",
   "name": "python",
   "nbconvert_exporter": "python",
   "pygments_lexer": "ipython3",
   "version": "3.9.13"
  },
  "toc": {
   "base_numbering": 1,
   "nav_menu": {},
   "number_sections": true,
   "sideBar": true,
   "skip_h1_title": true,
   "title_cell": "Table of Contents",
   "title_sidebar": "Contents",
   "toc_cell": false,
   "toc_position": {},
   "toc_section_display": true,
   "toc_window_display": false
  }
 },
 "nbformat": 4,
 "nbformat_minor": 5
}
