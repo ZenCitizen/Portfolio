{
 "cells": [
  {
   "cell_type": "markdown",
   "id": "9de7f56d",
   "metadata": {},
   "source": [
    "# Оценка корректности проведения А/В теста по эффективности новой рекомендательной системы"
   ]
  },
  {
   "cell_type": "markdown",
   "id": "5705339d",
   "metadata": {},
   "source": [
    "Цель нашего исследования - оценить корректность проведения теста, и выявить эффект от новой рекомендательной системы на конверсию. У нас есть ТЗ проведенного теста, и датасеты со всеми событиями, касающиеся теста.\n",
    "\n",
    "В рамках анализа необходимо:\n",
    "- проверить пересечение нашей базы с базой конкурирующего теста\n",
    "- проверить равномерность распределения пользователей по тестовым группам на каждом этапе воронки\n",
    "- оценить, как меняется конверсия на каждом этапе воронки"
   ]
  },
  {
   "cell_type": "markdown",
   "id": "4f592a55",
   "metadata": {},
   "source": [
    "**План работы**\n",
    "\n",
    "- ознакомление с данными\n",
    "- проверка на пропуски и дубликаты\n",
    "- проверка данных на соответствие к тз\n",
    "- исследование аб теста\n",
    "- анализ воронки, конверсии\n",
    "- проверка на стат значимые разницы\n",
    "- выводы\n"
   ]
  },
  {
   "cell_type": "code",
   "execution_count": 1,
   "id": "40a47535",
   "metadata": {},
   "outputs": [],
   "source": [
    "# загружаем библиотеки\n",
    "\n",
    "import pandas as pd\n",
    "import numpy as np\n",
    "from datetime import datetime, timedelta\n",
    "\n",
    "import matplotlib.pyplot as plt\n",
    "import seaborn as sns\n",
    "import plotly.express as px\n",
    "import plotly.graph_objects as go\n",
    "\n",
    "\n",
    "import math\n",
    "from scipy import stats as st\n",
    "from statsmodels.stats.proportion import proportions_ztest"
   ]
  },
  {
   "cell_type": "markdown",
   "id": "ea80694c",
   "metadata": {},
   "source": [
    "## Ознакомление с данными, предобработка"
   ]
  },
  {
   "cell_type": "code",
   "execution_count": 2,
   "id": "bcdf5b2a",
   "metadata": {},
   "outputs": [],
   "source": [
    "# загружаем все данные\n",
    "\n",
    "df_ab_events = pd.read_csv('https://code.s3.yandex.net/datasets/final_ab_events.csv')\n",
    "df_marketing_events = pd.read_csv('https://code.s3.yandex.net/datasets/ab_project_marketing_events.csv')\n",
    "df_new_users = pd.read_csv('https://code.s3.yandex.net/datasets/final_ab_new_users.csv')\n",
    "df_participants = pd.read_csv('https://code.s3.yandex.net/datasets/final_ab_participants.csv')"
   ]
  },
  {
   "cell_type": "code",
   "execution_count": 3,
   "id": "3a5a2e11",
   "metadata": {
    "scrolled": false
   },
   "outputs": [
    {
     "name": "stdout",
     "output_type": "stream",
     "text": [
      "Датасет: df_ab_events\n"
     ]
    },
    {
     "data": {
      "text/html": [
       "<div>\n",
       "<style scoped>\n",
       "    .dataframe tbody tr th:only-of-type {\n",
       "        vertical-align: middle;\n",
       "    }\n",
       "\n",
       "    .dataframe tbody tr th {\n",
       "        vertical-align: top;\n",
       "    }\n",
       "\n",
       "    .dataframe thead th {\n",
       "        text-align: right;\n",
       "    }\n",
       "</style>\n",
       "<table border=\"1\" class=\"dataframe\">\n",
       "  <thead>\n",
       "    <tr style=\"text-align: right;\">\n",
       "      <th></th>\n",
       "      <th>user_id</th>\n",
       "      <th>event_dt</th>\n",
       "      <th>event_name</th>\n",
       "      <th>details</th>\n",
       "    </tr>\n",
       "  </thead>\n",
       "  <tbody>\n",
       "    <tr>\n",
       "      <th>0</th>\n",
       "      <td>E1BDDCE0DAFA2679</td>\n",
       "      <td>2020-12-07 20:22:03</td>\n",
       "      <td>purchase</td>\n",
       "      <td>99.99</td>\n",
       "    </tr>\n",
       "    <tr>\n",
       "      <th>1</th>\n",
       "      <td>7B6452F081F49504</td>\n",
       "      <td>2020-12-07 09:22:53</td>\n",
       "      <td>purchase</td>\n",
       "      <td>9.99</td>\n",
       "    </tr>\n",
       "    <tr>\n",
       "      <th>2</th>\n",
       "      <td>9CD9F34546DF254C</td>\n",
       "      <td>2020-12-07 12:59:29</td>\n",
       "      <td>purchase</td>\n",
       "      <td>4.99</td>\n",
       "    </tr>\n",
       "    <tr>\n",
       "      <th>3</th>\n",
       "      <td>96F27A054B191457</td>\n",
       "      <td>2020-12-07 04:02:40</td>\n",
       "      <td>purchase</td>\n",
       "      <td>4.99</td>\n",
       "    </tr>\n",
       "    <tr>\n",
       "      <th>4</th>\n",
       "      <td>1FD7660FDF94CA1F</td>\n",
       "      <td>2020-12-07 10:15:09</td>\n",
       "      <td>purchase</td>\n",
       "      <td>4.99</td>\n",
       "    </tr>\n",
       "  </tbody>\n",
       "</table>\n",
       "</div>"
      ],
      "text/plain": [
       "            user_id             event_dt event_name  details\n",
       "0  E1BDDCE0DAFA2679  2020-12-07 20:22:03   purchase    99.99\n",
       "1  7B6452F081F49504  2020-12-07 09:22:53   purchase     9.99\n",
       "2  9CD9F34546DF254C  2020-12-07 12:59:29   purchase     4.99\n",
       "3  96F27A054B191457  2020-12-07 04:02:40   purchase     4.99\n",
       "4  1FD7660FDF94CA1F  2020-12-07 10:15:09   purchase     4.99"
      ]
     },
     "metadata": {},
     "output_type": "display_data"
    },
    {
     "name": "stdout",
     "output_type": "stream",
     "text": [
      "\n",
      "<class 'pandas.core.frame.DataFrame'>\n",
      "RangeIndex: 440317 entries, 0 to 440316\n",
      "Data columns (total 4 columns):\n",
      " #   Column      Non-Null Count   Dtype  \n",
      "---  ------      --------------   -----  \n",
      " 0   user_id     440317 non-null  object \n",
      " 1   event_dt    440317 non-null  object \n",
      " 2   event_name  440317 non-null  object \n",
      " 3   details     62740 non-null   float64\n",
      "dtypes: float64(1), object(3)\n",
      "memory usage: 13.4+ MB\n",
      "None\n",
      "\n",
      "Пропуски:\n",
      "user_id            0\n",
      "event_dt           0\n",
      "event_name         0\n",
      "details       377577\n",
      "dtype: int64\n",
      "\n",
      "Дубликаты:\n",
      "0\n",
      "\n",
      "Датасет: df_marketing_events\n"
     ]
    },
    {
     "data": {
      "text/html": [
       "<div>\n",
       "<style scoped>\n",
       "    .dataframe tbody tr th:only-of-type {\n",
       "        vertical-align: middle;\n",
       "    }\n",
       "\n",
       "    .dataframe tbody tr th {\n",
       "        vertical-align: top;\n",
       "    }\n",
       "\n",
       "    .dataframe thead th {\n",
       "        text-align: right;\n",
       "    }\n",
       "</style>\n",
       "<table border=\"1\" class=\"dataframe\">\n",
       "  <thead>\n",
       "    <tr style=\"text-align: right;\">\n",
       "      <th></th>\n",
       "      <th>name</th>\n",
       "      <th>regions</th>\n",
       "      <th>start_dt</th>\n",
       "      <th>finish_dt</th>\n",
       "    </tr>\n",
       "  </thead>\n",
       "  <tbody>\n",
       "    <tr>\n",
       "      <th>0</th>\n",
       "      <td>Christmas&amp;New Year Promo</td>\n",
       "      <td>EU, N.America</td>\n",
       "      <td>2020-12-25</td>\n",
       "      <td>2021-01-03</td>\n",
       "    </tr>\n",
       "    <tr>\n",
       "      <th>1</th>\n",
       "      <td>St. Valentine's Day Giveaway</td>\n",
       "      <td>EU, CIS, APAC, N.America</td>\n",
       "      <td>2020-02-14</td>\n",
       "      <td>2020-02-16</td>\n",
       "    </tr>\n",
       "    <tr>\n",
       "      <th>2</th>\n",
       "      <td>St. Patric's Day Promo</td>\n",
       "      <td>EU, N.America</td>\n",
       "      <td>2020-03-17</td>\n",
       "      <td>2020-03-19</td>\n",
       "    </tr>\n",
       "    <tr>\n",
       "      <th>3</th>\n",
       "      <td>Easter Promo</td>\n",
       "      <td>EU, CIS, APAC, N.America</td>\n",
       "      <td>2020-04-12</td>\n",
       "      <td>2020-04-19</td>\n",
       "    </tr>\n",
       "    <tr>\n",
       "      <th>4</th>\n",
       "      <td>4th of July Promo</td>\n",
       "      <td>N.America</td>\n",
       "      <td>2020-07-04</td>\n",
       "      <td>2020-07-11</td>\n",
       "    </tr>\n",
       "  </tbody>\n",
       "</table>\n",
       "</div>"
      ],
      "text/plain": [
       "                           name                   regions    start_dt  \\\n",
       "0      Christmas&New Year Promo             EU, N.America  2020-12-25   \n",
       "1  St. Valentine's Day Giveaway  EU, CIS, APAC, N.America  2020-02-14   \n",
       "2        St. Patric's Day Promo             EU, N.America  2020-03-17   \n",
       "3                  Easter Promo  EU, CIS, APAC, N.America  2020-04-12   \n",
       "4             4th of July Promo                 N.America  2020-07-04   \n",
       "\n",
       "    finish_dt  \n",
       "0  2021-01-03  \n",
       "1  2020-02-16  \n",
       "2  2020-03-19  \n",
       "3  2020-04-19  \n",
       "4  2020-07-11  "
      ]
     },
     "metadata": {},
     "output_type": "display_data"
    },
    {
     "name": "stdout",
     "output_type": "stream",
     "text": [
      "\n",
      "<class 'pandas.core.frame.DataFrame'>\n",
      "RangeIndex: 14 entries, 0 to 13\n",
      "Data columns (total 4 columns):\n",
      " #   Column     Non-Null Count  Dtype \n",
      "---  ------     --------------  ----- \n",
      " 0   name       14 non-null     object\n",
      " 1   regions    14 non-null     object\n",
      " 2   start_dt   14 non-null     object\n",
      " 3   finish_dt  14 non-null     object\n",
      "dtypes: object(4)\n",
      "memory usage: 576.0+ bytes\n",
      "None\n",
      "\n",
      "Пропуски:\n",
      "name         0\n",
      "regions      0\n",
      "start_dt     0\n",
      "finish_dt    0\n",
      "dtype: int64\n",
      "\n",
      "Дубликаты:\n",
      "0\n",
      "\n",
      "Датасет: df_new_users\n"
     ]
    },
    {
     "data": {
      "text/html": [
       "<div>\n",
       "<style scoped>\n",
       "    .dataframe tbody tr th:only-of-type {\n",
       "        vertical-align: middle;\n",
       "    }\n",
       "\n",
       "    .dataframe tbody tr th {\n",
       "        vertical-align: top;\n",
       "    }\n",
       "\n",
       "    .dataframe thead th {\n",
       "        text-align: right;\n",
       "    }\n",
       "</style>\n",
       "<table border=\"1\" class=\"dataframe\">\n",
       "  <thead>\n",
       "    <tr style=\"text-align: right;\">\n",
       "      <th></th>\n",
       "      <th>user_id</th>\n",
       "      <th>first_date</th>\n",
       "      <th>region</th>\n",
       "      <th>device</th>\n",
       "    </tr>\n",
       "  </thead>\n",
       "  <tbody>\n",
       "    <tr>\n",
       "      <th>0</th>\n",
       "      <td>D72A72121175D8BE</td>\n",
       "      <td>2020-12-07</td>\n",
       "      <td>EU</td>\n",
       "      <td>PC</td>\n",
       "    </tr>\n",
       "    <tr>\n",
       "      <th>1</th>\n",
       "      <td>F1C668619DFE6E65</td>\n",
       "      <td>2020-12-07</td>\n",
       "      <td>N.America</td>\n",
       "      <td>Android</td>\n",
       "    </tr>\n",
       "    <tr>\n",
       "      <th>2</th>\n",
       "      <td>2E1BF1D4C37EA01F</td>\n",
       "      <td>2020-12-07</td>\n",
       "      <td>EU</td>\n",
       "      <td>PC</td>\n",
       "    </tr>\n",
       "    <tr>\n",
       "      <th>3</th>\n",
       "      <td>50734A22C0C63768</td>\n",
       "      <td>2020-12-07</td>\n",
       "      <td>EU</td>\n",
       "      <td>iPhone</td>\n",
       "    </tr>\n",
       "    <tr>\n",
       "      <th>4</th>\n",
       "      <td>E1BDDCE0DAFA2679</td>\n",
       "      <td>2020-12-07</td>\n",
       "      <td>N.America</td>\n",
       "      <td>iPhone</td>\n",
       "    </tr>\n",
       "  </tbody>\n",
       "</table>\n",
       "</div>"
      ],
      "text/plain": [
       "            user_id  first_date     region   device\n",
       "0  D72A72121175D8BE  2020-12-07         EU       PC\n",
       "1  F1C668619DFE6E65  2020-12-07  N.America  Android\n",
       "2  2E1BF1D4C37EA01F  2020-12-07         EU       PC\n",
       "3  50734A22C0C63768  2020-12-07         EU   iPhone\n",
       "4  E1BDDCE0DAFA2679  2020-12-07  N.America   iPhone"
      ]
     },
     "metadata": {},
     "output_type": "display_data"
    },
    {
     "name": "stdout",
     "output_type": "stream",
     "text": [
      "\n",
      "<class 'pandas.core.frame.DataFrame'>\n",
      "RangeIndex: 61733 entries, 0 to 61732\n",
      "Data columns (total 4 columns):\n",
      " #   Column      Non-Null Count  Dtype \n",
      "---  ------      --------------  ----- \n",
      " 0   user_id     61733 non-null  object\n",
      " 1   first_date  61733 non-null  object\n",
      " 2   region      61733 non-null  object\n",
      " 3   device      61733 non-null  object\n",
      "dtypes: object(4)\n",
      "memory usage: 1.9+ MB\n",
      "None\n",
      "\n",
      "Пропуски:\n",
      "user_id       0\n",
      "first_date    0\n",
      "region        0\n",
      "device        0\n",
      "dtype: int64\n",
      "\n",
      "Дубликаты:\n",
      "0\n",
      "\n",
      "Датасет: df_participants\n"
     ]
    },
    {
     "data": {
      "text/html": [
       "<div>\n",
       "<style scoped>\n",
       "    .dataframe tbody tr th:only-of-type {\n",
       "        vertical-align: middle;\n",
       "    }\n",
       "\n",
       "    .dataframe tbody tr th {\n",
       "        vertical-align: top;\n",
       "    }\n",
       "\n",
       "    .dataframe thead th {\n",
       "        text-align: right;\n",
       "    }\n",
       "</style>\n",
       "<table border=\"1\" class=\"dataframe\">\n",
       "  <thead>\n",
       "    <tr style=\"text-align: right;\">\n",
       "      <th></th>\n",
       "      <th>user_id</th>\n",
       "      <th>group</th>\n",
       "      <th>ab_test</th>\n",
       "    </tr>\n",
       "  </thead>\n",
       "  <tbody>\n",
       "    <tr>\n",
       "      <th>0</th>\n",
       "      <td>D1ABA3E2887B6A73</td>\n",
       "      <td>A</td>\n",
       "      <td>recommender_system_test</td>\n",
       "    </tr>\n",
       "    <tr>\n",
       "      <th>1</th>\n",
       "      <td>A7A3664BD6242119</td>\n",
       "      <td>A</td>\n",
       "      <td>recommender_system_test</td>\n",
       "    </tr>\n",
       "    <tr>\n",
       "      <th>2</th>\n",
       "      <td>DABC14FDDFADD29E</td>\n",
       "      <td>A</td>\n",
       "      <td>recommender_system_test</td>\n",
       "    </tr>\n",
       "    <tr>\n",
       "      <th>3</th>\n",
       "      <td>04988C5DF189632E</td>\n",
       "      <td>A</td>\n",
       "      <td>recommender_system_test</td>\n",
       "    </tr>\n",
       "    <tr>\n",
       "      <th>4</th>\n",
       "      <td>482F14783456D21B</td>\n",
       "      <td>B</td>\n",
       "      <td>recommender_system_test</td>\n",
       "    </tr>\n",
       "  </tbody>\n",
       "</table>\n",
       "</div>"
      ],
      "text/plain": [
       "            user_id group                  ab_test\n",
       "0  D1ABA3E2887B6A73     A  recommender_system_test\n",
       "1  A7A3664BD6242119     A  recommender_system_test\n",
       "2  DABC14FDDFADD29E     A  recommender_system_test\n",
       "3  04988C5DF189632E     A  recommender_system_test\n",
       "4  482F14783456D21B     B  recommender_system_test"
      ]
     },
     "metadata": {},
     "output_type": "display_data"
    },
    {
     "name": "stdout",
     "output_type": "stream",
     "text": [
      "\n",
      "<class 'pandas.core.frame.DataFrame'>\n",
      "RangeIndex: 18268 entries, 0 to 18267\n",
      "Data columns (total 3 columns):\n",
      " #   Column   Non-Null Count  Dtype \n",
      "---  ------   --------------  ----- \n",
      " 0   user_id  18268 non-null  object\n",
      " 1   group    18268 non-null  object\n",
      " 2   ab_test  18268 non-null  object\n",
      "dtypes: object(3)\n",
      "memory usage: 428.3+ KB\n",
      "None\n",
      "\n",
      "Пропуски:\n",
      "user_id    0\n",
      "group      0\n",
      "ab_test    0\n",
      "dtype: int64\n",
      "\n",
      "Дубликаты:\n",
      "0\n",
      "\n"
     ]
    }
   ],
   "source": [
    "# обзор данных\n",
    "\n",
    "df_list = [df_ab_events, df_marketing_events, df_new_users, df_participants]\n",
    "names = ['df_ab_events', 'df_marketing_events', 'df_new_users', 'df_participants']\n",
    "\n",
    "for df, name in zip(df_list, names):\n",
    "    print('Датасет:', name)\n",
    "# отобразим первые строки\n",
    "    display(df.head())\n",
    "    print()\n",
    "# проверяем соответствие заданных типов данных к сохраненным в них значениям\n",
    "    print(df.info())\n",
    "    print()\n",
    "    print('Пропуски:')\n",
    "# выполняем проверку на пропуски\n",
    "    print(df.isna().sum())\n",
    "    print()\n",
    "    print('Дубликаты:')\n",
    "# выполняем проверку на дубликаты\n",
    "    print(df.duplicated().sum())\n",
    "    print()"
   ]
  },
  {
   "cell_type": "code",
   "execution_count": 4,
   "id": "1f622ec2",
   "metadata": {},
   "outputs": [],
   "source": [
    "# преобразовываем типы данных в столбцах с датой и временем событий\n",
    "\n",
    "df_ab_events['event_dt'] = pd.to_datetime(df_ab_events['event_dt']).dt.date \n",
    "df_marketing_events['start_dt'] = pd.to_datetime(df_marketing_events['start_dt']).dt.date \n",
    "df_marketing_events['finish_dt'] = pd.to_datetime(df_marketing_events['finish_dt']).dt.date \n",
    "df_new_users['first_date'] = pd.to_datetime(df_new_users['first_date']).dt.date "
   ]
  },
  {
   "cell_type": "markdown",
   "id": "b953f49f",
   "metadata": {},
   "source": [
    "Поле details датафрейма df_ab_events содержит пропуски, так как только по событию \"покупка\" имеются детали. На данном этапе ничего с этими пропусками делать не будем. \n",
    "Больше пропусков в датафреймах нет"
   ]
  },
  {
   "cell_type": "code",
   "execution_count": 5,
   "id": "7a0fc5c8",
   "metadata": {},
   "outputs": [
    {
     "data": {
      "text/html": [
       "<div>\n",
       "<style scoped>\n",
       "    .dataframe tbody tr th:only-of-type {\n",
       "        vertical-align: middle;\n",
       "    }\n",
       "\n",
       "    .dataframe tbody tr th {\n",
       "        vertical-align: top;\n",
       "    }\n",
       "\n",
       "    .dataframe thead th {\n",
       "        text-align: right;\n",
       "    }\n",
       "</style>\n",
       "<table border=\"1\" class=\"dataframe\">\n",
       "  <thead>\n",
       "    <tr style=\"text-align: right;\">\n",
       "      <th></th>\n",
       "      <th>details</th>\n",
       "    </tr>\n",
       "    <tr>\n",
       "      <th>event_name</th>\n",
       "      <th></th>\n",
       "    </tr>\n",
       "  </thead>\n",
       "  <tbody>\n",
       "    <tr>\n",
       "      <th>login</th>\n",
       "      <td>0</td>\n",
       "    </tr>\n",
       "    <tr>\n",
       "      <th>product_cart</th>\n",
       "      <td>0</td>\n",
       "    </tr>\n",
       "    <tr>\n",
       "      <th>product_page</th>\n",
       "      <td>0</td>\n",
       "    </tr>\n",
       "    <tr>\n",
       "      <th>purchase</th>\n",
       "      <td>62740</td>\n",
       "    </tr>\n",
       "  </tbody>\n",
       "</table>\n",
       "</div>"
      ],
      "text/plain": [
       "              details\n",
       "event_name           \n",
       "login               0\n",
       "product_cart        0\n",
       "product_page        0\n",
       "purchase        62740"
      ]
     },
     "execution_count": 5,
     "metadata": {},
     "output_type": "execute_result"
    }
   ],
   "source": [
    "df_ab_events.groupby('event_name').agg({'details': 'count'})"
   ]
  },
  {
   "cell_type": "markdown",
   "id": "53bd7c8a",
   "metadata": {},
   "source": [
    "Данные для исследования были загружены и по ним выполнена предобработка. В данных не содержатся дубликаты. Пропуски выявлены, но устранять их нет необходимости, так как причина выявлена. Столбцы с датой и временем приведены в корректный тип."
   ]
  },
  {
   "cell_type": "markdown",
   "id": "3cad627f",
   "metadata": {},
   "source": [
    "## Проверка данных на соответствие по ТЗ\n",
    "### Проверка по датам"
   ]
  },
  {
   "cell_type": "markdown",
   "id": "8a099fae",
   "metadata": {},
   "source": [
    "**дата запуска: 2020-12-07;**    \n",
    "**дата остановки набора новых пользователей: 2020-12-21;**    \n",
    "**дата остановки: 2021-01-04;**"
   ]
  },
  {
   "cell_type": "code",
   "execution_count": 6,
   "id": "93fbfdb9",
   "metadata": {},
   "outputs": [],
   "source": [
    "# сохраняем даты из ТЗ в переменные\n",
    "\n",
    "start_date = datetime.strptime(\"2020-12-07\", \"%Y-%m-%d\").date()\n",
    "finish_date = datetime.strptime(\"2021-01-04\", \"%Y-%m-%d\").date()\n",
    "last_date_for_new_users = datetime.strptime(\"2020-12-21\", \"%Y-%m-%d\").date()"
   ]
  },
  {
   "cell_type": "code",
   "execution_count": 7,
   "id": "90d1dd7d",
   "metadata": {},
   "outputs": [
    {
     "name": "stdout",
     "output_type": "stream",
     "text": [
      "Дата начала событии\n",
      "2020-12-07\n",
      "\n",
      "Дата остановки событии\n",
      "2020-12-30\n"
     ]
    }
   ],
   "source": [
    "# проверка датафрейма df_ab_events на полноту\n",
    "\n",
    "print('Дата начала событии')\n",
    "print(df_ab_events['event_dt'].min())\n",
    "print()\n",
    "print('Дата остановки событии')\n",
    "print(df_ab_events['event_dt'].max())\n"
   ]
  },
  {
   "cell_type": "markdown",
   "id": "96cfb522",
   "metadata": {},
   "source": [
    "Записи с событиями (df_ab_events) включают в себя данные до 2020-12-30. Не хватает данных за период с 2020-12-31 до 2021-01-04;"
   ]
  },
  {
   "cell_type": "code",
   "execution_count": 8,
   "id": "7e8904a3",
   "metadata": {},
   "outputs": [
    {
     "data": {
      "text/html": [
       "<div>\n",
       "<style scoped>\n",
       "    .dataframe tbody tr th:only-of-type {\n",
       "        vertical-align: middle;\n",
       "    }\n",
       "\n",
       "    .dataframe tbody tr th {\n",
       "        vertical-align: top;\n",
       "    }\n",
       "\n",
       "    .dataframe thead th {\n",
       "        text-align: right;\n",
       "    }\n",
       "</style>\n",
       "<table border=\"1\" class=\"dataframe\">\n",
       "  <thead>\n",
       "    <tr style=\"text-align: right;\">\n",
       "      <th></th>\n",
       "      <th>name</th>\n",
       "      <th>regions</th>\n",
       "      <th>start_dt</th>\n",
       "      <th>finish_dt</th>\n",
       "    </tr>\n",
       "  </thead>\n",
       "  <tbody>\n",
       "    <tr>\n",
       "      <th>6</th>\n",
       "      <td>Chinese New Year Promo</td>\n",
       "      <td>APAC</td>\n",
       "      <td>2020-01-25</td>\n",
       "      <td>2020-02-07</td>\n",
       "    </tr>\n",
       "    <tr>\n",
       "      <th>1</th>\n",
       "      <td>St. Valentine's Day Giveaway</td>\n",
       "      <td>EU, CIS, APAC, N.America</td>\n",
       "      <td>2020-02-14</td>\n",
       "      <td>2020-02-16</td>\n",
       "    </tr>\n",
       "    <tr>\n",
       "      <th>8</th>\n",
       "      <td>International Women's Day Promo</td>\n",
       "      <td>EU, CIS, APAC</td>\n",
       "      <td>2020-03-08</td>\n",
       "      <td>2020-03-10</td>\n",
       "    </tr>\n",
       "    <tr>\n",
       "      <th>2</th>\n",
       "      <td>St. Patric's Day Promo</td>\n",
       "      <td>EU, N.America</td>\n",
       "      <td>2020-03-17</td>\n",
       "      <td>2020-03-19</td>\n",
       "    </tr>\n",
       "    <tr>\n",
       "      <th>3</th>\n",
       "      <td>Easter Promo</td>\n",
       "      <td>EU, CIS, APAC, N.America</td>\n",
       "      <td>2020-04-12</td>\n",
       "      <td>2020-04-19</td>\n",
       "    </tr>\n",
       "    <tr>\n",
       "      <th>7</th>\n",
       "      <td>Labor day (May 1st) Ads Campaign</td>\n",
       "      <td>EU, CIS, APAC</td>\n",
       "      <td>2020-05-01</td>\n",
       "      <td>2020-05-03</td>\n",
       "    </tr>\n",
       "    <tr>\n",
       "      <th>9</th>\n",
       "      <td>Victory Day CIS (May 9th) Event</td>\n",
       "      <td>CIS</td>\n",
       "      <td>2020-05-09</td>\n",
       "      <td>2020-05-11</td>\n",
       "    </tr>\n",
       "    <tr>\n",
       "      <th>11</th>\n",
       "      <td>Dragon Boat Festival Giveaway</td>\n",
       "      <td>APAC</td>\n",
       "      <td>2020-06-25</td>\n",
       "      <td>2020-07-01</td>\n",
       "    </tr>\n",
       "    <tr>\n",
       "      <th>4</th>\n",
       "      <td>4th of July Promo</td>\n",
       "      <td>N.America</td>\n",
       "      <td>2020-07-04</td>\n",
       "      <td>2020-07-11</td>\n",
       "    </tr>\n",
       "    <tr>\n",
       "      <th>13</th>\n",
       "      <td>Chinese Moon Festival</td>\n",
       "      <td>APAC</td>\n",
       "      <td>2020-10-01</td>\n",
       "      <td>2020-10-07</td>\n",
       "    </tr>\n",
       "    <tr>\n",
       "      <th>12</th>\n",
       "      <td>Single's Day Gift Promo</td>\n",
       "      <td>APAC</td>\n",
       "      <td>2020-11-11</td>\n",
       "      <td>2020-11-12</td>\n",
       "    </tr>\n",
       "    <tr>\n",
       "      <th>5</th>\n",
       "      <td>Black Friday Ads Campaign</td>\n",
       "      <td>EU, CIS, APAC, N.America</td>\n",
       "      <td>2020-11-26</td>\n",
       "      <td>2020-12-01</td>\n",
       "    </tr>\n",
       "    <tr>\n",
       "      <th>0</th>\n",
       "      <td>Christmas&amp;New Year Promo</td>\n",
       "      <td>EU, N.America</td>\n",
       "      <td>2020-12-25</td>\n",
       "      <td>2021-01-03</td>\n",
       "    </tr>\n",
       "    <tr>\n",
       "      <th>10</th>\n",
       "      <td>CIS New Year Gift Lottery</td>\n",
       "      <td>CIS</td>\n",
       "      <td>2020-12-30</td>\n",
       "      <td>2021-01-07</td>\n",
       "    </tr>\n",
       "  </tbody>\n",
       "</table>\n",
       "</div>"
      ],
      "text/plain": [
       "                                name                   regions    start_dt  \\\n",
       "6             Chinese New Year Promo                      APAC  2020-01-25   \n",
       "1       St. Valentine's Day Giveaway  EU, CIS, APAC, N.America  2020-02-14   \n",
       "8    International Women's Day Promo             EU, CIS, APAC  2020-03-08   \n",
       "2             St. Patric's Day Promo             EU, N.America  2020-03-17   \n",
       "3                       Easter Promo  EU, CIS, APAC, N.America  2020-04-12   \n",
       "7   Labor day (May 1st) Ads Campaign             EU, CIS, APAC  2020-05-01   \n",
       "9    Victory Day CIS (May 9th) Event                       CIS  2020-05-09   \n",
       "11     Dragon Boat Festival Giveaway                      APAC  2020-06-25   \n",
       "4                  4th of July Promo                 N.America  2020-07-04   \n",
       "13             Chinese Moon Festival                      APAC  2020-10-01   \n",
       "12           Single's Day Gift Promo                      APAC  2020-11-11   \n",
       "5          Black Friday Ads Campaign  EU, CIS, APAC, N.America  2020-11-26   \n",
       "0           Christmas&New Year Promo             EU, N.America  2020-12-25   \n",
       "10         CIS New Year Gift Lottery                       CIS  2020-12-30   \n",
       "\n",
       "     finish_dt  \n",
       "6   2020-02-07  \n",
       "1   2020-02-16  \n",
       "8   2020-03-10  \n",
       "2   2020-03-19  \n",
       "3   2020-04-19  \n",
       "7   2020-05-03  \n",
       "9   2020-05-11  \n",
       "11  2020-07-01  \n",
       "4   2020-07-11  \n",
       "13  2020-10-07  \n",
       "12  2020-11-12  \n",
       "5   2020-12-01  \n",
       "0   2021-01-03  \n",
       "10  2021-01-07  "
      ]
     },
     "execution_count": 8,
     "metadata": {},
     "output_type": "execute_result"
    }
   ],
   "source": [
    "# проверка датафрейма df_marketing_events на полноту\n",
    "\n",
    "df_marketing_events.sort_values(by='finish_dt')"
   ]
  },
  {
   "cell_type": "code",
   "execution_count": 9,
   "id": "2539c816",
   "metadata": {},
   "outputs": [
    {
     "data": {
      "text/html": [
       "<div>\n",
       "<style scoped>\n",
       "    .dataframe tbody tr th:only-of-type {\n",
       "        vertical-align: middle;\n",
       "    }\n",
       "\n",
       "    .dataframe tbody tr th {\n",
       "        vertical-align: top;\n",
       "    }\n",
       "\n",
       "    .dataframe thead th {\n",
       "        text-align: right;\n",
       "    }\n",
       "</style>\n",
       "<table border=\"1\" class=\"dataframe\">\n",
       "  <thead>\n",
       "    <tr style=\"text-align: right;\">\n",
       "      <th></th>\n",
       "      <th>name</th>\n",
       "      <th>regions</th>\n",
       "      <th>start_dt</th>\n",
       "      <th>finish_dt</th>\n",
       "    </tr>\n",
       "  </thead>\n",
       "  <tbody>\n",
       "    <tr>\n",
       "      <th>0</th>\n",
       "      <td>Christmas&amp;New Year Promo</td>\n",
       "      <td>EU, N.America</td>\n",
       "      <td>2020-12-25</td>\n",
       "      <td>2021-01-03</td>\n",
       "    </tr>\n",
       "    <tr>\n",
       "      <th>10</th>\n",
       "      <td>CIS New Year Gift Lottery</td>\n",
       "      <td>CIS</td>\n",
       "      <td>2020-12-30</td>\n",
       "      <td>2021-01-07</td>\n",
       "    </tr>\n",
       "  </tbody>\n",
       "</table>\n",
       "</div>"
      ],
      "text/plain": [
       "                         name        regions    start_dt   finish_dt\n",
       "0    Christmas&New Year Promo  EU, N.America  2020-12-25  2021-01-03\n",
       "10  CIS New Year Gift Lottery            CIS  2020-12-30  2021-01-07"
      ]
     },
     "execution_count": 9,
     "metadata": {},
     "output_type": "execute_result"
    }
   ],
   "source": [
    "# исключим маркетинговые события, которые закончились до запуска и/или стартовали после окончания нашего теста\n",
    "\n",
    "df_marketing_events = df_marketing_events.query('finish_dt >= @start_date & start_dt < @finish_date')\n",
    "df_marketing_events"
   ]
  },
  {
   "cell_type": "code",
   "execution_count": 10,
   "id": "c47549f4",
   "metadata": {},
   "outputs": [
    {
     "name": "stdout",
     "output_type": "stream",
     "text": [
      "Дата начала набора новых пользователей\n",
      "2020-12-07\n",
      "\n",
      "Дата остановки набота новых пользователей\n",
      "2020-12-23\n"
     ]
    }
   ],
   "source": [
    "# проверка датафрейма df_new_users на полноту\n",
    "\n",
    "print('Дата начала набора новых пользователей')\n",
    "print(df_new_users['first_date'].min())\n",
    "print()\n",
    "print('Дата остановки набота новых пользователей')\n",
    "print(df_new_users['first_date'].max())"
   ]
  },
  {
   "cell_type": "markdown",
   "id": "12df6f46",
   "metadata": {},
   "source": [
    "В df_new_users имеются данные по новым пользователям, которые пришли после остановки набора новых пользователей. Исключаем этих клиентов из выборки, так же проведем фильтрацию по региону, оставив таким образом только пользователей из EU"
   ]
  },
  {
   "cell_type": "code",
   "execution_count": 11,
   "id": "ea2b75f8",
   "metadata": {},
   "outputs": [
    {
     "data": {
      "text/plain": [
       "datetime.date(2020, 12, 21)"
      ]
     },
     "execution_count": 11,
     "metadata": {},
     "output_type": "execute_result"
    }
   ],
   "source": [
    "df_participants.query('ab_test == \"recommender_system_test\"').merge(\n",
    "    df_new_users, on='user_id', how='left')['first_date'].max()\n"
   ]
  },
  {
   "cell_type": "code",
   "execution_count": 12,
   "id": "48ae01af",
   "metadata": {},
   "outputs": [
    {
     "data": {
      "text/plain": [
       "(42340, 4)"
      ]
     },
     "metadata": {},
     "output_type": "display_data"
    },
    {
     "data": {
      "text/plain": [
       "42340"
      ]
     },
     "execution_count": 12,
     "metadata": {},
     "output_type": "execute_result"
    }
   ],
   "source": [
    "df_new_users = df_new_users.query('(first_date <= @last_date_for_new_users) & (region ==\"EU\")')\n",
    "display(df_new_users.shape)\n",
    "df_new_users['user_id'].nunique()"
   ]
  },
  {
   "cell_type": "markdown",
   "id": "e8d24cd9",
   "metadata": {},
   "source": [
    "**Название теста: recommender_system_test;**    \n",
    "**аудитория: в тест должно быть отобрано 15% новых пользователей из региона EU;**    \n",
    "**ожидаемое количество участников теста: 6000**\n",
    "\n",
    "В df_new_users теперь хранятся user_id пользователей из EU зарегистрированные в период регитрации на тест. Так как кол-во строк и кол-во уникальных user_id равны, можно полагать что в df_new_users нет дублирующихся строк.     \n",
    "\n",
    "Для проверки соответствия с тз о 15% наборе, мы промаркируем пользователей в df_new_users как True/False, в зависимости от их присутствия в датафрейме df_participants среди участников теста recommender_system_test.\n",
    "\n",
    "Далее рассчитаем долю True от всех строк. "
   ]
  },
  {
   "cell_type": "code",
   "execution_count": 13,
   "id": "48078abd",
   "metadata": {},
   "outputs": [
    {
     "name": "stderr",
     "output_type": "stream",
     "text": [
      "/var/folders/df/6f1gdccs3hb6gspsxtl2hw300000gn/T/ipykernel_70103/553824985.py:3: SettingWithCopyWarning: \n",
      "A value is trying to be set on a copy of a slice from a DataFrame.\n",
      "Try using .loc[row_indexer,col_indexer] = value instead\n",
      "\n",
      "See the caveats in the documentation: https://pandas.pydata.org/pandas-docs/stable/user_guide/indexing.html#returning-a-view-versus-a-copy\n",
      "  df_new_users['test_participants'] = df_new_users['user_id'\n"
     ]
    },
    {
     "data": {
      "text/html": [
       "<div>\n",
       "<style scoped>\n",
       "    .dataframe tbody tr th:only-of-type {\n",
       "        vertical-align: middle;\n",
       "    }\n",
       "\n",
       "    .dataframe tbody tr th {\n",
       "        vertical-align: top;\n",
       "    }\n",
       "\n",
       "    .dataframe thead th {\n",
       "        text-align: right;\n",
       "    }\n",
       "</style>\n",
       "<table border=\"1\" class=\"dataframe\">\n",
       "  <thead>\n",
       "    <tr style=\"text-align: right;\">\n",
       "      <th></th>\n",
       "      <th>user_id</th>\n",
       "      <th>first_date</th>\n",
       "      <th>region</th>\n",
       "      <th>device</th>\n",
       "      <th>test_participants</th>\n",
       "    </tr>\n",
       "  </thead>\n",
       "  <tbody>\n",
       "    <tr>\n",
       "      <th>0</th>\n",
       "      <td>D72A72121175D8BE</td>\n",
       "      <td>2020-12-07</td>\n",
       "      <td>EU</td>\n",
       "      <td>PC</td>\n",
       "      <td>True</td>\n",
       "    </tr>\n",
       "    <tr>\n",
       "      <th>2</th>\n",
       "      <td>2E1BF1D4C37EA01F</td>\n",
       "      <td>2020-12-07</td>\n",
       "      <td>EU</td>\n",
       "      <td>PC</td>\n",
       "      <td>False</td>\n",
       "    </tr>\n",
       "    <tr>\n",
       "      <th>3</th>\n",
       "      <td>50734A22C0C63768</td>\n",
       "      <td>2020-12-07</td>\n",
       "      <td>EU</td>\n",
       "      <td>iPhone</td>\n",
       "      <td>False</td>\n",
       "    </tr>\n",
       "    <tr>\n",
       "      <th>7</th>\n",
       "      <td>8942E64218C9A1ED</td>\n",
       "      <td>2020-12-07</td>\n",
       "      <td>EU</td>\n",
       "      <td>PC</td>\n",
       "      <td>False</td>\n",
       "    </tr>\n",
       "    <tr>\n",
       "      <th>9</th>\n",
       "      <td>FFCEA1179C253104</td>\n",
       "      <td>2020-12-07</td>\n",
       "      <td>EU</td>\n",
       "      <td>Android</td>\n",
       "      <td>False</td>\n",
       "    </tr>\n",
       "  </tbody>\n",
       "</table>\n",
       "</div>"
      ],
      "text/plain": [
       "            user_id  first_date region   device  test_participants\n",
       "0  D72A72121175D8BE  2020-12-07     EU       PC               True\n",
       "2  2E1BF1D4C37EA01F  2020-12-07     EU       PC              False\n",
       "3  50734A22C0C63768  2020-12-07     EU   iPhone              False\n",
       "7  8942E64218C9A1ED  2020-12-07     EU       PC              False\n",
       "9  FFCEA1179C253104  2020-12-07     EU  Android              False"
      ]
     },
     "execution_count": 13,
     "metadata": {},
     "output_type": "execute_result"
    }
   ],
   "source": [
    "# маркируем новых пользователей true/false исходя из участия в тесте\n",
    "\n",
    "df_new_users['test_participants'] = df_new_users['user_id'\n",
    "                                                ].isin(df_participants.query('ab_test == \"recommender_system_test\"'\n",
    "                                                                            )['user_id'].unique())\n",
    "df_new_users.head()"
   ]
  },
  {
   "cell_type": "code",
   "execution_count": 14,
   "id": "691d9a7b",
   "metadata": {
    "scrolled": true
   },
   "outputs": [
    {
     "name": "stdout",
     "output_type": "stream",
     "text": [
      "Доля пользователей, которые участвовали в тесте из EU, от общего числа пользователей из этого региона 0.15\n",
      "\n",
      "Кол-во участников нашего теста 6351\n"
     ]
    }
   ],
   "source": [
    "print('Доля пользователей, которые участвовали в тесте из EU, от общего числа пользователей из этого региона',\n",
    "len(df_new_users.query('test_participants == True')) / len(df_new_users))\n",
    "print()\n",
    "print('Кол-во участников нашего теста', \n",
    "len(df_new_users.query('test_participants == True')))"
   ]
  },
  {
   "cell_type": "markdown",
   "id": "58087064",
   "metadata": {},
   "source": [
    "**аудитория: в тест должно быть отобрано 15% новых пользователей из региона EU;**     \n",
    "**ожидаемое количество участников теста: 6000**    \n",
    "Эти пункты ТЗ соответствует к требованиям."
   ]
  },
  {
   "cell_type": "markdown",
   "id": "128c8ac6",
   "metadata": {},
   "source": [
    "### Проверка пересечении с конкурирующим тестом"
   ]
  },
  {
   "cell_type": "code",
   "execution_count": 15,
   "id": "5e702427",
   "metadata": {},
   "outputs": [
    {
     "data": {
      "text/plain": [
       "ab_test                  group\n",
       "interface_eu_test        A        5831\n",
       "                         B        5736\n",
       "recommender_system_test  A        3824\n",
       "                         B        2877\n",
       "dtype: int64"
      ]
     },
     "execution_count": 15,
     "metadata": {},
     "output_type": "execute_result"
    }
   ],
   "source": [
    "df_participants[['ab_test', 'group']].value_counts()"
   ]
  },
  {
   "cell_type": "markdown",
   "id": "1ed38577",
   "metadata": {},
   "source": [
    "Получается у нас в таблице df_participants хранятся данные двух тестов. Нам необходимо оценить, насколько база нашего теста пересекается с базой теста  interface_eu_test. Так как группа А контрольная, и в ней не было никаких изменении, пересечение с группой А теста interface_eu_test допустимо. \n",
    "\n",
    "А пересечение с группой В теста interface_eu_test необходимо оценить. "
   ]
  },
  {
   "cell_type": "code",
   "execution_count": 16,
   "id": "48f160c9",
   "metadata": {},
   "outputs": [
    {
     "name": "stdout",
     "output_type": "stream",
     "text": [
      "(6351, 6)\n",
      "кол-во уникальных user_id 6351\n"
     ]
    },
    {
     "data": {
      "text/html": [
       "<div>\n",
       "<style scoped>\n",
       "    .dataframe tbody tr th:only-of-type {\n",
       "        vertical-align: middle;\n",
       "    }\n",
       "\n",
       "    .dataframe tbody tr th {\n",
       "        vertical-align: top;\n",
       "    }\n",
       "\n",
       "    .dataframe thead th {\n",
       "        text-align: right;\n",
       "    }\n",
       "</style>\n",
       "<table border=\"1\" class=\"dataframe\">\n",
       "  <thead>\n",
       "    <tr style=\"text-align: right;\">\n",
       "      <th></th>\n",
       "      <th>user_id</th>\n",
       "      <th>first_date</th>\n",
       "      <th>region</th>\n",
       "      <th>device</th>\n",
       "      <th>group</th>\n",
       "      <th>ab_test</th>\n",
       "    </tr>\n",
       "  </thead>\n",
       "  <tbody>\n",
       "    <tr>\n",
       "      <th>0</th>\n",
       "      <td>D72A72121175D8BE</td>\n",
       "      <td>2020-12-07</td>\n",
       "      <td>EU</td>\n",
       "      <td>PC</td>\n",
       "      <td>A</td>\n",
       "      <td>recommender_system_test</td>\n",
       "    </tr>\n",
       "    <tr>\n",
       "      <th>1</th>\n",
       "      <td>E6DE857AFBDC6102</td>\n",
       "      <td>2020-12-07</td>\n",
       "      <td>EU</td>\n",
       "      <td>PC</td>\n",
       "      <td>B</td>\n",
       "      <td>recommender_system_test</td>\n",
       "    </tr>\n",
       "    <tr>\n",
       "      <th>2</th>\n",
       "      <td>DD4352CDCF8C3D57</td>\n",
       "      <td>2020-12-07</td>\n",
       "      <td>EU</td>\n",
       "      <td>Android</td>\n",
       "      <td>B</td>\n",
       "      <td>recommender_system_test</td>\n",
       "    </tr>\n",
       "    <tr>\n",
       "      <th>3</th>\n",
       "      <td>831887FE7F2D6CBA</td>\n",
       "      <td>2020-12-07</td>\n",
       "      <td>EU</td>\n",
       "      <td>Android</td>\n",
       "      <td>A</td>\n",
       "      <td>recommender_system_test</td>\n",
       "    </tr>\n",
       "    <tr>\n",
       "      <th>4</th>\n",
       "      <td>4CB179C7F847320B</td>\n",
       "      <td>2020-12-07</td>\n",
       "      <td>EU</td>\n",
       "      <td>iPhone</td>\n",
       "      <td>B</td>\n",
       "      <td>recommender_system_test</td>\n",
       "    </tr>\n",
       "  </tbody>\n",
       "</table>\n",
       "</div>"
      ],
      "text/plain": [
       "            user_id  first_date region   device group                  ab_test\n",
       "0  D72A72121175D8BE  2020-12-07     EU       PC     A  recommender_system_test\n",
       "1  E6DE857AFBDC6102  2020-12-07     EU       PC     B  recommender_system_test\n",
       "2  DD4352CDCF8C3D57  2020-12-07     EU  Android     B  recommender_system_test\n",
       "3  831887FE7F2D6CBA  2020-12-07     EU  Android     A  recommender_system_test\n",
       "4  4CB179C7F847320B  2020-12-07     EU   iPhone     B  recommender_system_test"
      ]
     },
     "execution_count": 16,
     "metadata": {},
     "output_type": "execute_result"
    }
   ],
   "source": [
    "# выведем участников нашего теста в отдельный датафрейм\n",
    "\n",
    "profiles = df_new_users.query('test_participants == True').drop(columns = 'test_participants')\n",
    "\n",
    "# добавим данные об участии в тесте\n",
    "\n",
    "profiles = profiles.merge(\n",
    "    df_participants.query('ab_test == \"recommender_system_test\"'), on='user_id', how='left'\n",
    ")\n",
    "print(profiles.shape)\n",
    "print('кол-во уникальных user_id', profiles['user_id'].nunique())\n",
    "profiles.head()"
   ]
  },
  {
   "cell_type": "code",
   "execution_count": 17,
   "id": "7be7ce9c",
   "metadata": {},
   "outputs": [
    {
     "data": {
      "text/html": [
       "<div>\n",
       "<style scoped>\n",
       "    .dataframe tbody tr th:only-of-type {\n",
       "        vertical-align: middle;\n",
       "    }\n",
       "\n",
       "    .dataframe tbody tr th {\n",
       "        vertical-align: top;\n",
       "    }\n",
       "\n",
       "    .dataframe thead th {\n",
       "        text-align: right;\n",
       "    }\n",
       "</style>\n",
       "<table border=\"1\" class=\"dataframe\">\n",
       "  <thead>\n",
       "    <tr style=\"text-align: right;\">\n",
       "      <th></th>\n",
       "      <th>user_id</th>\n",
       "      <th>first_date</th>\n",
       "      <th>region</th>\n",
       "      <th>device</th>\n",
       "      <th>group</th>\n",
       "      <th>ab_test</th>\n",
       "      <th>is_in_b_group_of_other_test</th>\n",
       "    </tr>\n",
       "  </thead>\n",
       "  <tbody>\n",
       "    <tr>\n",
       "      <th>0</th>\n",
       "      <td>D72A72121175D8BE</td>\n",
       "      <td>2020-12-07</td>\n",
       "      <td>EU</td>\n",
       "      <td>PC</td>\n",
       "      <td>A</td>\n",
       "      <td>recommender_system_test</td>\n",
       "      <td>False</td>\n",
       "    </tr>\n",
       "    <tr>\n",
       "      <th>1</th>\n",
       "      <td>E6DE857AFBDC6102</td>\n",
       "      <td>2020-12-07</td>\n",
       "      <td>EU</td>\n",
       "      <td>PC</td>\n",
       "      <td>B</td>\n",
       "      <td>recommender_system_test</td>\n",
       "      <td>True</td>\n",
       "    </tr>\n",
       "    <tr>\n",
       "      <th>2</th>\n",
       "      <td>DD4352CDCF8C3D57</td>\n",
       "      <td>2020-12-07</td>\n",
       "      <td>EU</td>\n",
       "      <td>Android</td>\n",
       "      <td>B</td>\n",
       "      <td>recommender_system_test</td>\n",
       "      <td>False</td>\n",
       "    </tr>\n",
       "    <tr>\n",
       "      <th>3</th>\n",
       "      <td>831887FE7F2D6CBA</td>\n",
       "      <td>2020-12-07</td>\n",
       "      <td>EU</td>\n",
       "      <td>Android</td>\n",
       "      <td>A</td>\n",
       "      <td>recommender_system_test</td>\n",
       "      <td>False</td>\n",
       "    </tr>\n",
       "    <tr>\n",
       "      <th>4</th>\n",
       "      <td>4CB179C7F847320B</td>\n",
       "      <td>2020-12-07</td>\n",
       "      <td>EU</td>\n",
       "      <td>iPhone</td>\n",
       "      <td>B</td>\n",
       "      <td>recommender_system_test</td>\n",
       "      <td>False</td>\n",
       "    </tr>\n",
       "  </tbody>\n",
       "</table>\n",
       "</div>"
      ],
      "text/plain": [
       "            user_id  first_date region   device group  \\\n",
       "0  D72A72121175D8BE  2020-12-07     EU       PC     A   \n",
       "1  E6DE857AFBDC6102  2020-12-07     EU       PC     B   \n",
       "2  DD4352CDCF8C3D57  2020-12-07     EU  Android     B   \n",
       "3  831887FE7F2D6CBA  2020-12-07     EU  Android     A   \n",
       "4  4CB179C7F847320B  2020-12-07     EU   iPhone     B   \n",
       "\n",
       "                   ab_test  is_in_b_group_of_other_test  \n",
       "0  recommender_system_test                        False  \n",
       "1  recommender_system_test                         True  \n",
       "2  recommender_system_test                        False  \n",
       "3  recommender_system_test                        False  \n",
       "4  recommender_system_test                        False  "
      ]
     },
     "metadata": {},
     "output_type": "display_data"
    },
    {
     "data": {
      "text/html": [
       "<div>\n",
       "<style scoped>\n",
       "    .dataframe tbody tr th:only-of-type {\n",
       "        vertical-align: middle;\n",
       "    }\n",
       "\n",
       "    .dataframe tbody tr th {\n",
       "        vertical-align: top;\n",
       "    }\n",
       "\n",
       "    .dataframe thead tr th {\n",
       "        text-align: left;\n",
       "    }\n",
       "\n",
       "    .dataframe thead tr:last-of-type th {\n",
       "        text-align: right;\n",
       "    }\n",
       "</style>\n",
       "<table border=\"1\" class=\"dataframe\">\n",
       "  <thead>\n",
       "    <tr>\n",
       "      <th></th>\n",
       "      <th colspan=\"3\" halign=\"left\">is_in_b_group_of_other_test</th>\n",
       "    </tr>\n",
       "    <tr>\n",
       "      <th></th>\n",
       "      <th>count</th>\n",
       "      <th>sum</th>\n",
       "      <th>mean</th>\n",
       "    </tr>\n",
       "    <tr>\n",
       "      <th>group</th>\n",
       "      <th></th>\n",
       "      <th></th>\n",
       "      <th></th>\n",
       "    </tr>\n",
       "  </thead>\n",
       "  <tbody>\n",
       "    <tr>\n",
       "      <th>A</th>\n",
       "      <td>3634</td>\n",
       "      <td>439</td>\n",
       "      <td>0.120804</td>\n",
       "    </tr>\n",
       "    <tr>\n",
       "      <th>B</th>\n",
       "      <td>2717</td>\n",
       "      <td>344</td>\n",
       "      <td>0.126610</td>\n",
       "    </tr>\n",
       "  </tbody>\n",
       "</table>\n",
       "</div>"
      ],
      "text/plain": [
       "      is_in_b_group_of_other_test               \n",
       "                            count  sum      mean\n",
       "group                                           \n",
       "A                            3634  439  0.120804\n",
       "B                            2717  344  0.126610"
      ]
     },
     "execution_count": 17,
     "metadata": {},
     "output_type": "execute_result"
    }
   ],
   "source": [
    "# добавим новый столбец, который будет маркировать пересекающихся в разных тестах пользователей\n",
    "\n",
    "profiles['is_in_b_group_of_other_test'] = profiles['user_id'].isin(df_participants.query(\n",
    "    'ab_test == \"interface_eu_test\" & group == \"B\"')['user_id'])\n",
    "display(profiles.head())\n",
    "\n",
    "# смотрим долю пересечении\n",
    "profiles.groupby('group').agg({'is_in_b_group_of_other_test': ['count', 'sum', 'mean']})\n"
   ]
  },
  {
   "cell_type": "code",
   "execution_count": 18,
   "id": "aa2ebb89",
   "metadata": {},
   "outputs": [
    {
     "name": "stdout",
     "output_type": "stream",
     "text": [
      "Пользователи, участвовавшие сразу в двух тестах: 1602\n",
      "\n",
      "Пользователи, участвовавшие сразу в двух тестах, и попавшие в тестовую группу нашего теста: 783\n",
      "\n",
      "Пользователи, участвовавшие сразу в двух тестах, и попавшие в контрольную группу нашего теста: 819\n"
     ]
    },
    {
     "data": {
      "text/html": [
       "<div>\n",
       "<style scoped>\n",
       "    .dataframe tbody tr th:only-of-type {\n",
       "        vertical-align: middle;\n",
       "    }\n",
       "\n",
       "    .dataframe tbody tr th {\n",
       "        vertical-align: top;\n",
       "    }\n",
       "\n",
       "    .dataframe thead th {\n",
       "        text-align: right;\n",
       "    }\n",
       "</style>\n",
       "<table border=\"1\" class=\"dataframe\">\n",
       "  <thead>\n",
       "    <tr style=\"text-align: right;\">\n",
       "      <th></th>\n",
       "      <th>group</th>\n",
       "      <th>users_count</th>\n",
       "      <th>intersections_test_group</th>\n",
       "      <th>share_test_gr</th>\n",
       "      <th>intersections_control_group</th>\n",
       "      <th>share_control_gr</th>\n",
       "    </tr>\n",
       "  </thead>\n",
       "  <tbody>\n",
       "    <tr>\n",
       "      <th>0</th>\n",
       "      <td>A</td>\n",
       "      <td>3634</td>\n",
       "      <td>439</td>\n",
       "      <td>0.120804</td>\n",
       "      <td>482</td>\n",
       "      <td>0.132636</td>\n",
       "    </tr>\n",
       "    <tr>\n",
       "      <th>1</th>\n",
       "      <td>B</td>\n",
       "      <td>2717</td>\n",
       "      <td>344</td>\n",
       "      <td>0.126610</td>\n",
       "      <td>337</td>\n",
       "      <td>0.124034</td>\n",
       "    </tr>\n",
       "  </tbody>\n",
       "</table>\n",
       "</div>"
      ],
      "text/plain": [
       "  group  users_count  intersections_test_group  share_test_gr  \\\n",
       "0     A         3634                       439       0.120804   \n",
       "1     B         2717                       344       0.126610   \n",
       "\n",
       "   intersections_control_group  share_control_gr  \n",
       "0                          482          0.132636  \n",
       "1                          337          0.124034  "
      ]
     },
     "execution_count": 18,
     "metadata": {},
     "output_type": "execute_result"
    }
   ],
   "source": [
    "# добавим новый столбец, который будет маркировать пересекающихся в разных тестах пользователей\n",
    "\n",
    "profiles['is_in_test_group'] = profiles['user_id'].isin(df_participants.query(\n",
    "    'ab_test == \"interface_eu_test\" & group == \"B\"')['user_id'])\n",
    "profiles['is_in_control_group'] = profiles['user_id'].isin(df_participants.query(\n",
    "    'ab_test == \"interface_eu_test\" & group == \"A\"')['user_id'])\n",
    "\n",
    "# смотрим долю пересечении\n",
    "intersection = profiles.groupby('group').agg(\n",
    "    {'is_in_test_group': ['count', 'sum', 'mean'], 'is_in_control_group': ['sum', 'mean']}).reset_index()\n",
    "intersection.columns = ['group', 'users_count', 'intersections_test_group', 'share_test_gr', 'intersections_control_group', 'share_control_gr']\n",
    "print('Пользователи, участвовавшие сразу в двух тестах:', \n",
    "     profiles['is_in_test_group'].sum() + profiles['is_in_control_group'].sum())\n",
    "print()\n",
    "print('Пользователи, участвовавшие сразу в двух тестах, и попавшие в тестовую группу нашего теста:', \n",
    "     profiles['is_in_test_group'].sum())\n",
    "print()\n",
    "print('Пользователи, участвовавшие сразу в двух тестах, и попавшие в контрольную группу нашего теста:', \n",
    "     profiles['is_in_control_group'].sum())\n",
    "\n",
    "\n",
    "intersection"
   ]
  },
  {
   "cell_type": "markdown",
   "id": "a77cee06",
   "metadata": {},
   "source": [
    "Так как у нас база для теста не сильно превышает требуемый объем, а также пересечение с группой В теста interface_eu_test примерно одинаковое (difference < 1%) в обоих группах нашего теста принимаем решение оставить данных пользователей в нашем тесте для дальнейшего анализа."
   ]
  },
  {
   "cell_type": "code",
   "execution_count": 19,
   "id": "67213dc5",
   "metadata": {},
   "outputs": [
    {
     "data": {
      "text/html": [
       "<div>\n",
       "<style scoped>\n",
       "    .dataframe tbody tr th:only-of-type {\n",
       "        vertical-align: middle;\n",
       "    }\n",
       "\n",
       "    .dataframe tbody tr th {\n",
       "        vertical-align: top;\n",
       "    }\n",
       "\n",
       "    .dataframe thead th {\n",
       "        text-align: right;\n",
       "    }\n",
       "</style>\n",
       "<table border=\"1\" class=\"dataframe\">\n",
       "  <thead>\n",
       "    <tr style=\"text-align: right;\">\n",
       "      <th></th>\n",
       "      <th>user_id</th>\n",
       "      <th>first_date</th>\n",
       "      <th>region</th>\n",
       "      <th>device</th>\n",
       "      <th>group</th>\n",
       "      <th>is_in_test_group</th>\n",
       "      <th>is_in_control_group</th>\n",
       "    </tr>\n",
       "  </thead>\n",
       "  <tbody>\n",
       "    <tr>\n",
       "      <th>0</th>\n",
       "      <td>D72A72121175D8BE</td>\n",
       "      <td>2020-12-07</td>\n",
       "      <td>EU</td>\n",
       "      <td>PC</td>\n",
       "      <td>A</td>\n",
       "      <td>False</td>\n",
       "      <td>False</td>\n",
       "    </tr>\n",
       "    <tr>\n",
       "      <th>1</th>\n",
       "      <td>E6DE857AFBDC6102</td>\n",
       "      <td>2020-12-07</td>\n",
       "      <td>EU</td>\n",
       "      <td>PC</td>\n",
       "      <td>B</td>\n",
       "      <td>True</td>\n",
       "      <td>False</td>\n",
       "    </tr>\n",
       "    <tr>\n",
       "      <th>2</th>\n",
       "      <td>DD4352CDCF8C3D57</td>\n",
       "      <td>2020-12-07</td>\n",
       "      <td>EU</td>\n",
       "      <td>Android</td>\n",
       "      <td>B</td>\n",
       "      <td>False</td>\n",
       "      <td>True</td>\n",
       "    </tr>\n",
       "    <tr>\n",
       "      <th>3</th>\n",
       "      <td>831887FE7F2D6CBA</td>\n",
       "      <td>2020-12-07</td>\n",
       "      <td>EU</td>\n",
       "      <td>Android</td>\n",
       "      <td>A</td>\n",
       "      <td>False</td>\n",
       "      <td>False</td>\n",
       "    </tr>\n",
       "    <tr>\n",
       "      <th>4</th>\n",
       "      <td>4CB179C7F847320B</td>\n",
       "      <td>2020-12-07</td>\n",
       "      <td>EU</td>\n",
       "      <td>iPhone</td>\n",
       "      <td>B</td>\n",
       "      <td>False</td>\n",
       "      <td>False</td>\n",
       "    </tr>\n",
       "  </tbody>\n",
       "</table>\n",
       "</div>"
      ],
      "text/plain": [
       "            user_id  first_date region   device group  is_in_test_group  \\\n",
       "0  D72A72121175D8BE  2020-12-07     EU       PC     A             False   \n",
       "1  E6DE857AFBDC6102  2020-12-07     EU       PC     B              True   \n",
       "2  DD4352CDCF8C3D57  2020-12-07     EU  Android     B             False   \n",
       "3  831887FE7F2D6CBA  2020-12-07     EU  Android     A             False   \n",
       "4  4CB179C7F847320B  2020-12-07     EU   iPhone     B             False   \n",
       "\n",
       "   is_in_control_group  \n",
       "0                False  \n",
       "1                False  \n",
       "2                 True  \n",
       "3                False  \n",
       "4                False  "
      ]
     },
     "execution_count": 19,
     "metadata": {},
     "output_type": "execute_result"
    }
   ],
   "source": [
    "# удалим далее неиспользуемые столбцы\n",
    "profiles = profiles.drop(columns=['ab_test', 'is_in_b_group_of_other_test'])\n",
    "profiles.head()"
   ]
  },
  {
   "cell_type": "markdown",
   "id": "28039b6f",
   "metadata": {},
   "source": [
    "### Влияние маркетинговых активностей"
   ]
  },
  {
   "cell_type": "code",
   "execution_count": 20,
   "id": "a3cd0f9f",
   "metadata": {},
   "outputs": [
    {
     "data": {
      "text/html": [
       "<div>\n",
       "<style scoped>\n",
       "    .dataframe tbody tr th:only-of-type {\n",
       "        vertical-align: middle;\n",
       "    }\n",
       "\n",
       "    .dataframe tbody tr th {\n",
       "        vertical-align: top;\n",
       "    }\n",
       "\n",
       "    .dataframe thead th {\n",
       "        text-align: right;\n",
       "    }\n",
       "</style>\n",
       "<table border=\"1\" class=\"dataframe\">\n",
       "  <thead>\n",
       "    <tr style=\"text-align: right;\">\n",
       "      <th></th>\n",
       "      <th>name</th>\n",
       "      <th>regions</th>\n",
       "      <th>start_dt</th>\n",
       "      <th>finish_dt</th>\n",
       "    </tr>\n",
       "  </thead>\n",
       "  <tbody>\n",
       "    <tr>\n",
       "      <th>0</th>\n",
       "      <td>Christmas&amp;New Year Promo</td>\n",
       "      <td>EU, N.America</td>\n",
       "      <td>2020-12-25</td>\n",
       "      <td>2021-01-03</td>\n",
       "    </tr>\n",
       "    <tr>\n",
       "      <th>10</th>\n",
       "      <td>CIS New Year Gift Lottery</td>\n",
       "      <td>CIS</td>\n",
       "      <td>2020-12-30</td>\n",
       "      <td>2021-01-07</td>\n",
       "    </tr>\n",
       "  </tbody>\n",
       "</table>\n",
       "</div>"
      ],
      "text/plain": [
       "                         name        regions    start_dt   finish_dt\n",
       "0    Christmas&New Year Promo  EU, N.America  2020-12-25  2021-01-03\n",
       "10  CIS New Year Gift Lottery            CIS  2020-12-30  2021-01-07"
      ]
     },
     "execution_count": 20,
     "metadata": {},
     "output_type": "execute_result"
    }
   ],
   "source": [
    "# исходя из отфильтрованной по датам маркетинговой таблицы, одна из активностей проводилась в период нашего теста\n",
    "# в регионе нашего теста\n",
    "\n",
    "df_marketing_events"
   ]
  },
  {
   "cell_type": "code",
   "execution_count": 21,
   "id": "f2284692",
   "metadata": {},
   "outputs": [
    {
     "data": {
      "image/png": "[encoded data removed]",
      "text/plain": [
       "<Figure size 1500x500 with 1 Axes>"
      ]
     },
     "metadata": {},
     "output_type": "display_data"
    }
   ],
   "source": [
    "# смотрим как изменилась динамика событии по датам до и после начала маркетинговой активности\n",
    "df_ab_events.groupby('event_dt').agg({'user_id': 'count'}\n",
    "                                        ).plot(grid=True, figsize=(15, 5))\n",
    "plt.axvline(x='2020-12-25', color='red', linestyle='--', label='Дата начала маркетинговой акции')\n",
    "\n",
    "plt.title('Динамика кол-ва событии за время теста')\n",
    "plt.xlabel('Дата')\n",
    "plt.ylabel('Кол-во событии')\n",
    "plt.legend()\n",
    "\n",
    "plt.show()"
   ]
  },
  {
   "cell_type": "markdown",
   "id": "88b77fa0",
   "metadata": {},
   "source": [
    "Резких скачков в кол-ве событии после начала маркетинговой активности не заметно. Нисходящий тренд начался до старта активности, и однозначно связать это падение с маркетинговой активностью нельзя"
   ]
  },
  {
   "cell_type": "markdown",
   "id": "dad8b15d",
   "metadata": {},
   "source": [
    "### Лайфтайм 14 дней с момента регистрации"
   ]
  },
  {
   "cell_type": "markdown",
   "id": "86960b4f",
   "metadata": {},
   "source": [
    "Выполнение каких либо дейстии клиентом - последний пункт проверки по ТЗ. До этого можем проверить насколько корректно делился трафик при регистрации клиентов на разные группы. У нас все зарегистрированные клиенты, которые попадают по датам, региону и т.д. находятся в датафрейме profiles. "
   ]
  },
  {
   "cell_type": "code",
   "execution_count": 22,
   "id": "e83689b3",
   "metadata": {},
   "outputs": [
    {
     "name": "stdout",
     "output_type": "stream",
     "text": [
      "(6351, 7)\n"
     ]
    },
    {
     "data": {
      "text/html": [
       "<div>\n",
       "<style scoped>\n",
       "    .dataframe tbody tr th:only-of-type {\n",
       "        vertical-align: middle;\n",
       "    }\n",
       "\n",
       "    .dataframe tbody tr th {\n",
       "        vertical-align: top;\n",
       "    }\n",
       "\n",
       "    .dataframe thead th {\n",
       "        text-align: right;\n",
       "    }\n",
       "</style>\n",
       "<table border=\"1\" class=\"dataframe\">\n",
       "  <thead>\n",
       "    <tr style=\"text-align: right;\">\n",
       "      <th></th>\n",
       "      <th>user_id</th>\n",
       "      <th>first_date</th>\n",
       "      <th>region</th>\n",
       "      <th>device</th>\n",
       "      <th>group</th>\n",
       "      <th>is_in_test_group</th>\n",
       "      <th>is_in_control_group</th>\n",
       "    </tr>\n",
       "  </thead>\n",
       "  <tbody>\n",
       "    <tr>\n",
       "      <th>0</th>\n",
       "      <td>D72A72121175D8BE</td>\n",
       "      <td>2020-12-07</td>\n",
       "      <td>EU</td>\n",
       "      <td>PC</td>\n",
       "      <td>A</td>\n",
       "      <td>False</td>\n",
       "      <td>False</td>\n",
       "    </tr>\n",
       "    <tr>\n",
       "      <th>1</th>\n",
       "      <td>E6DE857AFBDC6102</td>\n",
       "      <td>2020-12-07</td>\n",
       "      <td>EU</td>\n",
       "      <td>PC</td>\n",
       "      <td>B</td>\n",
       "      <td>True</td>\n",
       "      <td>False</td>\n",
       "    </tr>\n",
       "    <tr>\n",
       "      <th>2</th>\n",
       "      <td>DD4352CDCF8C3D57</td>\n",
       "      <td>2020-12-07</td>\n",
       "      <td>EU</td>\n",
       "      <td>Android</td>\n",
       "      <td>B</td>\n",
       "      <td>False</td>\n",
       "      <td>True</td>\n",
       "    </tr>\n",
       "    <tr>\n",
       "      <th>3</th>\n",
       "      <td>831887FE7F2D6CBA</td>\n",
       "      <td>2020-12-07</td>\n",
       "      <td>EU</td>\n",
       "      <td>Android</td>\n",
       "      <td>A</td>\n",
       "      <td>False</td>\n",
       "      <td>False</td>\n",
       "    </tr>\n",
       "    <tr>\n",
       "      <th>4</th>\n",
       "      <td>4CB179C7F847320B</td>\n",
       "      <td>2020-12-07</td>\n",
       "      <td>EU</td>\n",
       "      <td>iPhone</td>\n",
       "      <td>B</td>\n",
       "      <td>False</td>\n",
       "      <td>False</td>\n",
       "    </tr>\n",
       "  </tbody>\n",
       "</table>\n",
       "</div>"
      ],
      "text/plain": [
       "            user_id  first_date region   device group  is_in_test_group  \\\n",
       "0  D72A72121175D8BE  2020-12-07     EU       PC     A             False   \n",
       "1  E6DE857AFBDC6102  2020-12-07     EU       PC     B              True   \n",
       "2  DD4352CDCF8C3D57  2020-12-07     EU  Android     B             False   \n",
       "3  831887FE7F2D6CBA  2020-12-07     EU  Android     A             False   \n",
       "4  4CB179C7F847320B  2020-12-07     EU   iPhone     B             False   \n",
       "\n",
       "   is_in_control_group  \n",
       "0                False  \n",
       "1                False  \n",
       "2                 True  \n",
       "3                False  \n",
       "4                False  "
      ]
     },
     "execution_count": 22,
     "metadata": {},
     "output_type": "execute_result"
    }
   ],
   "source": [
    "print(profiles.shape)\n",
    "profiles.head()"
   ]
  },
  {
   "cell_type": "code",
   "execution_count": 23,
   "id": "5081f697",
   "metadata": {},
   "outputs": [
    {
     "data": {
      "text/plain": [
       "group\n",
       "A    3634\n",
       "B    2717\n",
       "Name: user_id, dtype: int64"
      ]
     },
     "execution_count": 23,
     "metadata": {},
     "output_type": "execute_result"
    }
   ],
   "source": [
    "profiles.groupby('group')['user_id'].nunique()"
   ]
  },
  {
   "cell_type": "markdown",
   "id": "864cc202",
   "metadata": {},
   "source": [
    "У нас в целом набралось 6351 пользователей - участников теста.     \n",
    "- Пользователи разделены на группы (A/B). Кол-во пользователей в группах сильно разнятся: в группе В на ~25% меньше пользователей чем в группе А. Распределение по группам А/В: 57,2%/42,8%.\n",
    "- По всем участникам имеются одни и те же данные (метрики): даты регистрации, и целевых действии (login, - product_page, product_card, purchase), сумма покупок, тип девайса и кол-во целевых действии.     \n",
    "- Клиенты в группах уникальные, т.е. не дублируются в разных группах теста.     \n",
    "Далее будем смотреть на различие ключевых метрик по группам, по ТЗ ожидаемый эффект не менее 10%."
   ]
  },
  {
   "cell_type": "code",
   "execution_count": 24,
   "id": "447b4511",
   "metadata": {},
   "outputs": [
    {
     "name": "stdout",
     "output_type": "stream",
     "text": [
      "(26290, 10)\n"
     ]
    },
    {
     "data": {
      "text/html": [
       "<div>\n",
       "<style scoped>\n",
       "    .dataframe tbody tr th:only-of-type {\n",
       "        vertical-align: middle;\n",
       "    }\n",
       "\n",
       "    .dataframe tbody tr th {\n",
       "        vertical-align: top;\n",
       "    }\n",
       "\n",
       "    .dataframe thead th {\n",
       "        text-align: right;\n",
       "    }\n",
       "</style>\n",
       "<table border=\"1\" class=\"dataframe\">\n",
       "  <thead>\n",
       "    <tr style=\"text-align: right;\">\n",
       "      <th></th>\n",
       "      <th>user_id</th>\n",
       "      <th>first_date</th>\n",
       "      <th>region</th>\n",
       "      <th>device</th>\n",
       "      <th>group</th>\n",
       "      <th>is_in_test_group</th>\n",
       "      <th>is_in_control_group</th>\n",
       "      <th>event_dt</th>\n",
       "      <th>event_name</th>\n",
       "      <th>details</th>\n",
       "    </tr>\n",
       "  </thead>\n",
       "  <tbody>\n",
       "    <tr>\n",
       "      <th>0</th>\n",
       "      <td>D72A72121175D8BE</td>\n",
       "      <td>2020-12-07</td>\n",
       "      <td>EU</td>\n",
       "      <td>PC</td>\n",
       "      <td>A</td>\n",
       "      <td>False</td>\n",
       "      <td>False</td>\n",
       "      <td>2020-12-07</td>\n",
       "      <td>product_page</td>\n",
       "      <td>NaN</td>\n",
       "    </tr>\n",
       "    <tr>\n",
       "      <th>1</th>\n",
       "      <td>D72A72121175D8BE</td>\n",
       "      <td>2020-12-07</td>\n",
       "      <td>EU</td>\n",
       "      <td>PC</td>\n",
       "      <td>A</td>\n",
       "      <td>False</td>\n",
       "      <td>False</td>\n",
       "      <td>2020-12-07</td>\n",
       "      <td>login</td>\n",
       "      <td>NaN</td>\n",
       "    </tr>\n",
       "    <tr>\n",
       "      <th>2</th>\n",
       "      <td>E6DE857AFBDC6102</td>\n",
       "      <td>2020-12-07</td>\n",
       "      <td>EU</td>\n",
       "      <td>PC</td>\n",
       "      <td>B</td>\n",
       "      <td>True</td>\n",
       "      <td>False</td>\n",
       "      <td>NaN</td>\n",
       "      <td>NaN</td>\n",
       "      <td>NaN</td>\n",
       "    </tr>\n",
       "    <tr>\n",
       "      <th>3</th>\n",
       "      <td>DD4352CDCF8C3D57</td>\n",
       "      <td>2020-12-07</td>\n",
       "      <td>EU</td>\n",
       "      <td>Android</td>\n",
       "      <td>B</td>\n",
       "      <td>False</td>\n",
       "      <td>True</td>\n",
       "      <td>2020-12-07</td>\n",
       "      <td>product_page</td>\n",
       "      <td>NaN</td>\n",
       "    </tr>\n",
       "    <tr>\n",
       "      <th>4</th>\n",
       "      <td>DD4352CDCF8C3D57</td>\n",
       "      <td>2020-12-07</td>\n",
       "      <td>EU</td>\n",
       "      <td>Android</td>\n",
       "      <td>B</td>\n",
       "      <td>False</td>\n",
       "      <td>True</td>\n",
       "      <td>2020-12-08</td>\n",
       "      <td>product_page</td>\n",
       "      <td>NaN</td>\n",
       "    </tr>\n",
       "  </tbody>\n",
       "</table>\n",
       "</div>"
      ],
      "text/plain": [
       "            user_id  first_date region   device group  is_in_test_group  \\\n",
       "0  D72A72121175D8BE  2020-12-07     EU       PC     A             False   \n",
       "1  D72A72121175D8BE  2020-12-07     EU       PC     A             False   \n",
       "2  E6DE857AFBDC6102  2020-12-07     EU       PC     B              True   \n",
       "3  DD4352CDCF8C3D57  2020-12-07     EU  Android     B             False   \n",
       "4  DD4352CDCF8C3D57  2020-12-07     EU  Android     B             False   \n",
       "\n",
       "   is_in_control_group    event_dt    event_name  details  \n",
       "0                False  2020-12-07  product_page      NaN  \n",
       "1                False  2020-12-07         login      NaN  \n",
       "2                False         NaN           NaN      NaN  \n",
       "3                 True  2020-12-07  product_page      NaN  \n",
       "4                 True  2020-12-08  product_page      NaN  "
      ]
     },
     "execution_count": 24,
     "metadata": {},
     "output_type": "execute_result"
    }
   ],
   "source": [
    "# добавляем данные о событиях в профили\n",
    "\n",
    "merged_df = profiles.merge(\n",
    "    df_ab_events[['user_id', 'event_dt', 'event_name', 'details']], on='user_id', how='left')\n",
    "\n",
    "print(merged_df.shape)\n",
    "merged_df.head()"
   ]
  },
  {
   "cell_type": "code",
   "execution_count": 25,
   "id": "c9a11794",
   "metadata": {},
   "outputs": [
    {
     "name": "stdout",
     "output_type": "stream",
     "text": [
      "6351\n"
     ]
    }
   ],
   "source": [
    "# убеждаемся что никого не потеряли на джойнах\n",
    "print(merged_df['user_id'].nunique())\n",
    "\n",
    "# рассчитываем лайфтайм для каждого события\n",
    "\n",
    "merged_df['lifetime'] = (merged_df['event_dt'] - merged_df['first_date']).dt.days"
   ]
  },
  {
   "cell_type": "markdown",
   "id": "97bd8a27",
   "metadata": {},
   "source": [
    "Мы убедились что все клиенты из profiles перешли в merged_df, и рассчитали лайфтайм для каждой транзакции. По лайфтайму у нас пользователи разделятся на 3 группы:\n",
    "- кто не совершал активности\n",
    "- кто совершал активности после тестового периода (>14 дней)\n",
    "- активные в период теста\n",
    "\n",
    "Далее в рамках исследовательского анализа, мы будем рассматривать только клиентов, которые были активны в период проведения теста. Поэтому на данном этапе нам необходимо вырезать нужные строки из merged_df, и оценить потери в каждом из групп (А/В). \n",
    "При этом, некоторые клиенты могут быть активны и в период проведения теста и после этого периода. "
   ]
  },
  {
   "cell_type": "code",
   "execution_count": 26,
   "id": "d99a64df",
   "metadata": {},
   "outputs": [
    {
     "data": {
      "text/html": [
       "<div>\n",
       "<style scoped>\n",
       "    .dataframe tbody tr th:only-of-type {\n",
       "        vertical-align: middle;\n",
       "    }\n",
       "\n",
       "    .dataframe tbody tr th {\n",
       "        vertical-align: top;\n",
       "    }\n",
       "\n",
       "    .dataframe thead th {\n",
       "        text-align: right;\n",
       "    }\n",
       "</style>\n",
       "<table border=\"1\" class=\"dataframe\">\n",
       "  <thead>\n",
       "    <tr style=\"text-align: right;\">\n",
       "      <th></th>\n",
       "      <th>user_id</th>\n",
       "      <th>first_date</th>\n",
       "      <th>region</th>\n",
       "      <th>device</th>\n",
       "      <th>group</th>\n",
       "      <th>is_in_test_group</th>\n",
       "      <th>is_in_control_group</th>\n",
       "      <th>event_dt</th>\n",
       "      <th>event_name</th>\n",
       "      <th>details</th>\n",
       "      <th>lifetime</th>\n",
       "      <th>user_group</th>\n",
       "    </tr>\n",
       "  </thead>\n",
       "  <tbody>\n",
       "    <tr>\n",
       "      <th>0</th>\n",
       "      <td>D72A72121175D8BE</td>\n",
       "      <td>2020-12-07</td>\n",
       "      <td>EU</td>\n",
       "      <td>PC</td>\n",
       "      <td>A</td>\n",
       "      <td>False</td>\n",
       "      <td>False</td>\n",
       "      <td>2020-12-07</td>\n",
       "      <td>product_page</td>\n",
       "      <td>NaN</td>\n",
       "      <td>0.0</td>\n",
       "      <td>Active</td>\n",
       "    </tr>\n",
       "    <tr>\n",
       "      <th>1</th>\n",
       "      <td>D72A72121175D8BE</td>\n",
       "      <td>2020-12-07</td>\n",
       "      <td>EU</td>\n",
       "      <td>PC</td>\n",
       "      <td>A</td>\n",
       "      <td>False</td>\n",
       "      <td>False</td>\n",
       "      <td>2020-12-07</td>\n",
       "      <td>login</td>\n",
       "      <td>NaN</td>\n",
       "      <td>0.0</td>\n",
       "      <td>Active</td>\n",
       "    </tr>\n",
       "    <tr>\n",
       "      <th>2</th>\n",
       "      <td>E6DE857AFBDC6102</td>\n",
       "      <td>2020-12-07</td>\n",
       "      <td>EU</td>\n",
       "      <td>PC</td>\n",
       "      <td>B</td>\n",
       "      <td>True</td>\n",
       "      <td>False</td>\n",
       "      <td>NaN</td>\n",
       "      <td>NaN</td>\n",
       "      <td>NaN</td>\n",
       "      <td>NaN</td>\n",
       "      <td>Has no activity</td>\n",
       "    </tr>\n",
       "    <tr>\n",
       "      <th>3</th>\n",
       "      <td>DD4352CDCF8C3D57</td>\n",
       "      <td>2020-12-07</td>\n",
       "      <td>EU</td>\n",
       "      <td>Android</td>\n",
       "      <td>B</td>\n",
       "      <td>False</td>\n",
       "      <td>True</td>\n",
       "      <td>2020-12-07</td>\n",
       "      <td>product_page</td>\n",
       "      <td>NaN</td>\n",
       "      <td>0.0</td>\n",
       "      <td>Active</td>\n",
       "    </tr>\n",
       "    <tr>\n",
       "      <th>4</th>\n",
       "      <td>DD4352CDCF8C3D57</td>\n",
       "      <td>2020-12-07</td>\n",
       "      <td>EU</td>\n",
       "      <td>Android</td>\n",
       "      <td>B</td>\n",
       "      <td>False</td>\n",
       "      <td>True</td>\n",
       "      <td>2020-12-08</td>\n",
       "      <td>product_page</td>\n",
       "      <td>NaN</td>\n",
       "      <td>1.0</td>\n",
       "      <td>Active</td>\n",
       "    </tr>\n",
       "  </tbody>\n",
       "</table>\n",
       "</div>"
      ],
      "text/plain": [
       "            user_id  first_date region   device group  is_in_test_group  \\\n",
       "0  D72A72121175D8BE  2020-12-07     EU       PC     A             False   \n",
       "1  D72A72121175D8BE  2020-12-07     EU       PC     A             False   \n",
       "2  E6DE857AFBDC6102  2020-12-07     EU       PC     B              True   \n",
       "3  DD4352CDCF8C3D57  2020-12-07     EU  Android     B             False   \n",
       "4  DD4352CDCF8C3D57  2020-12-07     EU  Android     B             False   \n",
       "\n",
       "   is_in_control_group    event_dt    event_name  details  lifetime  \\\n",
       "0                False  2020-12-07  product_page      NaN       0.0   \n",
       "1                False  2020-12-07         login      NaN       0.0   \n",
       "2                False         NaN           NaN      NaN       NaN   \n",
       "3                 True  2020-12-07  product_page      NaN       0.0   \n",
       "4                 True  2020-12-08  product_page      NaN       1.0   \n",
       "\n",
       "        user_group  \n",
       "0           Active  \n",
       "1           Active  \n",
       "2  Has no activity  \n",
       "3           Active  \n",
       "4           Active  "
      ]
     },
     "execution_count": 26,
     "metadata": {},
     "output_type": "execute_result"
    }
   ],
   "source": [
    "# маркируем транзакции пользователей в разные категории\n",
    "\n",
    "def user_group(lifetime):\n",
    "    if math.isnan(lifetime):\n",
    "        return 'Has no activity'\n",
    "    if 0 <= lifetime < 14:\n",
    "        return 'Active'\n",
    "    if lifetime >= 14:\n",
    "        return 'Activity is out of test'  \n",
    "\n",
    "merged_df['user_group'] = merged_df['lifetime'].apply(user_group)\n",
    "\n",
    "merged_df.head()"
   ]
  },
  {
   "cell_type": "code",
   "execution_count": 27,
   "id": "3c3c010e",
   "metadata": {},
   "outputs": [
    {
     "data": {
      "text/html": [
       "<div>\n",
       "<style scoped>\n",
       "    .dataframe tbody tr th:only-of-type {\n",
       "        vertical-align: middle;\n",
       "    }\n",
       "\n",
       "    .dataframe tbody tr th {\n",
       "        vertical-align: top;\n",
       "    }\n",
       "\n",
       "    .dataframe thead th {\n",
       "        text-align: right;\n",
       "    }\n",
       "</style>\n",
       "<table border=\"1\" class=\"dataframe\">\n",
       "  <thead>\n",
       "    <tr style=\"text-align: right;\">\n",
       "      <th>user_group</th>\n",
       "      <th>group</th>\n",
       "      <th>Active</th>\n",
       "      <th>Activity is out of test</th>\n",
       "      <th>Has no activity</th>\n",
       "      <th>total_count</th>\n",
       "      <th>Active_share</th>\n",
       "      <th>Activity is out of test_share</th>\n",
       "      <th>Has no activity_share</th>\n",
       "    </tr>\n",
       "  </thead>\n",
       "  <tbody>\n",
       "    <tr>\n",
       "      <th>0</th>\n",
       "      <td>A</td>\n",
       "      <td>2604</td>\n",
       "      <td>199</td>\n",
       "      <td>1030</td>\n",
       "      <td>3833</td>\n",
       "      <td>0.679363</td>\n",
       "      <td>0.051918</td>\n",
       "      <td>0.268719</td>\n",
       "    </tr>\n",
       "    <tr>\n",
       "      <th>1</th>\n",
       "      <td>B</td>\n",
       "      <td>877</td>\n",
       "      <td>135</td>\n",
       "      <td>1840</td>\n",
       "      <td>2852</td>\n",
       "      <td>0.307504</td>\n",
       "      <td>0.047335</td>\n",
       "      <td>0.645161</td>\n",
       "    </tr>\n",
       "  </tbody>\n",
       "</table>\n",
       "</div>"
      ],
      "text/plain": [
       "user_group group  Active  Activity is out of test  Has no activity  \\\n",
       "0              A    2604                      199             1030   \n",
       "1              B     877                      135             1840   \n",
       "\n",
       "user_group  total_count  Active_share  Activity is out of test_share  \\\n",
       "0                  3833      0.679363                       0.051918   \n",
       "1                  2852      0.307504                       0.047335   \n",
       "\n",
       "user_group  Has no activity_share  \n",
       "0                        0.268719  \n",
       "1                        0.645161  "
      ]
     },
     "execution_count": 27,
     "metadata": {},
     "output_type": "execute_result"
    }
   ],
   "source": [
    "# смотрим долю пользователей в разбивке по группам и категориям\n",
    "\n",
    "pivot_df = merged_df.pivot_table(\n",
    "    index='group', columns='user_group', values='user_id', aggfunc='nunique').reset_index()\n",
    "pivot_df['total_count'] = pivot_df.iloc[:, 1:].sum(axis=1)\n",
    "\n",
    "for col in pivot_df.columns[1:-1]:\n",
    "    pivot_df[col + '_share'] = pivot_df[col] / pivot_df['total_count']\n",
    "pivot_df"
   ]
  },
  {
   "cell_type": "markdown",
   "id": "84bed45e",
   "metadata": {},
   "source": [
    "На исследовательский анализ мы забираем 3481 пользователей\n",
    "Из них в группе А - 2604, в группе В - 877 (распределение по группам А/В - 75%/25%)\n",
    "\n",
    "Стоит отметить, что в группе А 26,8% участников теста отвалились на данном этапе из-за неактивности, в то время как в группе В этот показатель равен 64,5%."
   ]
  },
  {
   "cell_type": "code",
   "execution_count": 28,
   "id": "d1a82a86",
   "metadata": {},
   "outputs": [
    {
     "data": {
      "text/html": [
       "<div>\n",
       "<style scoped>\n",
       "    .dataframe tbody tr th:only-of-type {\n",
       "        vertical-align: middle;\n",
       "    }\n",
       "\n",
       "    .dataframe tbody tr th {\n",
       "        vertical-align: top;\n",
       "    }\n",
       "\n",
       "    .dataframe thead th {\n",
       "        text-align: right;\n",
       "    }\n",
       "</style>\n",
       "<table border=\"1\" class=\"dataframe\">\n",
       "  <thead>\n",
       "    <tr style=\"text-align: right;\">\n",
       "      <th></th>\n",
       "      <th>user_id</th>\n",
       "      <th>first_date</th>\n",
       "      <th>region</th>\n",
       "      <th>device</th>\n",
       "      <th>group</th>\n",
       "      <th>is_in_test_group</th>\n",
       "      <th>is_in_control_group</th>\n",
       "      <th>event_dt</th>\n",
       "      <th>event_name</th>\n",
       "      <th>details</th>\n",
       "      <th>lifetime</th>\n",
       "    </tr>\n",
       "  </thead>\n",
       "  <tbody>\n",
       "    <tr>\n",
       "      <th>0</th>\n",
       "      <td>D72A72121175D8BE</td>\n",
       "      <td>2020-12-07</td>\n",
       "      <td>EU</td>\n",
       "      <td>PC</td>\n",
       "      <td>A</td>\n",
       "      <td>False</td>\n",
       "      <td>False</td>\n",
       "      <td>2020-12-07</td>\n",
       "      <td>product_page</td>\n",
       "      <td>NaN</td>\n",
       "      <td>0.0</td>\n",
       "    </tr>\n",
       "    <tr>\n",
       "      <th>1</th>\n",
       "      <td>D72A72121175D8BE</td>\n",
       "      <td>2020-12-07</td>\n",
       "      <td>EU</td>\n",
       "      <td>PC</td>\n",
       "      <td>A</td>\n",
       "      <td>False</td>\n",
       "      <td>False</td>\n",
       "      <td>2020-12-07</td>\n",
       "      <td>login</td>\n",
       "      <td>NaN</td>\n",
       "      <td>0.0</td>\n",
       "    </tr>\n",
       "    <tr>\n",
       "      <th>3</th>\n",
       "      <td>DD4352CDCF8C3D57</td>\n",
       "      <td>2020-12-07</td>\n",
       "      <td>EU</td>\n",
       "      <td>Android</td>\n",
       "      <td>B</td>\n",
       "      <td>False</td>\n",
       "      <td>True</td>\n",
       "      <td>2020-12-07</td>\n",
       "      <td>product_page</td>\n",
       "      <td>NaN</td>\n",
       "      <td>0.0</td>\n",
       "    </tr>\n",
       "    <tr>\n",
       "      <th>4</th>\n",
       "      <td>DD4352CDCF8C3D57</td>\n",
       "      <td>2020-12-07</td>\n",
       "      <td>EU</td>\n",
       "      <td>Android</td>\n",
       "      <td>B</td>\n",
       "      <td>False</td>\n",
       "      <td>True</td>\n",
       "      <td>2020-12-08</td>\n",
       "      <td>product_page</td>\n",
       "      <td>NaN</td>\n",
       "      <td>1.0</td>\n",
       "    </tr>\n",
       "    <tr>\n",
       "      <th>5</th>\n",
       "      <td>DD4352CDCF8C3D57</td>\n",
       "      <td>2020-12-07</td>\n",
       "      <td>EU</td>\n",
       "      <td>Android</td>\n",
       "      <td>B</td>\n",
       "      <td>False</td>\n",
       "      <td>True</td>\n",
       "      <td>2020-12-10</td>\n",
       "      <td>product_page</td>\n",
       "      <td>NaN</td>\n",
       "      <td>3.0</td>\n",
       "    </tr>\n",
       "  </tbody>\n",
       "</table>\n",
       "</div>"
      ],
      "text/plain": [
       "            user_id  first_date region   device group  is_in_test_group  \\\n",
       "0  D72A72121175D8BE  2020-12-07     EU       PC     A             False   \n",
       "1  D72A72121175D8BE  2020-12-07     EU       PC     A             False   \n",
       "3  DD4352CDCF8C3D57  2020-12-07     EU  Android     B             False   \n",
       "4  DD4352CDCF8C3D57  2020-12-07     EU  Android     B             False   \n",
       "5  DD4352CDCF8C3D57  2020-12-07     EU  Android     B             False   \n",
       "\n",
       "   is_in_control_group    event_dt    event_name  details  lifetime  \n",
       "0                False  2020-12-07  product_page      NaN       0.0  \n",
       "1                False  2020-12-07         login      NaN       0.0  \n",
       "3                 True  2020-12-07  product_page      NaN       0.0  \n",
       "4                 True  2020-12-08  product_page      NaN       1.0  \n",
       "5                 True  2020-12-10  product_page      NaN       3.0  "
      ]
     },
     "execution_count": 28,
     "metadata": {},
     "output_type": "execute_result"
    }
   ],
   "source": [
    "df = merged_df.query('user_group == \"Active\"').drop(columns='user_group')\n",
    "df.head()"
   ]
  },
  {
   "cell_type": "markdown",
   "id": "6f524885",
   "metadata": {},
   "source": [
    "Проверить гипотезу:\n",
    "<b> Распределение групп А и В равномерное, исходя из логики перехода регистрации на целевые действия </b>\n",
    "    \n",
    "\n",
    "H0: статистически значимых различий в долях перехода на целевое действие между группами нет.    \n",
    "H1: отличия в  в долях перехода на целевое действие между группами есть.\n",
    "\n",
    "\n",
    "**pvalue < заданной стат.значимости, группы у нас сильно различаются по поведению, именно в части перехода регистрации в выполнение целевого действия**, и возникают сомнения в правильности формирования групп на этапе разделения трафика в группы.\n"
   ]
  },
  {
   "cell_type": "code",
   "execution_count": 29,
   "id": "6f54d50b",
   "metadata": {},
   "outputs": [
    {
     "name": "stdout",
     "output_type": "stream",
     "text": [
      "p-значение (prop_test): 1.1445865558208e-213\n",
      "Отвергаем нулевую гипотезу\n"
     ]
    }
   ],
   "source": [
    "# Готовим выборки и сохраняем в переменных sample_1, sample_2\n",
    "sample_1_success = df[df['group'] == 'A']['user_id'].nunique()  # кол-во совершивших целевое действие\n",
    "sample_1_attempts = merged_df[merged_df['group'] == 'A']['user_id'].nunique()  # кол-во регистрации\n",
    "\n",
    "sample_2_success = df[df['group'] == 'B']['user_id'].nunique()\n",
    "sample_2_attempts = merged_df[merged_df['group'] == 'B']['user_id'].nunique() \n",
    "\n",
    "\n",
    "count = np.array([sample_1_success, sample_2_success])\n",
    "nobs = np.array([sample_1_attempts, sample_2_attempts])\n",
    "\n",
    "z_stat, p_value = proportions_ztest(count, nobs, alternative='two-sided') \n",
    "\n",
    "print('p-значение (prop_test):', p_value)\n",
    "\n",
    "alpha = 0.05\n",
    "\n",
    "if p_value < alpha:\n",
    "    print('Отвергаем нулевую гипотезу')\n",
    "else:\n",
    "    print('Не получилось отвергнуть нулевую гипотезу')\n"
   ]
  },
  {
   "cell_type": "code",
   "execution_count": 30,
   "id": "28115116",
   "metadata": {},
   "outputs": [
    {
     "data": {
      "image/png": "[encoded data removed]",
      "text/plain": [
       "<Figure size 1500x500 with 1 Axes>"
      ]
     },
     "metadata": {},
     "output_type": "display_data"
    }
   ],
   "source": [
    "df.groupby(['lifetime']).agg({'user_id': 'nunique'}\n",
    "                                        ).plot(grid=True, figsize=(15, 5))\n",
    "plt.title('Динамика кол-ва событии за время теста')\n",
    "plt.xlabel('Lifetime')\n",
    "plt.ylabel('Кол-во пользователей совершивших событие')\n",
    "plt.legend()\n",
    "\n",
    "plt.show()"
   ]
  },
  {
   "cell_type": "markdown",
   "id": "e1e8c5ea",
   "metadata": {},
   "source": [
    "Из графика видно, что время принятия решения для большей части клиентов магазина меньше 7 дней. \n",
    "В начале разбора ТЗ мы заметили, что у нас не хватает части данных по событиям, в частности события за период 31.12.2020-04.01.2021. Исходя из данных графика выше, можно предположить, что это не приводит к большим потерям, учитывая что данные отсутствуют для обоих групп теста. Поэтому вырезать пользователей, по которым нет 14дневной истории мы не будем."
   ]
  },
  {
   "cell_type": "markdown",
   "id": "5c28e7d3",
   "metadata": {},
   "source": [
    "<div class=\"alert alert-info\">\n",
    "<font size=\"4\", color = \"black\"><b>✍ Промежуточные выводы по соответствию ТЗ</b></font>\n",
    "    <br /> \n",
    "    <font size=\"3\", color = \"black\">\n",
    "<br /> \n",
    "\n",
    "После проверки данных требованиям ТЗ можно отметить следующие недочеты:\n",
    "- Записи по событиям неполные (не хватает данных за 31.12.2020-04.01.2021), из-за чего по части пользователей нельзя отследить 14дневную историю.\n",
    "- Во время проведения теста проводились маркетинговые активности, отдельно в регионе проведения теста была одна активность. Исходя из данных нельзя заметить прямое влияние активности, поэтому данные за период активности сохранены для дальнейшего анализа. \n",
    "- Некоторые пользователи из нашей базы в период проведения теста попали в тестовую группу другого теста. Так как такие пользователи равномерно распределены в контрольной/тестовой группах, эти данные сохранены для дальнейшего исследования. \n",
    "- По кол-ву регистрации на тест мы набрали достаточную аудиторию (6000 чел, 15% из всех пользователей EU). Но для анализа конверсии мы будем брать тех, кто выполнил хоть одно целевое действие. Кол-во таких пользователей меньше, чем требуется по ТЗ. \n",
    "- Оставшаяся выборка распределена неравномерно по группам.    \n",
    "\n",
    "**Исходя из вышеуказанного, корректность проведения теста вызывает сомнения**"
   ]
  },
  {
   "cell_type": "markdown",
   "id": "d16c5001",
   "metadata": {},
   "source": [
    "## Исследовательский анализ данных"
   ]
  },
  {
   "cell_type": "code",
   "execution_count": 31,
   "id": "2ed8eeb6",
   "metadata": {},
   "outputs": [
    {
     "data": {
      "text/html": [
       "<div>\n",
       "<style scoped>\n",
       "    .dataframe tbody tr th:only-of-type {\n",
       "        vertical-align: middle;\n",
       "    }\n",
       "\n",
       "    .dataframe tbody tr th {\n",
       "        vertical-align: top;\n",
       "    }\n",
       "\n",
       "    .dataframe thead th {\n",
       "        text-align: right;\n",
       "    }\n",
       "</style>\n",
       "<table border=\"1\" class=\"dataframe\">\n",
       "  <thead>\n",
       "    <tr style=\"text-align: right;\">\n",
       "      <th></th>\n",
       "      <th>user_id</th>\n",
       "      <th>first_date</th>\n",
       "      <th>region</th>\n",
       "      <th>device</th>\n",
       "      <th>group</th>\n",
       "      <th>is_in_test_group</th>\n",
       "      <th>is_in_control_group</th>\n",
       "      <th>event_dt</th>\n",
       "      <th>event_name</th>\n",
       "      <th>details</th>\n",
       "      <th>lifetime</th>\n",
       "    </tr>\n",
       "  </thead>\n",
       "  <tbody>\n",
       "    <tr>\n",
       "      <th>0</th>\n",
       "      <td>D72A72121175D8BE</td>\n",
       "      <td>2020-12-07</td>\n",
       "      <td>EU</td>\n",
       "      <td>PC</td>\n",
       "      <td>A</td>\n",
       "      <td>False</td>\n",
       "      <td>False</td>\n",
       "      <td>2020-12-07</td>\n",
       "      <td>product_page</td>\n",
       "      <td>NaN</td>\n",
       "      <td>0.0</td>\n",
       "    </tr>\n",
       "    <tr>\n",
       "      <th>1</th>\n",
       "      <td>D72A72121175D8BE</td>\n",
       "      <td>2020-12-07</td>\n",
       "      <td>EU</td>\n",
       "      <td>PC</td>\n",
       "      <td>A</td>\n",
       "      <td>False</td>\n",
       "      <td>False</td>\n",
       "      <td>2020-12-07</td>\n",
       "      <td>login</td>\n",
       "      <td>NaN</td>\n",
       "      <td>0.0</td>\n",
       "    </tr>\n",
       "    <tr>\n",
       "      <th>3</th>\n",
       "      <td>DD4352CDCF8C3D57</td>\n",
       "      <td>2020-12-07</td>\n",
       "      <td>EU</td>\n",
       "      <td>Android</td>\n",
       "      <td>B</td>\n",
       "      <td>False</td>\n",
       "      <td>True</td>\n",
       "      <td>2020-12-07</td>\n",
       "      <td>product_page</td>\n",
       "      <td>NaN</td>\n",
       "      <td>0.0</td>\n",
       "    </tr>\n",
       "    <tr>\n",
       "      <th>4</th>\n",
       "      <td>DD4352CDCF8C3D57</td>\n",
       "      <td>2020-12-07</td>\n",
       "      <td>EU</td>\n",
       "      <td>Android</td>\n",
       "      <td>B</td>\n",
       "      <td>False</td>\n",
       "      <td>True</td>\n",
       "      <td>2020-12-08</td>\n",
       "      <td>product_page</td>\n",
       "      <td>NaN</td>\n",
       "      <td>1.0</td>\n",
       "    </tr>\n",
       "    <tr>\n",
       "      <th>5</th>\n",
       "      <td>DD4352CDCF8C3D57</td>\n",
       "      <td>2020-12-07</td>\n",
       "      <td>EU</td>\n",
       "      <td>Android</td>\n",
       "      <td>B</td>\n",
       "      <td>False</td>\n",
       "      <td>True</td>\n",
       "      <td>2020-12-10</td>\n",
       "      <td>product_page</td>\n",
       "      <td>NaN</td>\n",
       "      <td>3.0</td>\n",
       "    </tr>\n",
       "  </tbody>\n",
       "</table>\n",
       "</div>"
      ],
      "text/plain": [
       "            user_id  first_date region   device group  is_in_test_group  \\\n",
       "0  D72A72121175D8BE  2020-12-07     EU       PC     A             False   \n",
       "1  D72A72121175D8BE  2020-12-07     EU       PC     A             False   \n",
       "3  DD4352CDCF8C3D57  2020-12-07     EU  Android     B             False   \n",
       "4  DD4352CDCF8C3D57  2020-12-07     EU  Android     B             False   \n",
       "5  DD4352CDCF8C3D57  2020-12-07     EU  Android     B             False   \n",
       "\n",
       "   is_in_control_group    event_dt    event_name  details  lifetime  \n",
       "0                False  2020-12-07  product_page      NaN       0.0  \n",
       "1                False  2020-12-07         login      NaN       0.0  \n",
       "3                 True  2020-12-07  product_page      NaN       0.0  \n",
       "4                 True  2020-12-08  product_page      NaN       1.0  \n",
       "5                 True  2020-12-10  product_page      NaN       3.0  "
      ]
     },
     "execution_count": 31,
     "metadata": {},
     "output_type": "execute_result"
    }
   ],
   "source": [
    "df.head()"
   ]
  },
  {
   "cell_type": "code",
   "execution_count": 32,
   "id": "e0d67fc7",
   "metadata": {},
   "outputs": [
    {
     "data": {
      "image/png": "[encoded data removed]",
      "text/plain": [
       "<Figure size 1500x500 with 1 Axes>"
      ]
     },
     "metadata": {},
     "output_type": "display_data"
    }
   ],
   "source": [
    "# смотрим распределение числа регистрации по датам\n",
    "\n",
    "df_descr = profiles.groupby(['group', 'first_date']).agg({'user_id': ['count', 'nunique']}).reset_index()\n",
    "df_descr.columns = ['group', 'first_date', 'transaction_count', 'user_count']\n",
    "\n",
    "plt.figure(figsize=(15, 5))\n",
    "\n",
    "sns.barplot(x='first_date', y='transaction_count', hue='group', data=df_descr)\n",
    "\n",
    "plt.title('Распределение числа регистрации по датам')\n",
    "plt.xlabel('Дата')\n",
    "plt.ylabel('Число событии')\n",
    "plt.legend(title='group')\n",
    "plt.xticks(rotation=45) \n",
    "\n",
    "plt.show()"
   ]
  },
  {
   "cell_type": "markdown",
   "id": "00ee781c",
   "metadata": {},
   "source": [
    "1. График по регистрациям показывает, что в сборе данных о новых регистрациях была недельная цикличность, где дни с субботы по понедельник - периоды пиковых активностей. В каждый их выделенных на сбор данных дней - в контрольную группу набиралось большее кол-во участников. Но при этом разница в высоте столбцов равномерная за все дни.  \n"
   ]
  },
  {
   "cell_type": "code",
   "execution_count": 33,
   "id": "331a9cbb",
   "metadata": {},
   "outputs": [
    {
     "data": {
      "image/png": "[encoded data removed]",
      "text/plain": [
       "<Figure size 1500x500 with 1 Axes>"
      ]
     },
     "metadata": {},
     "output_type": "display_data"
    }
   ],
   "source": [
    "# смотрим распределение числа регистрации по датам (среди тех, кто не совершал ЦД)\n",
    "\n",
    "df_descr = merged_df.query('user_group == \"Has no activity\"').groupby(['group', 'first_date']).agg({'user_id': ['count', 'nunique']}).reset_index()\n",
    "df_descr.columns = ['group', 'first_date', 'transaction_count', 'user_count']\n",
    "\n",
    "plt.figure(figsize=(15, 5))\n",
    "\n",
    "sns.barplot(x='first_date', y='transaction_count', hue='group', data=df_descr)\n",
    "\n",
    "plt.title('Распределение числа регистрации по датам (среди тех, кто не совершал ЦД)')\n",
    "plt.xlabel('Дата')\n",
    "plt.ylabel('Число событии')\n",
    "plt.legend(title='group')\n",
    "plt.xticks(rotation=45) \n",
    "\n",
    "plt.show()"
   ]
  },
  {
   "cell_type": "markdown",
   "id": "3247566f",
   "metadata": {},
   "source": [
    "2. Один из важных графиков - **распределение числа регистрации по датам (среди тех, кто не совершал ЦД)** показывает, что в сборе данных были допущены критические ошибки, т.к. со второй недели сбора новых участников для группы А кол-во новых участников было равно кол-ву логинов в интернет магазине, в то время как у группы В большая доля клиентов так и не доходили до совершения целевого действия (login). Так как в первую неделю сборов поведение участников групп А/В были одинаковые, и что они резко изменились начиная со второй недели, показывает на изменение параметров набора новых участников в контрольной группе.\n"
   ]
  },
  {
   "cell_type": "code",
   "execution_count": 34,
   "id": "e91b3af2",
   "metadata": {},
   "outputs": [
    {
     "data": {
      "image/png": "[encoded data removed]",
      "text/plain": [
       "<Figure size 1500x500 with 1 Axes>"
      ]
     },
     "metadata": {},
     "output_type": "display_data"
    }
   ],
   "source": [
    "# смотрим распределение числа событии по датам\n",
    "\n",
    "df_descr = df.groupby(['group', 'event_dt']).agg({'user_id': ['count', 'nunique']}).reset_index()\n",
    "df_descr.columns = ['group', 'event_dt', 'transaction_count', 'user_count']\n",
    "\n",
    "plt.figure(figsize=(15, 5))\n",
    "\n",
    "sns.barplot(x='event_dt', y='transaction_count', hue='group', data=df_descr)\n",
    "\n",
    "plt.title('Распределение числа событии по датам')\n",
    "plt.xlabel('Дата')\n",
    "plt.ylabel('Число событии')\n",
    "plt.legend(title='group')\n",
    "plt.xticks(rotation=45) \n",
    "\n",
    "plt.show()"
   ]
  },
  {
   "cell_type": "code",
   "execution_count": 35,
   "id": "7745313b",
   "metadata": {},
   "outputs": [
    {
     "data": {
      "image/png": "[encoded data removed]",
      "text/plain": [
       "<Figure size 1500x1000 with 4 Axes>"
      ]
     },
     "metadata": {},
     "output_type": "display_data"
    }
   ],
   "source": [
    "# смотрим распределение всех событии по датам\n",
    "\n",
    "actions = ['login', 'product_page', 'product_cart', 'purchase']\n",
    "fig, axes = plt.subplots(nrows=2, ncols=2, figsize=(15, 10))\n",
    "\n",
    "for action, ax in zip(actions, axes.flatten()):\n",
    "    df_desc = df.query(f'event_name == \"{action}\"'\n",
    "                      ).groupby(['group', 'event_dt']).agg({'user_id': ['count', 'nunique']}).reset_index()\n",
    "    \n",
    "    df_desc.columns = ['group', 'event_dt', 'transaction_count', 'user_count'] \n",
    "\n",
    "    sns.barplot(x='event_dt', y='transaction_count', hue='group', data=df_desc, ax=ax)\n",
    "    \n",
    "    ax.set_title(f'Распределение числа событий \"{action}\" по датам')\n",
    "    ax.set_xlabel('Дата')\n",
    "    ax.set_ylabel('Число событий')\n",
    "    ax.legend(title='group')\n",
    "    ax.tick_params(axis='x', rotation=45)\n",
    "\n",
    "plt.tight_layout() \n",
    "plt.show()\n"
   ]
  },
  {
   "cell_type": "markdown",
   "id": "3bb8b051",
   "metadata": {},
   "source": [
    "\n",
    "3. График распределения числа событии по датам - сначала рассмотрели распределение суммы всех событии в разрезе групп (А/В), далее каждый этап события по отдельности, так же в разбивке по группам. Графики показывают, что резкое изменение в кол-ве событии группы А затронуло все этапы воронки (участники не только больше логинятся, но и просмотры товаров/корзины и покупки показали равнозначное увеличение). Это может говорить о том, что с 14 декабря в число новых регистрации в группе А стали попадать только те, кто логинился на сайте, в то время как в группе В часть клиентов могли покинуть сайт без логина (в первую неделю набора участников в обоих группах часть трафика могла покинуть сайт без регистрации). "
   ]
  },
  {
   "cell_type": "code",
   "execution_count": 36,
   "id": "faadca75",
   "metadata": {},
   "outputs": [
    {
     "data": {
      "image/png": "[encoded data removed]",
      "text/plain": [
       "<Figure size 1500x500 with 1 Axes>"
      ]
     },
     "metadata": {},
     "output_type": "display_data"
    }
   ],
   "source": [
    "# смотрим распределение числа событии по дням\n",
    "\n",
    "df_descr = df.groupby(['group', 'lifetime']).agg({'user_id': ['count', 'nunique']}).reset_index()\n",
    "df_descr.columns = ['group', 'lifetime', 'transaction_count', 'user_count']\n",
    "\n",
    "plt.figure(figsize=(15, 5))\n",
    "\n",
    "sns.barplot(x='lifetime', y='transaction_count', hue='group', data=df_descr)\n",
    "\n",
    "plt.title('Распределение числа событии по дням')\n",
    "plt.xlabel('Lifetime')\n",
    "plt.ylabel('Число событии')\n",
    "plt.legend(title='group')\n",
    "\n",
    "plt.show()"
   ]
  },
  {
   "cell_type": "markdown",
   "id": "9b9e0a55",
   "metadata": {},
   "source": [
    "Из графика видно, что время принятия решения для большей части клиентов магазина меньше 4 дней. Поведение клиентов контрольной и тестовой группы схожие.\n",
    "\n",
    "\n",
    "**Распределение пользователей по кол-ву событии**"
   ]
  },
  {
   "cell_type": "code",
   "execution_count": 37,
   "id": "e67f91e5",
   "metadata": {},
   "outputs": [
    {
     "data": {
      "image/png": "[encoded data removed]",
      "text/plain": [
       "<Figure size 1500x500 with 1 Axes>"
      ]
     },
     "metadata": {},
     "output_type": "display_data"
    }
   ],
   "source": [
    "# Распределение пользователей по кол-ву событии\n",
    "\n",
    "plt.figure(figsize=(15, 5))\n",
    "sns.histplot(df[df['group'] == 'A'].groupby(['user_id'])['event_dt'].count(), common_norm=False, stat=\"density\")\n",
    "sns.histplot(df[df['group'] == 'B'].groupby(['user_id'])['event_dt'].count(), color=\"orange\", common_norm=False, stat=\"density\")\n",
    "\n",
    "plt.title('Распределение пользователей по кол-ву событии')\n",
    "plt.xlabel('Кол-во событии')\n",
    "plt.ylabel('density')\n",
    "\n",
    "plt.legend([\"group A\", \"group B\"])\n",
    "plt.show()"
   ]
  },
  {
   "cell_type": "markdown",
   "id": "489eac0d",
   "metadata": {},
   "source": [
    "\n",
    "**Распределение пользователей по кол-ву событии**\n",
    "\n",
    "- График показывает распределение кол-ва событии на пользователя. Т.е. как часто в выборке встречаются участники совершившие n событии. Форма распределения у групп схожие, но при этом распределение контрольной группы смещена вправо в отношении тестовой группы. Это может означать что при равном кол-во логинов, конверсия в следующие шаги у контрольной группы будет выше чем у тестовой. Пока сложно понять какие шаги совершаются чаще, детально сможем увидеть на этапе построения воронки."
   ]
  },
  {
   "cell_type": "code",
   "execution_count": 38,
   "id": "77022016",
   "metadata": {},
   "outputs": [
    {
     "data": {
      "text/html": [
       "<div>\n",
       "<style scoped>\n",
       "    .dataframe tbody tr th:only-of-type {\n",
       "        vertical-align: middle;\n",
       "    }\n",
       "\n",
       "    .dataframe tbody tr th {\n",
       "        vertical-align: top;\n",
       "    }\n",
       "\n",
       "    .dataframe thead th {\n",
       "        text-align: right;\n",
       "    }\n",
       "</style>\n",
       "<table border=\"1\" class=\"dataframe\">\n",
       "  <thead>\n",
       "    <tr style=\"text-align: right;\">\n",
       "      <th></th>\n",
       "      <th>group</th>\n",
       "      <th>transaction_count</th>\n",
       "      <th>user_count</th>\n",
       "      <th>avg_tr_per_user</th>\n",
       "    </tr>\n",
       "  </thead>\n",
       "  <tbody>\n",
       "    <tr>\n",
       "      <th>0</th>\n",
       "      <td>A</td>\n",
       "      <td>19339</td>\n",
       "      <td>3634</td>\n",
       "      <td>5.321684</td>\n",
       "    </tr>\n",
       "    <tr>\n",
       "      <th>1</th>\n",
       "      <td>B</td>\n",
       "      <td>6951</td>\n",
       "      <td>2717</td>\n",
       "      <td>2.558336</td>\n",
       "    </tr>\n",
       "  </tbody>\n",
       "</table>\n",
       "</div>"
      ],
      "text/plain": [
       "  group  transaction_count  user_count  avg_tr_per_user\n",
       "0     A              19339        3634         5.321684\n",
       "1     B               6951        2717         2.558336"
      ]
     },
     "execution_count": 38,
     "metadata": {},
     "output_type": "execute_result"
    }
   ],
   "source": [
    "# считаем среднее число событий на пользователя среди всех зарегистрировавшихся\n",
    "\n",
    "df_descr = merged_df.groupby('group').agg({'user_id': ['count', 'nunique']}).reset_index()\n",
    "df_descr.columns = ['group', 'transaction_count', 'user_count']\n",
    "df_descr['avg_tr_per_user'] = df_descr['transaction_count'] / df_descr['user_count']\n",
    "df_descr"
   ]
  },
  {
   "cell_type": "code",
   "execution_count": 39,
   "id": "69a094ec",
   "metadata": {},
   "outputs": [
    {
     "data": {
      "text/html": [
       "<div>\n",
       "<style scoped>\n",
       "    .dataframe tbody tr th:only-of-type {\n",
       "        vertical-align: middle;\n",
       "    }\n",
       "\n",
       "    .dataframe tbody tr th {\n",
       "        vertical-align: top;\n",
       "    }\n",
       "\n",
       "    .dataframe thead th {\n",
       "        text-align: right;\n",
       "    }\n",
       "</style>\n",
       "<table border=\"1\" class=\"dataframe\">\n",
       "  <thead>\n",
       "    <tr style=\"text-align: right;\">\n",
       "      <th></th>\n",
       "      <th>group</th>\n",
       "      <th>transaction_count</th>\n",
       "      <th>user_count</th>\n",
       "      <th>avg_tr_per_user</th>\n",
       "    </tr>\n",
       "  </thead>\n",
       "  <tbody>\n",
       "    <tr>\n",
       "      <th>0</th>\n",
       "      <td>A</td>\n",
       "      <td>17835</td>\n",
       "      <td>2604</td>\n",
       "      <td>6.849078</td>\n",
       "    </tr>\n",
       "    <tr>\n",
       "      <th>1</th>\n",
       "      <td>B</td>\n",
       "      <td>4785</td>\n",
       "      <td>877</td>\n",
       "      <td>5.456100</td>\n",
       "    </tr>\n",
       "  </tbody>\n",
       "</table>\n",
       "</div>"
      ],
      "text/plain": [
       "  group  transaction_count  user_count  avg_tr_per_user\n",
       "0     A              17835        2604         6.849078\n",
       "1     B               4785         877         5.456100"
      ]
     },
     "metadata": {},
     "output_type": "display_data"
    }
   ],
   "source": [
    "# считаем среднее число событий на пользователя среди тех, кто совершал ЦД (целевое действие)\n",
    "\n",
    "df_descr = df.groupby('group').agg({'user_id': ['count', 'nunique']}).reset_index()\n",
    "df_descr.columns = ['group', 'transaction_count', 'user_count']\n",
    "df_descr['avg_tr_per_user'] = df_descr['transaction_count'] / df_descr['user_count']\n",
    "display(df_descr)"
   ]
  },
  {
   "cell_type": "code",
   "execution_count": 40,
   "id": "ad756839",
   "metadata": {},
   "outputs": [
    {
     "data": {
      "text/html": [
       "<div>\n",
       "<style scoped>\n",
       "    .dataframe tbody tr th:only-of-type {\n",
       "        vertical-align: middle;\n",
       "    }\n",
       "\n",
       "    .dataframe tbody tr th {\n",
       "        vertical-align: top;\n",
       "    }\n",
       "\n",
       "    .dataframe thead th {\n",
       "        text-align: right;\n",
       "    }\n",
       "</style>\n",
       "<table border=\"1\" class=\"dataframe\">\n",
       "  <thead>\n",
       "    <tr style=\"text-align: right;\">\n",
       "      <th></th>\n",
       "      <th>group</th>\n",
       "      <th>transaction_count</th>\n",
       "      <th>user_count</th>\n",
       "      <th>purchases</th>\n",
       "      <th>avg_sum_per_transaction</th>\n",
       "      <th>avg_sum_per_user</th>\n",
       "    </tr>\n",
       "  </thead>\n",
       "  <tbody>\n",
       "    <tr>\n",
       "      <th>0</th>\n",
       "      <td>A</td>\n",
       "      <td>2485</td>\n",
       "      <td>833</td>\n",
       "      <td>57435.15</td>\n",
       "      <td>23.112736</td>\n",
       "      <td>68.95</td>\n",
       "    </tr>\n",
       "    <tr>\n",
       "      <th>1</th>\n",
       "      <td>B</td>\n",
       "      <td>618</td>\n",
       "      <td>249</td>\n",
       "      <td>14233.82</td>\n",
       "      <td>23.032071</td>\n",
       "      <td>57.16</td>\n",
       "    </tr>\n",
       "  </tbody>\n",
       "</table>\n",
       "</div>"
      ],
      "text/plain": [
       "  group  transaction_count  user_count  purchases  avg_sum_per_transaction  \\\n",
       "0     A               2485         833   57435.15                23.112736   \n",
       "1     B                618         249   14233.82                23.032071   \n",
       "\n",
       "   avg_sum_per_user  \n",
       "0             68.95  \n",
       "1             57.16  "
      ]
     },
     "execution_count": 40,
     "metadata": {},
     "output_type": "execute_result"
    }
   ],
   "source": [
    "# считаем среднюю сумму покупок на пользователя среди тех, кто совершал ЦД (целевое действие)\n",
    "\n",
    "df_descr = df[df['details'].isna()==False].groupby('group').agg({'user_id': ['count', 'nunique'], 'details': ['sum', 'mean']}).reset_index()\n",
    "df_descr.columns = ['group', 'transaction_count', 'user_count', 'purchases', 'avg_sum_per_transaction']\n",
    "df_descr['avg_sum_per_user'] = round(df_descr['purchases'] / df_descr['user_count'], 2)\n",
    "df_descr"
   ]
  },
  {
   "cell_type": "markdown",
   "id": "13d85146",
   "metadata": {},
   "source": [
    "**Среднее кол-во событии на пользователя**\n",
    "\n",
    "Среднее кол-во было рассчитано среди тех, кто совершал ЦД (целевое действие),  и среди всех зарегистрировавшихся. Как и отмечали ранее в описании графиков, увидели следующие особенности:\n",
    "- По разнице в среднем кол-во событии на каждого *зарегистрировавшегося* заметно что в тестовой группе большая доля участников без событии. \n",
    "- Среднее кол-во событии на пользователя в контрольной группе больше чем в тестовой. \n",
    "- Средняя сумма на транзакцию у групп одинаковые (~€23), а средний чек на покупателя у контрольной группы выше. Что так же свидетельствует в пользу того, что клиенты в контрольной группе совершают больше событии за одинаковый период времени."
   ]
  },
  {
   "cell_type": "code",
   "execution_count": 41,
   "id": "67bee7f1",
   "metadata": {},
   "outputs": [
    {
     "data": {
      "text/plain": [
       "Android    9903\n",
       "PC         5798\n",
       "iPhone     4719\n",
       "Mac        2200\n",
       "Name: device, dtype: int64"
      ]
     },
     "execution_count": 41,
     "metadata": {},
     "output_type": "execute_result"
    }
   ],
   "source": [
    "df['device'].value_counts()"
   ]
  },
  {
   "cell_type": "code",
   "execution_count": 42,
   "id": "e7bbb2ff",
   "metadata": {},
   "outputs": [
    {
     "data": {
      "image/png": "[encoded data removed]",
      "text/plain": [
       "<Figure size 1500x1000 with 2 Axes>"
      ]
     },
     "metadata": {},
     "output_type": "display_data"
    }
   ],
   "source": [
    "# Cмотрим распределение числа событии по девайсам\n",
    "\n",
    "fig, axes = plt.subplots(nrows=2, ncols=1, figsize=(15, 10), sharey=True)\n",
    "\n",
    "# распределение группы A\n",
    "df_descr_a = df.query('group == \"A\"').groupby(['device', 'event_dt']).agg({'user_id': ['count', 'nunique']}).reset_index()\n",
    "df_descr_a.columns = ['device', 'event_dt', 'transaction_count', 'user_count']\n",
    "\n",
    "sns.lineplot(x='event_dt', y='transaction_count', hue='device', data=df_descr_a, ax=axes[0])\n",
    "axes[0].set_xlabel('Дата')\n",
    "axes[0].set_ylabel('Кол-во пользователей')\n",
    "axes[0].set_title('Динамика  числа событии по девайсам (Group A)')\n",
    "axes[0].legend()\n",
    "\n",
    "# распределение группы B\n",
    "df_descr_b = df.query('group == \"B\"').groupby(['device', 'event_dt']).agg({'user_id': ['count', 'nunique']}).reset_index()\n",
    "df_descr_b.columns = ['device', 'event_dt', 'transaction_count', 'user_count']\n",
    "\n",
    "sns.lineplot(x='event_dt', y='transaction_count', hue='device', data=df_descr_b, ax=axes[1])\n",
    "axes[1].set_xlabel('Дата')\n",
    "axes[1].set_ylabel('Кол-во пользователей')\n",
    "axes[1].set_title('Динамика числа событии по девайсам (Group B)')\n",
    "axes[1].legend()\n",
    "\n",
    "plt.tight_layout() \n",
    "plt.show()\n"
   ]
  },
  {
   "cell_type": "markdown",
   "id": "14fa9a8c",
   "metadata": {},
   "source": [
    "**Динамика числа событии по девайсам**\n",
    "\n",
    "- Поведения клиентов контрольной и тестовой группы в разбивке по девайсам схожие. Больше всего действии производилось с Android, меньше всего с MAC. При этом доли девайсов остаются стабильными за весь период отслеживания событии"
   ]
  },
  {
   "cell_type": "markdown",
   "id": "cfe2e068",
   "metadata": {},
   "source": [
    "## Продуктовая воронка, анализ конверсии"
   ]
  },
  {
   "cell_type": "code",
   "execution_count": 43,
   "id": "e68c9386",
   "metadata": {},
   "outputs": [
    {
     "data": {
      "image/png": "[encoded data removed]",
      "text/plain": [
       "<Figure size 1500x500 with 2 Axes>"
      ]
     },
     "metadata": {},
     "output_type": "display_data"
    }
   ],
   "source": [
    "group_names = ['A', 'B']\n",
    "\n",
    "fig, axes = plt.subplots(nrows=1, ncols=2, figsize=(15, 5))\n",
    "\n",
    "for i, group_name in enumerate(group_names):\n",
    "    funnel_df = df.query(f'group == \"{group_name}\"').groupby('event_name')['user_id'].nunique().reset_index()\n",
    "    funnel_df.columns = ['event_name', 'event_count']\n",
    "\n",
    "    event_names = funnel_df['event_name']\n",
    "    event_counts = funnel_df['event_count']\n",
    "\n",
    "    step_percentages = [count / event_counts[0] * 100 for count in event_counts]\n",
    "\n",
    "    # Задаем корректный порядок действий \n",
    "    custom_order = ['login', 'product_page', 'product_cart', 'purchase']\n",
    "\n",
    "    sorted_data = sorted(zip(event_names, event_counts, step_percentages), key=lambda x: custom_order.index(x[0]))\n",
    "    sorted_event_names, sorted_event_counts, sorted_step_percentages = zip(*sorted_data)\n",
    "\n",
    "    ax = axes[i]\n",
    "\n",
    "    bars = ax.bar(sorted_event_names, sorted_event_counts, color='blue')\n",
    "\n",
    "    for j, (count, percentage) in enumerate(zip(sorted_event_counts, sorted_step_percentages)):\n",
    "        ax.text(j, count + 20, f\"{count}\\n({percentage:.2f}%)\", ha='center', va='bottom')\n",
    "\n",
    "    ax.set_xlabel('Событие')\n",
    "    ax.set_ylabel('Кол-во уникальных пользователей')\n",
    "    ax.set_title(f'Продуктовая воронка (Группа {group_name})')\n",
    "\n",
    "plt.tight_layout()      \n",
    "plt.show()\n"
   ]
  },
  {
   "cell_type": "markdown",
   "id": "dbc7903a",
   "metadata": {},
   "source": [
    "**Воронка событии, анализ конверсии**\n",
    "\n",
    "Мы построили воронки событии для контрольной и тестовой группы. В ходе анализа стало ясно, что **события в воронке не цепные (не последовательные), и клиенты могут пропускать какие то этапы**, и например сразу после логина совершить покупку. В визуализации мы построили воронку исходя из логической последовательности действии, и конверсию считали от начального шага воронки (login). **В воронке на каждом этапе указаны кол-во уникальных клиентов, совершавших действия данного этапа. **\n",
    "\n",
    "Как и предпологали на этапе анализа кол-ва событии на пользователя, конверсия в контрольной группе лучше конверсии тестовой группы. Исходя из этого, можно сразу отметить что **ожидаемый эффект от новой рекомендательной системы не достигнут.**\n",
    "\n",
    "*ожидаемый эффект: за 14 дней с момента регистрации пользователи покажут улучшение каждой метрики не менее, чем на 10%*\n",
    "\n",
    "конверсии в просмотр карточек товаров — событие product_page:    \n",
    "    - Контрольная группа - 64,7    \n",
    "    - Тестовая группа - 56,3%    \n",
    "    \n",
    "просмотры корзины — product_cart:    \n",
    "    - Контрольная группа - 30%    \n",
    "    - Тестовая группа - 28%    \n",
    "\n",
    "покупки — purchase    \n",
    "    - Контрольная группа - 32%    \n",
    "    - Тестовая группа - 28,4%    \n",
    " "
   ]
  },
  {
   "cell_type": "markdown",
   "id": "a3798832",
   "metadata": {},
   "source": [
    "<div class=\"alert alert-info\">\n",
    "<font size=\"4\", color = \"black\"><b>✍ Промежуточные выводы по исследовательскому анализу</b></font>\n",
    "    <br /> \n",
    "    <font size=\"3\", color = \"black\">\n",
    "<br /> \n",
    "\n",
    "**Распределения числа событии по датам**\n",
    "\n",
    "1. Один из важных графиков - **распределение числа регистрации по датам (среди тех, кто не совершал ЦД)** показывает, что в сборе данных были допущены критические ошибки, т.к. со второй недели сбора новых участников для группы А кол-во новых участников было равно кол-ву логинов в интернет магазине, в то время как у группы В большая доля клиентов так и не доходили до совершения целевого действия (login). Так как в первую неделю сборов поведение участников групп А/В были одинаковые, и что они резко изменились начиная со второй недели, показывает на изменение параметров набора новых участников в контрольной группе.\n",
    "\n",
    "3. График распределения числа событии по датам - сначала рассмотрели распределение суммы всех событии в разрезе групп (А/В), далее каждый этап события по отдельности, так же в разбивке по группам. Графики показывают, что резкое изменение в кол-ве событии группы А затронуло все этапы воронки (участники не только больше логинятся, но и просмотры товаров/корзины и покупки показали равнозначное увеличение). Это может говорить о том, что с 14 декабря в число новых регистрации в группе А стали попадать только те, кто логинился на сайте, в то время как в группе В часть клиентов могли покинуть сайт без логина (в первую неделю набора участников в обоих группах часть трафика могла покинуть сайт без регистрации). \n",
    "\n",
    "**Распределения числа событии по дням**\n",
    "\n",
    "- Из графика видно, что время принятия решения для большей части клиентов магазина меньше 7 дней. Поведение клиентов контрольной и тестовой группы схожие.\n",
    "\n",
    "\n",
    "**Распределение пользователей по кол-ву событии**\n",
    "\n",
    "- График показывает распределение кол-ва событии на пользователя. Т.е. как часто в выборке встречаются участники совершившие n событии. Форма распределения у групп схожие, но при этом распределение контрольной группы смещена вправо в отношении тестовой группы. Это может означать что при равном кол-во логинов, конверсия в следующие шаги у контрольной группы будет выше чем у тестовой. Пока сложно понять какие шаги совершаются чаще, детально сможем увидеть на этапе построения воронки.\n",
    "\n",
    "**Среднее кол-во событии на пользователя**\n",
    "\n",
    "Среднее кол-во было рассчитано среди тех, кто совершал ЦД (целевое действие),  и среди всех зарегистрировавшихся. Как и отмечали ранее в описании графиков, увидели следующие особенности:\n",
    "- По разнице в среднем кол-во событии на каждого *зарегистрировавшегося* заметно что в тестовой группе большая доля участников без событии. \n",
    "- Среднее кол-во событии на пользователя в контрольной группе больше чем в тестовой. \n",
    "- Средняя сумма на транзакцию у групп одинаковые (~€23), а средний чек на покупателя у контрольной группы выше. Что так же свидетельствует в пользу того, что клиенты в контрольной группе совершают больше событии за одинаковый период времени.\n",
    "\n",
    "**Анализ конверсии**\n",
    "Конверсия в контрольной группе лучше конверсии тестовой группы. Исходя из этого, ожидаемый эффект от новой рекомендательной системы не достигнут.\n",
    "        \n",
    "*ожидаемый эффект: за 14 дней с момента регистрации пользователи покажут улучшение каждой метрики не менее, чем на 10%*\n",
    "\n",
    "конверсии в просмотр карточек товаров — событие product_page:    \n",
    "    - Контрольная группа - 64,7    \n",
    "    - Тестовая группа - 56,3%    \n",
    "    \n",
    "просмотры корзины — product_cart:    \n",
    "    - Контрольная группа - 30%    \n",
    "    - Тестовая группа - 28%    \n",
    "\n",
    "покупки — purchase    \n",
    "    - Контрольная группа - 32%    \n",
    "    - Тестовая группа - 28,4%    \n",
    " "
   ]
  },
  {
   "cell_type": "markdown",
   "id": "16117736",
   "metadata": {},
   "source": [
    "## Статистический тест"
   ]
  },
  {
   "cell_type": "markdown",
   "id": "95508dbe",
   "metadata": {},
   "source": [
    "У нас есть 3 события, где необходимо проверить улучшение метрик. Нам необходимо сравнить долю пользователей в каждой группе, совершившие данные события. Для этого используем proportions_ztest, и оценим является ли отличие в пропорциях между группами статистически значимыми;\n",
    "\n",
    "**H0:** различия между пропорциями статистически не значима    \n",
    "**H1:** различия между пропорциями статистически значима\n",
    "\n",
    "Так как с каждой новой проверкой гипотезы растет вероятность ложнопозитивной ошибки, необходимо ввести поправку к уровню значимости. Применим поправку Бонферрони: alpha = 0.05 / 3 = 0.016"
   ]
  },
  {
   "cell_type": "code",
   "execution_count": 44,
   "id": "8b2bd287",
   "metadata": {},
   "outputs": [
    {
     "data": {
      "text/html": [
       "<div>\n",
       "<style scoped>\n",
       "    .dataframe tbody tr th:only-of-type {\n",
       "        vertical-align: middle;\n",
       "    }\n",
       "\n",
       "    .dataframe tbody tr th {\n",
       "        vertical-align: top;\n",
       "    }\n",
       "\n",
       "    .dataframe thead th {\n",
       "        text-align: right;\n",
       "    }\n",
       "</style>\n",
       "<table border=\"1\" class=\"dataframe\">\n",
       "  <thead>\n",
       "    <tr style=\"text-align: right;\">\n",
       "      <th>group</th>\n",
       "      <th>event_name</th>\n",
       "      <th>A</th>\n",
       "      <th>B</th>\n",
       "      <th>total</th>\n",
       "    </tr>\n",
       "  </thead>\n",
       "  <tbody>\n",
       "    <tr>\n",
       "      <th>0</th>\n",
       "      <td>login</td>\n",
       "      <td>2604</td>\n",
       "      <td>876</td>\n",
       "      <td>3480</td>\n",
       "    </tr>\n",
       "    <tr>\n",
       "      <th>1</th>\n",
       "      <td>product_page</td>\n",
       "      <td>1685</td>\n",
       "      <td>493</td>\n",
       "      <td>2178</td>\n",
       "    </tr>\n",
       "    <tr>\n",
       "      <th>2</th>\n",
       "      <td>product_cart</td>\n",
       "      <td>782</td>\n",
       "      <td>244</td>\n",
       "      <td>1026</td>\n",
       "    </tr>\n",
       "    <tr>\n",
       "      <th>3</th>\n",
       "      <td>purchase</td>\n",
       "      <td>833</td>\n",
       "      <td>249</td>\n",
       "      <td>1082</td>\n",
       "    </tr>\n",
       "  </tbody>\n",
       "</table>\n",
       "</div>"
      ],
      "text/plain": [
       "group    event_name     A    B  total\n",
       "0             login  2604  876   3480\n",
       "1      product_page  1685  493   2178\n",
       "2      product_cart   782  244   1026\n",
       "3          purchase   833  249   1082"
      ]
     },
     "execution_count": 44,
     "metadata": {},
     "output_type": "execute_result"
    }
   ],
   "source": [
    "# Приведем данные в нужный формат, где шаг login - attempts, остальные шаги successes\n",
    "\n",
    "df_pivot = df.pivot_table(index='event_name', columns='group', values='user_id', aggfunc='nunique'\n",
    "              ).reset_index().reindex([0, 2, 1, 3]).reset_index(drop=True)\n",
    "df_pivot['total'] = df_pivot['A'] + df_pivot['B']\n",
    "df_pivot"
   ]
  },
  {
   "cell_type": "code",
   "execution_count": 45,
   "id": "562b14d0",
   "metadata": {},
   "outputs": [
    {
     "name": "stderr",
     "output_type": "stream",
     "text": [
      "/Users/uliyam/opt/anaconda3/lib/python3.9/site-packages/statsmodels/stats/weightstats.py:790: RuntimeWarning: invalid value encountered in double_scalars\n",
      "  zstat = value / std\n"
     ]
    },
    {
     "data": {
      "text/html": [
       "<div>\n",
       "<style scoped>\n",
       "    .dataframe tbody tr th:only-of-type {\n",
       "        vertical-align: middle;\n",
       "    }\n",
       "\n",
       "    .dataframe tbody tr th {\n",
       "        vertical-align: top;\n",
       "    }\n",
       "\n",
       "    .dataframe thead th {\n",
       "        text-align: right;\n",
       "    }\n",
       "</style>\n",
       "<table border=\"1\" class=\"dataframe\">\n",
       "  <thead>\n",
       "    <tr style=\"text-align: right;\">\n",
       "      <th>group</th>\n",
       "      <th>event_name</th>\n",
       "      <th>A</th>\n",
       "      <th>B</th>\n",
       "      <th>total</th>\n",
       "      <th>p-value</th>\n",
       "    </tr>\n",
       "  </thead>\n",
       "  <tbody>\n",
       "    <tr>\n",
       "      <th>0</th>\n",
       "      <td>login</td>\n",
       "      <td>2604</td>\n",
       "      <td>876</td>\n",
       "      <td>3480</td>\n",
       "      <td>NaN</td>\n",
       "    </tr>\n",
       "    <tr>\n",
       "      <th>1</th>\n",
       "      <td>product_page</td>\n",
       "      <td>1685</td>\n",
       "      <td>493</td>\n",
       "      <td>2178</td>\n",
       "      <td>0.000008</td>\n",
       "    </tr>\n",
       "    <tr>\n",
       "      <th>2</th>\n",
       "      <td>product_cart</td>\n",
       "      <td>782</td>\n",
       "      <td>244</td>\n",
       "      <td>1026</td>\n",
       "      <td>0.221594</td>\n",
       "    </tr>\n",
       "    <tr>\n",
       "      <th>3</th>\n",
       "      <td>purchase</td>\n",
       "      <td>833</td>\n",
       "      <td>249</td>\n",
       "      <td>1082</td>\n",
       "      <td>0.048648</td>\n",
       "    </tr>\n",
       "  </tbody>\n",
       "</table>\n",
       "</div>"
      ],
      "text/plain": [
       "group    event_name     A    B  total   p-value\n",
       "0             login  2604  876   3480       NaN\n",
       "1      product_page  1685  493   2178  0.000008\n",
       "2      product_cart   782  244   1026  0.221594\n",
       "3          purchase   833  249   1082  0.048648"
      ]
     },
     "execution_count": 45,
     "metadata": {},
     "output_type": "execute_result"
    }
   ],
   "source": [
    "# проверяем разницу в конверсии от начального этапа воронки\n",
    "\n",
    "df_pivot['p-value'] = df_pivot.apply(lambda row: proportions_ztest(\n",
    "    np.array([row['A'], row['B']]),\n",
    "    np.array([df_pivot.loc[0, 'A'],df_pivot.loc[0, 'B']])\n",
    ")[1], axis=1)\n",
    "\n",
    "\n",
    "df_pivot\n"
   ]
  },
  {
   "cell_type": "markdown",
   "id": "1b5792ab",
   "metadata": {},
   "source": [
    "Пропорции в просмотр карточек товаров (product_page) — отличаются у групп.    \n",
    "pvalue < alpha. Вероятность получить подобное (или больше) отличие равна 0.000008. Такая разница в пропорциях при указанных размерах выборок достаточна, чтобы говорить о статистически значимом различии на данном этапе воронки. \n",
    "\n",
    "Пропорции в просмотр корзины (product_cart) и в покупки (purchase) у тестовой и контрольной группы не сильно отличаются, т.к. pvalue > alpha. Вероятность получить подобное (или больше) отличие равна 22% и 4.8% соответственно. Это достаточная вероятность, чтобы делать вывод о значимом различии в конверсии групп, учитывая наш уровень alpha=1,6%"
   ]
  },
  {
   "cell_type": "markdown",
   "id": "5f71a2ad",
   "metadata": {},
   "source": [
    "Следовательно, отвергаем нулевую гипотезу о равенстве долей для события product_page;     \n",
    "И не удалось отвергнуть нулевую гипотезу для событии просмотры корзины — product_cart, и покупки — purchase. На этих этапаз выборки не имеют статистически значимых различии. "
   ]
  },
  {
   "cell_type": "markdown",
   "id": "59ea2edf",
   "metadata": {},
   "source": [
    "<div class=\"alert alert-info\">\n",
    "<font size=\"4\", color = \"black\"><b>✍ Выводы</b></font>\n",
    "    <br /> \n",
    "    <font size=\"3\", color = \"black\">\n",
    "<br /> \n",
    "\n",
    "В рамках анализа все задачи были выполнены. \n",
    "        \n",
    "- Мы проверили данные на соответствие с ТЗ. В ходе этого анализа были выявлены некоторые недочеты в корректности проведения теста:\n",
    "        - неполные данные по событиям\n",
    "        - возможное влияние маркетинговых акции и параллельно проводимых тестов\n",
    "        - неравномерное распределение участников между контрольным и тестовым группами\n",
    "        - недостаточный объем базы\n",
    "        \n",
    "- Следующим этапом был проведен исследователький анализ данных (EDA), в ходе которого выяснили:\n",
    "        - в сборе данных были допущены критические ошибки. С 14 декабря в число новых регистрации в группе А стали попадать только те, кто логинился на сайте, в то время как в группе В часть клиентов могли покинуть сайт без логина (в первую неделю набора участников в обоих группах часть трафика могла покинуть сайт без авторизации). Это привело к неравномерному распределению участников между контрольным и тестовым группами\n",
    "        - Графики распределения числа событии по датам показывают, что резкое изменение в кол-ве событии группы А затронуло все этапы воронки (участники не только больше логинятся, но и просмотры товаров/корзины и покупки показали равнозначное увеличение). Соответственно, данная ошибка привела к неравномерному распределению участников в группах, но не вызвало перекосов в конверсии на этапах воронки. \n",
    "        - График распределения кол-ва событии на пользователя и средние значения кол-ва действии и суммы заказа показало что при равном кол-во логинов, конверсия в следующие шаги у контрольной группы будет выше чем у тестовой.\n",
    "\n",
    "        \n",
    "Построив воронку действии и посчитав конверсию в группах выявили что конверсия в контрольной группе лучше конверсии тестовой группы. **Ожидаемый эффект от новой рекомендательной системы - улучшение каждой из метрик на 10% - не достигнут.**\n",
    "конверсии в просмотр карточек товаров — событие product_page:    \n",
    "    - Контрольная группа - 64,7    \n",
    "    - Тестовая группа - 56,3%    \n",
    "    \n",
    "просмотры корзины — product_cart:    \n",
    "    - Контрольная группа - 30%    \n",
    "    - Тестовая группа - 28%    \n",
    "\n",
    "покупки — purchase    \n",
    "    - Контрольная группа - 32%    \n",
    "    - Тестовая группа - 28,4%    \n",
    "        \n",
    "Суммируя всю работу, можно сказать что в проведении теста были допущены много ошибок, одна из них привела к разным методам набора участников в контрольную и тестовую группу. Но, так как эта разность методов затронула все этапы анализируемой воронки, а не отдельные ее шаги, по проведенной работе можно получить результаты по тесту новой рекомендательной системы.  \n",
    "Мы оценили пропорции пользователей в каждой группе, совершившие целевые события, и ни в одном из событии не зафиксировали улучшения метрик в группе В относительно группы А. Следовательно, тест можно остановить, и принять решение о нецелесообразности применения новой рекомендательной системы для всей базы.\n"
   ]
  }
 ],
 "metadata": {
  "ExecuteTimeLog": [
   {
    "duration": 2204,
    "start_time": "2023-08-18T10:42:29.928Z"
   },
   {
    "duration": 1111,
    "start_time": "2023-08-18T10:42:32.134Z"
   },
   {
    "duration": 519,
    "start_time": "2023-08-18T10:42:33.247Z"
   },
   {
    "duration": 243,
    "start_time": "2023-08-18T10:42:33.768Z"
   },
   {
    "duration": 48,
    "start_time": "2023-08-18T10:42:34.013Z"
   },
   {
    "duration": 5,
    "start_time": "2023-08-18T10:42:34.063Z"
   },
   {
    "duration": 73,
    "start_time": "2023-08-18T10:42:34.070Z"
   },
   {
    "duration": 22,
    "start_time": "2023-08-18T10:42:34.145Z"
   },
   {
    "duration": 85,
    "start_time": "2023-08-18T10:42:34.169Z"
   },
   {
    "duration": 106,
    "start_time": "2023-08-18T10:42:34.256Z"
   },
   {
    "duration": 76,
    "start_time": "2023-08-18T10:42:34.364Z"
   },
   {
    "duration": 20,
    "start_time": "2023-08-18T10:42:34.441Z"
   },
   {
    "duration": 17,
    "start_time": "2023-08-18T10:42:34.462Z"
   },
   {
    "duration": 11,
    "start_time": "2023-08-18T10:42:34.483Z"
   },
   {
    "duration": 29,
    "start_time": "2023-08-18T10:42:34.496Z"
   },
   {
    "duration": 52,
    "start_time": "2023-08-18T10:42:34.527Z"
   },
   {
    "duration": 10,
    "start_time": "2023-08-18T10:42:34.581Z"
   },
   {
    "duration": 16,
    "start_time": "2023-08-18T10:42:34.593Z"
   },
   {
    "duration": 512,
    "start_time": "2023-08-18T10:42:34.611Z"
   },
   {
    "duration": 11,
    "start_time": "2023-08-18T10:42:35.124Z"
   },
   {
    "duration": 13,
    "start_time": "2023-08-18T10:42:35.136Z"
   },
   {
    "duration": 203,
    "start_time": "2023-08-18T10:42:35.151Z"
   },
   {
    "duration": 59,
    "start_time": "2023-08-18T10:42:35.360Z"
   },
   {
    "duration": 39,
    "start_time": "2023-08-18T10:42:35.421Z"
   },
   {
    "duration": 38,
    "start_time": "2023-08-18T10:42:35.462Z"
   },
   {
    "duration": 20,
    "start_time": "2023-08-18T10:42:35.502Z"
   },
   {
    "duration": 54,
    "start_time": "2023-08-18T10:42:35.524Z"
   },
   {
    "duration": 189,
    "start_time": "2023-08-18T10:42:35.580Z"
   },
   {
    "duration": 11,
    "start_time": "2023-08-18T10:42:35.771Z"
   },
   {
    "duration": 415,
    "start_time": "2023-08-18T10:42:35.784Z"
   },
   {
    "duration": 338,
    "start_time": "2023-08-18T10:42:36.201Z"
   },
   {
    "duration": 514,
    "start_time": "2023-08-18T10:42:36.541Z"
   },
   {
    "duration": 1796,
    "start_time": "2023-08-18T10:42:37.059Z"
   },
   {
    "duration": 363,
    "start_time": "2023-08-18T10:42:38.858Z"
   },
   {
    "duration": 409,
    "start_time": "2023-08-18T10:42:39.223Z"
   },
   {
    "duration": 35,
    "start_time": "2023-08-18T10:42:39.634Z"
   },
   {
    "duration": 18,
    "start_time": "2023-08-18T10:42:39.671Z"
   },
   {
    "duration": 23,
    "start_time": "2023-08-18T10:42:39.691Z"
   },
   {
    "duration": 6,
    "start_time": "2023-08-18T10:42:39.716Z"
   },
   {
    "duration": 741,
    "start_time": "2023-08-18T10:42:39.724Z"
   },
   {
    "duration": 464,
    "start_time": "2023-08-18T10:42:40.468Z"
   },
   {
    "duration": 34,
    "start_time": "2023-08-18T10:42:40.934Z"
   },
   {
    "duration": 17,
    "start_time": "2023-08-18T10:42:40.969Z"
   },
   {
    "duration": 117,
    "start_time": "2023-08-18T10:58:11.148Z"
   },
   {
    "duration": 14,
    "start_time": "2023-08-18T10:58:13.992Z"
   },
   {
    "duration": 113,
    "start_time": "2023-08-18T10:58:27.930Z"
   },
   {
    "duration": 15,
    "start_time": "2023-08-18T10:58:40.347Z"
   },
   {
    "duration": 1363,
    "start_time": "2023-08-18T11:15:54.360Z"
   },
   {
    "duration": 1103,
    "start_time": "2023-08-18T11:15:55.725Z"
   },
   {
    "duration": 467,
    "start_time": "2023-08-18T11:15:56.830Z"
   },
   {
    "duration": 244,
    "start_time": "2023-08-18T11:15:57.299Z"
   },
   {
    "duration": 41,
    "start_time": "2023-08-18T11:15:57.545Z"
   },
   {
    "duration": 3,
    "start_time": "2023-08-18T11:15:57.588Z"
   },
   {
    "duration": 58,
    "start_time": "2023-08-18T11:15:57.593Z"
   },
   {
    "duration": 27,
    "start_time": "2023-08-18T11:15:57.652Z"
   },
   {
    "duration": 17,
    "start_time": "2023-08-18T11:15:57.680Z"
   },
   {
    "duration": 12,
    "start_time": "2023-08-18T11:15:57.698Z"
   },
   {
    "duration": 12,
    "start_time": "2023-08-18T11:17:36.815Z"
   },
   {
    "duration": 86,
    "start_time": "2023-08-18T11:19:28.819Z"
   },
   {
    "duration": 41,
    "start_time": "2023-08-18T11:19:37.944Z"
   },
   {
    "duration": 31,
    "start_time": "2023-08-18T11:20:08.833Z"
   },
   {
    "duration": 64,
    "start_time": "2023-08-18T11:22:32.027Z"
   },
   {
    "duration": 79,
    "start_time": "2023-08-18T11:34:04.543Z"
   },
   {
    "duration": 3,
    "start_time": "2023-08-18T11:34:23.376Z"
   },
   {
    "duration": 1280,
    "start_time": "2023-08-18T11:34:23.381Z"
   },
   {
    "duration": 457,
    "start_time": "2023-08-18T11:34:24.663Z"
   },
   {
    "duration": 228,
    "start_time": "2023-08-18T11:34:25.122Z"
   },
   {
    "duration": 35,
    "start_time": "2023-08-18T11:34:25.352Z"
   },
   {
    "duration": 3,
    "start_time": "2023-08-18T11:34:25.389Z"
   },
   {
    "duration": 58,
    "start_time": "2023-08-18T11:34:25.393Z"
   },
   {
    "duration": 11,
    "start_time": "2023-08-18T11:34:25.452Z"
   },
   {
    "duration": 22,
    "start_time": "2023-08-18T11:34:25.464Z"
   },
   {
    "duration": 32,
    "start_time": "2023-08-18T11:34:25.487Z"
   },
   {
    "duration": 52,
    "start_time": "2023-08-18T11:34:25.520Z"
   },
   {
    "duration": 22,
    "start_time": "2023-08-18T11:34:25.575Z"
   },
   {
    "duration": 17,
    "start_time": "2023-08-18T11:34:25.598Z"
   },
   {
    "duration": 12,
    "start_time": "2023-08-18T11:34:25.620Z"
   },
   {
    "duration": 43,
    "start_time": "2023-08-18T11:34:25.633Z"
   },
   {
    "duration": 24,
    "start_time": "2023-08-18T11:34:25.678Z"
   },
   {
    "duration": 33,
    "start_time": "2023-08-18T11:34:25.704Z"
   },
   {
    "duration": 20,
    "start_time": "2023-08-18T11:34:25.739Z"
   },
   {
    "duration": 16,
    "start_time": "2023-08-18T11:34:25.761Z"
   },
   {
    "duration": 524,
    "start_time": "2023-08-18T11:34:25.779Z"
   },
   {
    "duration": 8,
    "start_time": "2023-08-18T11:34:26.305Z"
   },
   {
    "duration": 11,
    "start_time": "2023-08-18T11:34:26.314Z"
   },
   {
    "duration": 153,
    "start_time": "2023-08-18T11:34:26.327Z"
   },
   {
    "duration": 50,
    "start_time": "2023-08-18T11:34:26.482Z"
   },
   {
    "duration": 20,
    "start_time": "2023-08-18T11:34:26.534Z"
   },
   {
    "duration": 37,
    "start_time": "2023-08-18T11:34:26.575Z"
   },
   {
    "duration": 17,
    "start_time": "2023-08-18T11:34:26.613Z"
   },
   {
    "duration": 24,
    "start_time": "2023-08-18T11:34:26.631Z"
   },
   {
    "duration": 179,
    "start_time": "2023-08-18T11:34:26.656Z"
   },
   {
    "duration": 11,
    "start_time": "2023-08-18T11:34:26.837Z"
   },
   {
    "duration": 379,
    "start_time": "2023-08-18T11:34:26.849Z"
   },
   {
    "duration": 304,
    "start_time": "2023-08-18T11:34:27.230Z"
   },
   {
    "duration": 444,
    "start_time": "2023-08-18T11:34:27.535Z"
   },
   {
    "duration": 1543,
    "start_time": "2023-08-18T11:34:27.981Z"
   },
   {
    "duration": 268,
    "start_time": "2023-08-18T11:34:29.525Z"
   },
   {
    "duration": 404,
    "start_time": "2023-08-18T11:34:29.794Z"
   },
   {
    "duration": 20,
    "start_time": "2023-08-18T11:34:30.200Z"
   },
   {
    "duration": 58,
    "start_time": "2023-08-18T11:34:30.222Z"
   },
   {
    "duration": 26,
    "start_time": "2023-08-18T11:34:30.282Z"
   },
   {
    "duration": 18,
    "start_time": "2023-08-18T11:34:30.310Z"
   },
   {
    "duration": 743,
    "start_time": "2023-08-18T11:34:30.332Z"
   },
   {
    "duration": 450,
    "start_time": "2023-08-18T11:34:31.077Z"
   },
   {
    "duration": 103,
    "start_time": "2023-08-18T11:34:47.022Z"
   },
   {
    "duration": 4,
    "start_time": "2023-08-18T11:35:49.431Z"
   },
   {
    "duration": 387,
    "start_time": "2023-08-18T11:36:04.082Z"
   },
   {
    "duration": 3,
    "start_time": "2023-08-18T11:56:12.313Z"
   },
   {
    "duration": 1241,
    "start_time": "2023-08-18T11:56:12.318Z"
   },
   {
    "duration": 533,
    "start_time": "2023-08-18T11:56:13.561Z"
   },
   {
    "duration": 260,
    "start_time": "2023-08-18T11:56:14.097Z"
   },
   {
    "duration": 34,
    "start_time": "2023-08-18T11:56:14.359Z"
   },
   {
    "duration": 3,
    "start_time": "2023-08-18T11:56:14.395Z"
   },
   {
    "duration": 77,
    "start_time": "2023-08-18T11:56:14.400Z"
   },
   {
    "duration": 10,
    "start_time": "2023-08-18T11:56:14.479Z"
   },
   {
    "duration": 19,
    "start_time": "2023-08-18T11:56:14.493Z"
   },
   {
    "duration": 31,
    "start_time": "2023-08-18T11:56:14.515Z"
   },
   {
    "duration": 75,
    "start_time": "2023-08-18T11:56:14.548Z"
   },
   {
    "duration": 25,
    "start_time": "2023-08-18T11:56:14.626Z"
   },
   {
    "duration": 32,
    "start_time": "2023-08-18T11:56:14.674Z"
   },
   {
    "duration": 19,
    "start_time": "2023-08-18T11:56:14.709Z"
   },
   {
    "duration": 12,
    "start_time": "2023-08-18T11:56:14.731Z"
   },
   {
    "duration": 29,
    "start_time": "2023-08-18T11:56:14.775Z"
   },
   {
    "duration": 47,
    "start_time": "2023-08-18T11:57:50.366Z"
   },
   {
    "duration": 117,
    "start_time": "2023-08-18T11:58:56.207Z"
   },
   {
    "duration": 32,
    "start_time": "2023-08-18T11:59:22.273Z"
   },
   {
    "duration": 36,
    "start_time": "2023-08-18T12:00:08.527Z"
   },
   {
    "duration": 37,
    "start_time": "2023-08-18T12:00:39.350Z"
   },
   {
    "duration": 30,
    "start_time": "2023-08-18T12:00:45.376Z"
   },
   {
    "duration": 30,
    "start_time": "2023-08-18T12:02:31.262Z"
   },
   {
    "duration": 27,
    "start_time": "2023-08-18T12:05:51.253Z"
   },
   {
    "duration": 17,
    "start_time": "2023-08-18T12:07:05.059Z"
   },
   {
    "duration": 35,
    "start_time": "2023-08-18T12:08:10.809Z"
   },
   {
    "duration": 32,
    "start_time": "2023-08-18T12:09:37.704Z"
   },
   {
    "duration": 26,
    "start_time": "2023-08-18T12:11:34.611Z"
   },
   {
    "duration": 31,
    "start_time": "2023-08-18T12:11:55.780Z"
   },
   {
    "duration": 31,
    "start_time": "2023-08-18T12:12:02.786Z"
   },
   {
    "duration": 20,
    "start_time": "2023-08-18T12:12:15.304Z"
   },
   {
    "duration": 18,
    "start_time": "2023-08-18T12:12:26.001Z"
   },
   {
    "duration": 18,
    "start_time": "2023-08-18T12:13:49.305Z"
   },
   {
    "duration": 32,
    "start_time": "2023-08-18T12:16:16.997Z"
   },
   {
    "duration": 30,
    "start_time": "2023-08-18T12:16:43.460Z"
   },
   {
    "duration": 19,
    "start_time": "2023-08-18T12:17:34.086Z"
   },
   {
    "duration": 4,
    "start_time": "2023-08-18T12:17:40.448Z"
   },
   {
    "duration": 1341,
    "start_time": "2023-08-18T12:17:40.454Z"
   },
   {
    "duration": 523,
    "start_time": "2023-08-18T12:17:41.797Z"
   },
   {
    "duration": 252,
    "start_time": "2023-08-18T12:17:42.322Z"
   },
   {
    "duration": 34,
    "start_time": "2023-08-18T12:17:42.577Z"
   },
   {
    "duration": 3,
    "start_time": "2023-08-18T12:17:42.613Z"
   },
   {
    "duration": 74,
    "start_time": "2023-08-18T12:17:42.617Z"
   },
   {
    "duration": 11,
    "start_time": "2023-08-18T12:17:42.693Z"
   },
   {
    "duration": 36,
    "start_time": "2023-08-18T12:17:42.706Z"
   },
   {
    "duration": 38,
    "start_time": "2023-08-18T12:17:42.743Z"
   },
   {
    "duration": 55,
    "start_time": "2023-08-18T12:17:42.784Z"
   },
   {
    "duration": 26,
    "start_time": "2023-08-18T12:17:42.841Z"
   },
   {
    "duration": 25,
    "start_time": "2023-08-18T12:17:42.869Z"
   },
   {
    "duration": 16,
    "start_time": "2023-08-18T12:17:42.896Z"
   },
   {
    "duration": 29,
    "start_time": "2023-08-18T12:17:42.915Z"
   },
   {
    "duration": 66,
    "start_time": "2023-08-18T12:17:42.947Z"
   },
   {
    "duration": 28,
    "start_time": "2023-08-18T12:17:43.015Z"
   },
   {
    "duration": 38,
    "start_time": "2023-08-18T12:17:43.045Z"
   },
   {
    "duration": 8,
    "start_time": "2023-08-18T12:17:43.085Z"
   },
   {
    "duration": 409,
    "start_time": "2023-08-18T12:17:43.095Z"
   },
   {
    "duration": 11,
    "start_time": "2023-08-18T12:17:43.506Z"
   },
   {
    "duration": 21,
    "start_time": "2023-08-18T12:17:43.519Z"
   },
   {
    "duration": 172,
    "start_time": "2023-08-18T12:17:43.541Z"
   },
   {
    "duration": 69,
    "start_time": "2023-08-18T12:17:43.715Z"
   },
   {
    "duration": 24,
    "start_time": "2023-08-18T12:17:43.786Z"
   },
   {
    "duration": 55,
    "start_time": "2023-08-18T12:17:43.812Z"
   },
   {
    "duration": 31,
    "start_time": "2023-08-18T12:17:43.873Z"
   },
   {
    "duration": 38,
    "start_time": "2023-08-18T12:17:43.906Z"
   },
   {
    "duration": 221,
    "start_time": "2023-08-18T12:17:43.948Z"
   },
   {
    "duration": 34,
    "start_time": "2023-08-18T12:17:44.175Z"
   },
   {
    "duration": 31,
    "start_time": "2023-08-18T12:17:44.212Z"
   },
   {
    "duration": 19,
    "start_time": "2023-08-18T12:17:44.245Z"
   },
   {
    "duration": 430,
    "start_time": "2023-08-18T12:17:44.266Z"
   },
   {
    "duration": 484,
    "start_time": "2023-08-18T12:17:44.698Z"
   },
   {
    "duration": 462,
    "start_time": "2023-08-18T12:17:45.184Z"
   },
   {
    "duration": 1788,
    "start_time": "2023-08-18T12:17:45.647Z"
   },
   {
    "duration": 434,
    "start_time": "2023-08-18T12:17:47.436Z"
   },
   {
    "duration": 319,
    "start_time": "2023-08-18T12:17:47.871Z"
   },
   {
    "duration": 21,
    "start_time": "2023-08-18T12:17:48.191Z"
   },
   {
    "duration": 36,
    "start_time": "2023-08-18T12:17:48.214Z"
   },
   {
    "duration": 25,
    "start_time": "2023-08-18T12:17:48.252Z"
   },
   {
    "duration": 8,
    "start_time": "2023-08-18T12:17:48.278Z"
   },
   {
    "duration": 678,
    "start_time": "2023-08-18T12:17:48.287Z"
   },
   {
    "duration": 466,
    "start_time": "2023-08-18T12:17:48.967Z"
   },
   {
    "duration": 42,
    "start_time": "2023-08-18T12:17:49.435Z"
   },
   {
    "duration": 34,
    "start_time": "2023-08-18T12:17:49.479Z"
   },
   {
    "duration": 14,
    "start_time": "2023-08-18T12:17:49.515Z"
   },
   {
    "duration": 1404,
    "start_time": "2023-08-18T12:40:52.144Z"
   },
   {
    "duration": 1365,
    "start_time": "2023-08-18T12:40:53.550Z"
   },
   {
    "duration": 565,
    "start_time": "2023-08-18T12:40:54.917Z"
   },
   {
    "duration": 255,
    "start_time": "2023-08-18T12:40:55.485Z"
   },
   {
    "duration": 46,
    "start_time": "2023-08-18T12:40:55.741Z"
   },
   {
    "duration": 4,
    "start_time": "2023-08-18T12:40:55.789Z"
   },
   {
    "duration": 47,
    "start_time": "2023-08-18T12:40:55.795Z"
   },
   {
    "duration": 33,
    "start_time": "2023-08-18T12:40:55.844Z"
   },
   {
    "duration": 30,
    "start_time": "2023-08-18T12:40:55.878Z"
   },
   {
    "duration": 11,
    "start_time": "2023-08-18T12:40:55.911Z"
   },
   {
    "duration": 59,
    "start_time": "2023-08-18T12:40:55.923Z"
   },
   {
    "duration": 26,
    "start_time": "2023-08-18T12:40:55.984Z"
   },
   {
    "duration": 17,
    "start_time": "2023-08-18T12:40:56.012Z"
   },
   {
    "duration": 45,
    "start_time": "2023-08-18T12:40:56.031Z"
   },
   {
    "duration": 32,
    "start_time": "2023-08-18T12:40:56.079Z"
   },
   {
    "duration": 28,
    "start_time": "2023-08-18T12:40:56.113Z"
   },
   {
    "duration": 43,
    "start_time": "2023-08-18T12:40:56.143Z"
   },
   {
    "duration": 11,
    "start_time": "2023-08-18T12:40:56.188Z"
   },
   {
    "duration": 32,
    "start_time": "2023-08-18T12:40:56.201Z"
   },
   {
    "duration": 477,
    "start_time": "2023-08-18T12:40:56.235Z"
   },
   {
    "duration": 11,
    "start_time": "2023-08-18T12:40:56.714Z"
   },
   {
    "duration": 50,
    "start_time": "2023-08-18T12:40:56.726Z"
   },
   {
    "duration": 203,
    "start_time": "2023-08-18T12:40:56.779Z"
   },
   {
    "duration": 78,
    "start_time": "2023-08-18T12:40:56.985Z"
   },
   {
    "duration": 30,
    "start_time": "2023-08-18T12:40:57.066Z"
   },
   {
    "duration": 70,
    "start_time": "2023-08-18T12:40:57.098Z"
   },
   {
    "duration": 27,
    "start_time": "2023-08-18T12:40:57.171Z"
   },
   {
    "duration": 34,
    "start_time": "2023-08-18T12:40:57.202Z"
   },
   {
    "duration": 242,
    "start_time": "2023-08-18T12:40:57.238Z"
   },
   {
    "duration": 35,
    "start_time": "2023-08-18T12:40:57.481Z"
   },
   {
    "duration": 17,
    "start_time": "2023-08-18T12:40:57.517Z"
   },
   {
    "duration": 42,
    "start_time": "2023-08-18T12:40:57.536Z"
   },
   {
    "duration": 463,
    "start_time": "2023-08-18T12:40:57.580Z"
   },
   {
    "duration": 387,
    "start_time": "2023-08-18T12:40:58.044Z"
   },
   {
    "duration": 576,
    "start_time": "2023-08-18T12:40:58.432Z"
   },
   {
    "duration": 1920,
    "start_time": "2023-08-18T12:40:59.010Z"
   },
   {
    "duration": 355,
    "start_time": "2023-08-18T12:41:00.932Z"
   },
   {
    "duration": 470,
    "start_time": "2023-08-18T12:41:01.289Z"
   },
   {
    "duration": 29,
    "start_time": "2023-08-18T12:41:01.766Z"
   },
   {
    "duration": 224,
    "start_time": "2023-08-18T12:41:01.797Z"
   },
   {
    "duration": 52,
    "start_time": "2023-08-18T12:41:02.023Z"
   },
   {
    "duration": 48,
    "start_time": "2023-08-18T12:41:02.079Z"
   },
   {
    "duration": 875,
    "start_time": "2023-08-18T12:41:02.129Z"
   },
   {
    "duration": 436,
    "start_time": "2023-08-18T12:41:03.006Z"
   },
   {
    "duration": 998,
    "start_time": "2023-08-18T12:41:03.444Z"
   },
   {
    "duration": 39,
    "start_time": "2023-08-18T12:41:04.445Z"
   },
   {
    "duration": 18,
    "start_time": "2023-08-18T12:41:04.485Z"
   },
   {
    "duration": 1475,
    "start_time": "2023-09-14T07:56:21.294Z"
   },
   {
    "duration": 1058,
    "start_time": "2023-09-14T07:56:22.771Z"
   },
   {
    "duration": 524,
    "start_time": "2023-09-14T07:56:23.831Z"
   },
   {
    "duration": 286,
    "start_time": "2023-09-14T07:56:24.358Z"
   },
   {
    "duration": 47,
    "start_time": "2023-09-14T07:56:24.646Z"
   },
   {
    "duration": 3,
    "start_time": "2023-09-14T07:56:24.697Z"
   },
   {
    "duration": 68,
    "start_time": "2023-09-14T07:56:24.702Z"
   },
   {
    "duration": 23,
    "start_time": "2023-09-14T07:56:24.772Z"
   },
   {
    "duration": 20,
    "start_time": "2023-09-14T07:56:24.796Z"
   },
   {
    "duration": 23,
    "start_time": "2023-09-14T07:56:24.819Z"
   },
   {
    "duration": 59,
    "start_time": "2023-09-14T07:56:24.844Z"
   },
   {
    "duration": 22,
    "start_time": "2023-09-14T07:56:24.905Z"
   },
   {
    "duration": 18,
    "start_time": "2023-09-14T07:56:24.928Z"
   },
   {
    "duration": 39,
    "start_time": "2023-09-14T07:56:24.948Z"
   },
   {
    "duration": 20,
    "start_time": "2023-09-14T07:56:24.989Z"
   },
   {
    "duration": 46,
    "start_time": "2023-09-14T07:56:25.011Z"
   },
   {
    "duration": 28,
    "start_time": "2023-09-14T07:56:25.058Z"
   },
   {
    "duration": 14,
    "start_time": "2023-09-14T07:56:25.087Z"
   },
   {
    "duration": 38,
    "start_time": "2023-09-14T07:56:25.103Z"
   },
   {
    "duration": 553,
    "start_time": "2023-09-14T07:56:25.143Z"
   },
   {
    "duration": 10,
    "start_time": "2023-09-14T07:56:25.697Z"
   },
   {
    "duration": 33,
    "start_time": "2023-09-14T07:56:25.709Z"
   },
   {
    "duration": 210,
    "start_time": "2023-09-14T07:56:25.744Z"
   },
   {
    "duration": 74,
    "start_time": "2023-09-14T07:56:25.956Z"
   },
   {
    "duration": 23,
    "start_time": "2023-09-14T07:56:26.032Z"
   },
   {
    "duration": 102,
    "start_time": "2023-09-14T07:56:26.057Z"
   },
   {
    "duration": 29,
    "start_time": "2023-09-14T07:56:26.161Z"
   },
   {
    "duration": 30,
    "start_time": "2023-09-14T07:56:26.194Z"
   },
   {
    "duration": 217,
    "start_time": "2023-09-14T07:56:26.225Z"
   },
   {
    "duration": 51,
    "start_time": "2023-09-14T07:56:26.444Z"
   },
   {
    "duration": 45,
    "start_time": "2023-09-14T07:56:26.497Z"
   },
   {
    "duration": 32,
    "start_time": "2023-09-14T07:56:26.543Z"
   },
   {
    "duration": 550,
    "start_time": "2023-09-14T07:56:26.577Z"
   },
   {
    "duration": 396,
    "start_time": "2023-09-14T07:56:27.128Z"
   },
   {
    "duration": 529,
    "start_time": "2023-09-14T07:56:27.525Z"
   },
   {
    "duration": 1873,
    "start_time": "2023-09-14T07:56:28.056Z"
   },
   {
    "duration": 350,
    "start_time": "2023-09-14T07:56:29.931Z"
   },
   {
    "duration": 426,
    "start_time": "2023-09-14T07:56:30.283Z"
   },
   {
    "duration": 20,
    "start_time": "2023-09-14T07:56:30.711Z"
   },
   {
    "duration": 56,
    "start_time": "2023-09-14T07:56:30.733Z"
   },
   {
    "duration": 65,
    "start_time": "2023-09-14T07:56:30.797Z"
   },
   {
    "duration": 116,
    "start_time": "2023-09-14T07:56:30.864Z"
   },
   {
    "duration": 838,
    "start_time": "2023-09-14T07:56:30.991Z"
   },
   {
    "duration": 477,
    "start_time": "2023-09-14T07:56:31.831Z"
   },
   {
    "duration": 200,
    "start_time": "2023-09-14T07:56:32.310Z"
   },
   {
    "duration": 75,
    "start_time": "2023-09-14T07:56:32.512Z"
   },
   {
    "duration": 18,
    "start_time": "2023-09-14T07:56:32.589Z"
   }
  ],
  "kernelspec": {
   "display_name": "Python 3 (ipykernel)",
   "language": "python",
   "name": "python3"
  },
  "language_info": {
   "codemirror_mode": {
    "name": "ipython",
    "version": 3
   },
   "file_extension": ".py",
   "mimetype": "text/x-python",
   "name": "python",
   "nbconvert_exporter": "python",
   "pygments_lexer": "ipython3",
   "version": "3.9.13"
  },
  "toc": {
   "base_numbering": 1,
   "nav_menu": {},
   "number_sections": true,
   "sideBar": true,
   "skip_h1_title": true,
   "title_cell": "Table of Contents",
   "title_sidebar": "Contents",
   "toc_cell": false,
   "toc_position": {},
   "toc_section_display": true,
   "toc_window_display": true
  }
 },
 "nbformat": 4,
 "nbformat_minor": 5
}
