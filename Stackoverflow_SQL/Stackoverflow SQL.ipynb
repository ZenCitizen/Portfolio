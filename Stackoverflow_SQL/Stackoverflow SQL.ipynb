{
 "cells": [
  {
   "cell_type": "markdown",
   "metadata": {
    "id": "sRW85nPMDWKb"
   },
   "source": [
    "# Исследование базы данных Stackoverflow\n",
    "\n",
    "В этом исследовании работа идёт с базой данных StackOverflow — сервиса вопросов и ответов о программировании. StackOverflow похож на социальную сеть — пользователи сервиса задают вопросы, отвечают на посты, оставляют комментарии и ставят оценки другим ответам.     \n",
    "Я исследовала предоставленные данные, сформировала требуемые выгрузки данных с помощью SQL, посчитала различные продуктовые метрики и визуализировала их с помощью библиотек matplotlib, seaborn.\n",
    "\n",
    "К БД подключилась с помощью SQLAlchemy. "
   ]
  },
  {
   "cell_type": "code",
   "execution_count": 21,
   "metadata": {
    "id": "nlZBlglMDWKe"
   },
   "outputs": [],
   "source": [
    "import pandas as pd\n",
    "import matplotlib.pyplot as plt\n",
    "from sqlalchemy import create_engine \n",
    "import seaborn as sns"
   ]
  },
  {
   "cell_type": "markdown",
   "metadata": {
    "id": "XnOE3n28DWKg"
   },
   "source": [
    "### Конфигурация для подключения к БД 'data-analyst-advanced-sql', cxема stackoverflow"
   ]
  },
  {
   "cell_type": "code",
   "execution_count": 22,
   "metadata": {
    "id": "6p-yGp7qDWKg"
   },
   "outputs": [],
   "source": [
    "db_config = {\n",
    "    'user': 'praktikum_student', \n",
    "    'pwd': '****************, \n",
    "    'host': 'rc1b-wcoijxj3yxfsf3fs.mdb.yandexcloud.net',\n",
    "    'port': 6432,\n",
    "    'db': 'data-analyst-advanced-sql' \n",
    "}  \n",
    "\n",
    "connection_string = 'postgresql://{}:{}@{}:{}/{}'.format(\n",
    "    db_config['user'],\n",
    "    db_config['pwd'],\n",
    "    db_config['host'],\n",
    "    db_config['port'],\n",
    "    db_config['db'],\n",
    ")"
   ]
  },
  {
   "cell_type": "markdown",
   "metadata": {
    "id": "2Rg8ZpS0DWKh"
   },
   "source": [
    "Создание подключения"
   ]
  },
  {
   "cell_type": "code",
   "execution_count": 23,
   "metadata": {
    "id": "DamCUTR6DWKi"
   },
   "outputs": [],
   "source": [
    "engine = create_engine(connection_string) "
   ]
  },
  {
   "cell_type": "markdown",
   "metadata": {
    "id": "gnBMXkDBDWKm"
   },
   "source": [
    "# Задание 1"
   ]
  },
  {
   "cell_type": "markdown",
   "metadata": {
    "id": "vHsfOrrNDWKn"
   },
   "source": [
    "Выведите общую сумму просмотров постов за каждый месяц 2008 года. Если данных за какой-либо месяц в базе нет, такой месяц можно пропустить. Результат отсортируйте по убыванию общего количества просмотров."
   ]
  },
  {
   "cell_type": "markdown",
   "metadata": {
    "id": "N5rTgGNmDWKn"
   },
   "source": [
    "| month_date  | total_views |\n",
    "| ------------- | ------------- |\n",
    "| 2008-09-01  | 452928568  |\n",
    "| 2008-10-01  | 365400138  |\n",
    "| ...         | ... |"
   ]
  },
  {
   "cell_type": "code",
   "execution_count": 24,
   "metadata": {
    "id": "eWvykcXTDWKo"
   },
   "outputs": [
    {
     "data": {
      "text/html": [
       "<div>\n",
       "<style scoped>\n",
       "    .dataframe tbody tr th:only-of-type {\n",
       "        vertical-align: middle;\n",
       "    }\n",
       "\n",
       "    .dataframe tbody tr th {\n",
       "        vertical-align: top;\n",
       "    }\n",
       "\n",
       "    .dataframe thead th {\n",
       "        text-align: right;\n",
       "    }\n",
       "</style>\n",
       "<table border=\"1\" class=\"dataframe\">\n",
       "  <thead>\n",
       "    <tr style=\"text-align: right;\">\n",
       "      <th></th>\n",
       "      <th>month_date</th>\n",
       "      <th>views_total</th>\n",
       "    </tr>\n",
       "  </thead>\n",
       "  <tbody>\n",
       "    <tr>\n",
       "      <th>0</th>\n",
       "      <td>2008-09-01</td>\n",
       "      <td>452928568</td>\n",
       "    </tr>\n",
       "    <tr>\n",
       "      <th>1</th>\n",
       "      <td>2008-10-01</td>\n",
       "      <td>365400138</td>\n",
       "    </tr>\n",
       "    <tr>\n",
       "      <th>2</th>\n",
       "      <td>2008-11-01</td>\n",
       "      <td>221759651</td>\n",
       "    </tr>\n",
       "    <tr>\n",
       "      <th>3</th>\n",
       "      <td>2008-12-01</td>\n",
       "      <td>197792841</td>\n",
       "    </tr>\n",
       "    <tr>\n",
       "      <th>4</th>\n",
       "      <td>2008-08-01</td>\n",
       "      <td>131367083</td>\n",
       "    </tr>\n",
       "    <tr>\n",
       "      <th>5</th>\n",
       "      <td>2008-07-01</td>\n",
       "      <td>669895</td>\n",
       "    </tr>\n",
       "  </tbody>\n",
       "</table>\n",
       "</div>"
      ],
      "text/plain": [
       "   month_date  views_total\n",
       "0  2008-09-01    452928568\n",
       "1  2008-10-01    365400138\n",
       "2  2008-11-01    221759651\n",
       "3  2008-12-01    197792841\n",
       "4  2008-08-01    131367083\n",
       "5  2008-07-01       669895"
      ]
     },
     "execution_count": 24,
     "metadata": {},
     "output_type": "execute_result"
    }
   ],
   "source": [
    "# напишите запрос\n",
    "query = '''\n",
    "SELECT DATE_TRUNC('month', creation_date)::date month_date, \n",
    "\t   sum(views_count) views_total\n",
    "FROM stackoverflow.posts p \n",
    "WHERE EXTRACT (YEAR FROM creation_date) = '2008'\n",
    "GROUP BY month_date\n",
    "ORDER BY views_total DESC\n",
    "'''\n",
    "\n",
    "# выполните запрос\n",
    "df_task1 = pd.read_sql_query(query, con=engine) \n",
    "df_task1"
   ]
  },
  {
   "cell_type": "markdown",
   "metadata": {
    "id": "FziIXkn5DWKr"
   },
   "source": [
    "# Задание 2"
   ]
  },
  {
   "cell_type": "markdown",
   "metadata": {
    "id": "fTGESZvYDWKr"
   },
   "source": [
    "Выведите имена самых активных пользователей, которые в первый месяц после регистрации (включая день регистрации) дали больше 100 ответов. Вопросы, которые задавали пользователи, не учитывайте. Для каждого имени пользователя выведите количество уникальных значений `user_id`. Отсортируйте результат по полю с именами в лексикографическом порядке."
   ]
  },
  {
   "cell_type": "markdown",
   "metadata": {
    "id": "W5-tv6Y3DWKs"
   },
   "source": [
    "| display_name | count |\n",
    "| ------------ | ----- |\n",
    "| 1800 INFORMATION | 1 |\n",
    "| Adam Bellaire | 1 |\n",
    "| Adam Davis | 1 |\n",
    "| ... | ... |"
   ]
  },
  {
   "cell_type": "code",
   "execution_count": 25,
   "metadata": {
    "id": "fIO-y-YjDWKt"
   },
   "outputs": [
    {
     "data": {
      "text/html": [
       "<div>\n",
       "<style scoped>\n",
       "    .dataframe tbody tr th:only-of-type {\n",
       "        vertical-align: middle;\n",
       "    }\n",
       "\n",
       "    .dataframe tbody tr th {\n",
       "        vertical-align: top;\n",
       "    }\n",
       "\n",
       "    .dataframe thead th {\n",
       "        text-align: right;\n",
       "    }\n",
       "</style>\n",
       "<table border=\"1\" class=\"dataframe\">\n",
       "  <thead>\n",
       "    <tr style=\"text-align: right;\">\n",
       "      <th></th>\n",
       "      <th>display_name</th>\n",
       "      <th>count</th>\n",
       "    </tr>\n",
       "  </thead>\n",
       "  <tbody>\n",
       "    <tr>\n",
       "      <th>0</th>\n",
       "      <td>1800 INFORMATION</td>\n",
       "      <td>1</td>\n",
       "    </tr>\n",
       "    <tr>\n",
       "      <th>1</th>\n",
       "      <td>Adam Bellaire</td>\n",
       "      <td>1</td>\n",
       "    </tr>\n",
       "    <tr>\n",
       "      <th>2</th>\n",
       "      <td>Adam Davis</td>\n",
       "      <td>1</td>\n",
       "    </tr>\n",
       "    <tr>\n",
       "      <th>3</th>\n",
       "      <td>Adam Liss</td>\n",
       "      <td>1</td>\n",
       "    </tr>\n",
       "    <tr>\n",
       "      <th>4</th>\n",
       "      <td>Alan</td>\n",
       "      <td>8</td>\n",
       "    </tr>\n",
       "  </tbody>\n",
       "</table>\n",
       "</div>"
      ],
      "text/plain": [
       "       display_name  count\n",
       "0  1800 INFORMATION      1\n",
       "1     Adam Bellaire      1\n",
       "2        Adam Davis      1\n",
       "3         Adam Liss      1\n",
       "4              Alan      8"
      ]
     },
     "execution_count": 25,
     "metadata": {},
     "output_type": "execute_result"
    }
   ],
   "source": [
    "# напишите запрос\n",
    "query = '''\n",
    "WITH raw AS \n",
    "\t(SELECT u.id user_id, u.creation_date :: date, u.display_name,\n",
    "\t\t   p.id post_id, \n",
    "\t\t   p.creation_date :: date post_dt\n",
    "\tFROM stackoverflow.posts p\n",
    "\tJOIN stackoverflow.users u ON u.id = p.user_id\n",
    "\tWHERE post_type_id IN (SELECT id \n",
    "\t\t\t\t\t\t\tFROM stackoverflow.post_types \n",
    "\t\t\t\t\t\t\tWHERE TYPE = 'Answer')\n",
    "\tAND p.creation_date BETWEEN u.creation_date AND u.creation_date + INTERVAL '30 days')\n",
    "SELECT display_name, count(DISTINCT user_id) \n",
    "FROM raw\n",
    "GROUP BY display_name\n",
    "HAVING count(post_id) > 100\n",
    "ORDER BY display_name\n",
    "\n",
    "'''\n",
    "\n",
    "# выполните запрос\n",
    "df_task2 = pd.read_sql_query(query, con=engine) \n",
    "df_task2.head()"
   ]
  },
  {
   "cell_type": "markdown",
   "metadata": {
    "id": "JhM2xXj5DWKu"
   },
   "source": [
    "# Задание 3"
   ]
  },
  {
   "cell_type": "markdown",
   "metadata": {
    "id": "IS6xPqyyDWKu"
   },
   "source": [
    "Выведите количество постов за 2008 год по месяцам. Отберите посты от пользователей, которые зарегистрировались в сентябре 2008 года и сделали хотя бы один пост в декабре того же года. Отсортируйте таблицу по значению месяца по убыванию."
   ]
  },
  {
   "cell_type": "markdown",
   "metadata": {
    "id": "WmjhjV2xDWKv"
   },
   "source": [
    "| month | count |\n",
    "| ------|------ |\n",
    "| 2008-12-01 | 17641 |\n",
    "| 2008-11-01 | 18294 |\n",
    "| ... | ... |"
   ]
  },
  {
   "cell_type": "code",
   "execution_count": 26,
   "metadata": {
    "id": "kVu0FB8WDWKv"
   },
   "outputs": [
    {
     "data": {
      "text/html": [
       "<div>\n",
       "<style scoped>\n",
       "    .dataframe tbody tr th:only-of-type {\n",
       "        vertical-align: middle;\n",
       "    }\n",
       "\n",
       "    .dataframe tbody tr th {\n",
       "        vertical-align: top;\n",
       "    }\n",
       "\n",
       "    .dataframe thead th {\n",
       "        text-align: right;\n",
       "    }\n",
       "</style>\n",
       "<table border=\"1\" class=\"dataframe\">\n",
       "  <thead>\n",
       "    <tr style=\"text-align: right;\">\n",
       "      <th></th>\n",
       "      <th>month_date</th>\n",
       "      <th>count</th>\n",
       "    </tr>\n",
       "  </thead>\n",
       "  <tbody>\n",
       "    <tr>\n",
       "      <th>0</th>\n",
       "      <td>2008-12-01</td>\n",
       "      <td>17641</td>\n",
       "    </tr>\n",
       "    <tr>\n",
       "      <th>1</th>\n",
       "      <td>2008-11-01</td>\n",
       "      <td>18294</td>\n",
       "    </tr>\n",
       "    <tr>\n",
       "      <th>2</th>\n",
       "      <td>2008-10-01</td>\n",
       "      <td>27171</td>\n",
       "    </tr>\n",
       "    <tr>\n",
       "      <th>3</th>\n",
       "      <td>2008-09-01</td>\n",
       "      <td>24870</td>\n",
       "    </tr>\n",
       "    <tr>\n",
       "      <th>4</th>\n",
       "      <td>2008-08-01</td>\n",
       "      <td>32</td>\n",
       "    </tr>\n",
       "  </tbody>\n",
       "</table>\n",
       "</div>"
      ],
      "text/plain": [
       "   month_date  count\n",
       "0  2008-12-01  17641\n",
       "1  2008-11-01  18294\n",
       "2  2008-10-01  27171\n",
       "3  2008-09-01  24870\n",
       "4  2008-08-01     32"
      ]
     },
     "execution_count": 26,
     "metadata": {},
     "output_type": "execute_result"
    }
   ],
   "source": [
    "# напишите запрос\n",
    "query = '''\n",
    "-- users who registered 09/2008\t\t\t\t\t\t\n",
    "WITH users as\n",
    "\t(SELECT id user_id, creation_date :: date\n",
    "\tFROM stackoverflow.users\n",
    "\tWHERE DATE_TRUNC('month', creation_date) = '2008-09-01'),\n",
    "-- users who had posts at 12/2008\t\n",
    "users_list AS \t\n",
    "\t(SELECT DISTINCT u.user_id\n",
    "\tFROM users u\n",
    "\tJOIN stackoverflow.posts p ON u.user_id = p.user_id \n",
    "\tWHERE DATE_TRUNC('month', p.creation_date) = '2008-12-01')\n",
    "-- count of posts by users_list\n",
    "SELECT cast(date_trunc('month', p.creation_date) AS date) month_date, count(p.id)\n",
    "FROM users_list u\n",
    "JOIN stackoverflow.posts p ON u.user_id = p.user_id \n",
    "GROUP BY month_date\n",
    "ORDER BY month_date DESC \n",
    "'''\n",
    "\n",
    "# выполните запрос\n",
    "df_task3 = pd.read_sql_query(query, con=engine) \n",
    "df_task3"
   ]
  },
  {
   "cell_type": "markdown",
   "metadata": {
    "id": "5Pcizm0DDWKz"
   },
   "source": [
    "# Задание 4"
   ]
  },
  {
   "cell_type": "markdown",
   "metadata": {
    "id": "KUZPF6vHDWKz"
   },
   "source": [
    "Используя данные о постах, выведите несколько полей:\n",
    "\n",
    "- идентификатор пользователя, который написал пост;\n",
    "- дата создания поста;\n",
    "- количество просмотров у текущего поста;\n",
    "- сумму просмотров постов автора с накоплением.\n",
    "\n",
    "Данные в таблице должны быть отсортированы по возрастанию идентификаторов пользователей, а данные об одном и том же пользователе — по возрастанию даты создания поста."
   ]
  },
  {
   "cell_type": "markdown",
   "metadata": {
    "id": "ZpsTUVDYDWK0"
   },
   "source": [
    "| user_id | creation_date | views_count | cumulative_count |\n",
    "| ------ | -------------- | ----------- | ---------------- |\n",
    "| 1 | 2008-07-31 23:41:00  | 480476   | 480476  |\n",
    "| 1 | 2008-07-31 23:55:38  | 136033 | 616509  | \n",
    "| 1 | 2008-07-31 23:56:41  | 0 |  616509  |\n",
    "| ... | ... | ... | ... |\n",
    "| 2 | 2008-07-31 23:56:41 | 79087  | 79087 |\n",
    "| 2 | 2008-08-01 05:09:56 | 65443 | 144530 |\n",
    "| ... | ...  | ...  | ...  |"
   ]
  },
  {
   "cell_type": "code",
   "execution_count": 27,
   "metadata": {
    "id": "hDoJhMzfDWK0"
   },
   "outputs": [
    {
     "data": {
      "text/html": [
       "<div>\n",
       "<style scoped>\n",
       "    .dataframe tbody tr th:only-of-type {\n",
       "        vertical-align: middle;\n",
       "    }\n",
       "\n",
       "    .dataframe tbody tr th {\n",
       "        vertical-align: top;\n",
       "    }\n",
       "\n",
       "    .dataframe thead th {\n",
       "        text-align: right;\n",
       "    }\n",
       "</style>\n",
       "<table border=\"1\" class=\"dataframe\">\n",
       "  <thead>\n",
       "    <tr style=\"text-align: right;\">\n",
       "      <th></th>\n",
       "      <th>user_id</th>\n",
       "      <th>creation_date</th>\n",
       "      <th>views_count</th>\n",
       "      <th>cumulative_count</th>\n",
       "    </tr>\n",
       "  </thead>\n",
       "  <tbody>\n",
       "    <tr>\n",
       "      <th>0</th>\n",
       "      <td>1</td>\n",
       "      <td>2008-07-31 23:41:00</td>\n",
       "      <td>480476</td>\n",
       "      <td>480476</td>\n",
       "    </tr>\n",
       "    <tr>\n",
       "      <th>1</th>\n",
       "      <td>1</td>\n",
       "      <td>2008-07-31 23:55:38</td>\n",
       "      <td>136033</td>\n",
       "      <td>616509</td>\n",
       "    </tr>\n",
       "    <tr>\n",
       "      <th>2</th>\n",
       "      <td>1</td>\n",
       "      <td>2008-07-31 23:56:41</td>\n",
       "      <td>0</td>\n",
       "      <td>616509</td>\n",
       "    </tr>\n",
       "    <tr>\n",
       "      <th>3</th>\n",
       "      <td>1</td>\n",
       "      <td>2008-08-04 02:45:08</td>\n",
       "      <td>0</td>\n",
       "      <td>616509</td>\n",
       "    </tr>\n",
       "    <tr>\n",
       "      <th>4</th>\n",
       "      <td>1</td>\n",
       "      <td>2008-08-04 04:31:03</td>\n",
       "      <td>0</td>\n",
       "      <td>616509</td>\n",
       "    </tr>\n",
       "    <tr>\n",
       "      <th>...</th>\n",
       "      <td>...</td>\n",
       "      <td>...</td>\n",
       "      <td>...</td>\n",
       "      <td>...</td>\n",
       "    </tr>\n",
       "    <tr>\n",
       "      <th>243791</th>\n",
       "      <td>5696608</td>\n",
       "      <td>2008-12-23 16:00:37</td>\n",
       "      <td>0</td>\n",
       "      <td>2804</td>\n",
       "    </tr>\n",
       "    <tr>\n",
       "      <th>243792</th>\n",
       "      <td>5696608</td>\n",
       "      <td>2008-12-23 17:35:09</td>\n",
       "      <td>0</td>\n",
       "      <td>2804</td>\n",
       "    </tr>\n",
       "    <tr>\n",
       "      <th>243793</th>\n",
       "      <td>5696608</td>\n",
       "      <td>2008-12-24 01:02:48</td>\n",
       "      <td>0</td>\n",
       "      <td>2804</td>\n",
       "    </tr>\n",
       "    <tr>\n",
       "      <th>243794</th>\n",
       "      <td>5696608</td>\n",
       "      <td>2008-12-30 14:34:45</td>\n",
       "      <td>0</td>\n",
       "      <td>2804</td>\n",
       "    </tr>\n",
       "    <tr>\n",
       "      <th>243795</th>\n",
       "      <td>5696608</td>\n",
       "      <td>2008-12-30 16:32:12</td>\n",
       "      <td>0</td>\n",
       "      <td>2804</td>\n",
       "    </tr>\n",
       "  </tbody>\n",
       "</table>\n",
       "<p>243796 rows × 4 columns</p>\n",
       "</div>"
      ],
      "text/plain": [
       "        user_id       creation_date  views_count  cumulative_count\n",
       "0             1 2008-07-31 23:41:00       480476            480476\n",
       "1             1 2008-07-31 23:55:38       136033            616509\n",
       "2             1 2008-07-31 23:56:41            0            616509\n",
       "3             1 2008-08-04 02:45:08            0            616509\n",
       "4             1 2008-08-04 04:31:03            0            616509\n",
       "...         ...                 ...          ...               ...\n",
       "243791  5696608 2008-12-23 16:00:37            0              2804\n",
       "243792  5696608 2008-12-23 17:35:09            0              2804\n",
       "243793  5696608 2008-12-24 01:02:48            0              2804\n",
       "243794  5696608 2008-12-30 14:34:45            0              2804\n",
       "243795  5696608 2008-12-30 16:32:12            0              2804\n",
       "\n",
       "[243796 rows x 4 columns]"
      ]
     },
     "execution_count": 27,
     "metadata": {},
     "output_type": "execute_result"
    }
   ],
   "source": [
    "# напишите запрос\n",
    "query = '''\n",
    "SELECT user_id, creation_date, views_count, \n",
    "\t   sum(views_count) OVER (PARTITION BY user_id ORDER BY creation_date) cumulative_count\n",
    "FROM stackoverflow.posts\n",
    "ORDER BY user_id, creation_date\n",
    "'''\n",
    "\n",
    "# выполните запрос\n",
    "df_task4 = pd.read_sql_query(query, con=engine) \n",
    "df_task4"
   ]
  },
  {
   "cell_type": "markdown",
   "metadata": {
    "id": "N0kHRHvIDWK2"
   },
   "source": [
    "# Задание 5"
   ]
  },
  {
   "cell_type": "markdown",
   "metadata": {
    "id": "gBgvmPtODWK2"
   },
   "source": [
    "Найдите среднее количество постов пользователей в день за август 2008 года. Отберите данные о пользователях, которые опубликовали больше 120 постов за август. Дни без публикаций не учитывайте. \n",
    "\n",
    "Отсортируйте результат по возрастанию среднего количества постов. Значения можно не округлять."
   ]
  },
  {
   "cell_type": "markdown",
   "metadata": {
    "id": "nfzR08BODWK3"
   },
   "source": [
    "| user_id | avg_daily |\n",
    "| ------- | --------- |\n",
    "| 116     | 4.777778  |\n",
    "| 234     | 5.208333  |\n",
    "| ...     | ... |"
   ]
  },
  {
   "cell_type": "code",
   "execution_count": 28,
   "metadata": {
    "id": "YFyPNz5GDWK3"
   },
   "outputs": [
    {
     "data": {
      "text/html": [
       "<div>\n",
       "<style scoped>\n",
       "    .dataframe tbody tr th:only-of-type {\n",
       "        vertical-align: middle;\n",
       "    }\n",
       "\n",
       "    .dataframe tbody tr th {\n",
       "        vertical-align: top;\n",
       "    }\n",
       "\n",
       "    .dataframe thead th {\n",
       "        text-align: right;\n",
       "    }\n",
       "</style>\n",
       "<table border=\"1\" class=\"dataframe\">\n",
       "  <thead>\n",
       "    <tr style=\"text-align: right;\">\n",
       "      <th></th>\n",
       "      <th>user_id</th>\n",
       "      <th>avg_daily</th>\n",
       "    </tr>\n",
       "  </thead>\n",
       "  <tbody>\n",
       "    <tr>\n",
       "      <th>0</th>\n",
       "      <td>116</td>\n",
       "      <td>4.777778</td>\n",
       "    </tr>\n",
       "    <tr>\n",
       "      <th>1</th>\n",
       "      <td>234</td>\n",
       "      <td>5.208333</td>\n",
       "    </tr>\n",
       "    <tr>\n",
       "      <th>2</th>\n",
       "      <td>91</td>\n",
       "      <td>5.681818</td>\n",
       "    </tr>\n",
       "    <tr>\n",
       "      <th>3</th>\n",
       "      <td>905</td>\n",
       "      <td>7.000000</td>\n",
       "    </tr>\n",
       "    <tr>\n",
       "      <th>4</th>\n",
       "      <td>383</td>\n",
       "      <td>7.277778</td>\n",
       "    </tr>\n",
       "  </tbody>\n",
       "</table>\n",
       "</div>"
      ],
      "text/plain": [
       "   user_id  avg_daily\n",
       "0      116   4.777778\n",
       "1      234   5.208333\n",
       "2       91   5.681818\n",
       "3      905   7.000000\n",
       "4      383   7.277778"
      ]
     },
     "execution_count": 28,
     "metadata": {},
     "output_type": "execute_result"
    }
   ],
   "source": [
    "# напишите запрос\n",
    "query = '''\n",
    "WITH raw AS \n",
    "\t(SELECT user_id, creation_date :: date, count(id) daily_count\n",
    "\tFROM stackoverflow.posts p \n",
    "\tWHERE user_id IN (SELECT user_id\n",
    "\t\tFROM stackoverflow.posts\n",
    "\t\tWHERE DATE_TRUNC('month', creation_date) = '2008-08-01'\n",
    "\t\tGROUP BY user_id\n",
    "\t\tHAVING count(id) > 120)\n",
    "\tAND DATE_TRUNC('month', creation_date) = '2008-08-01'\n",
    "\tGROUP BY 1, 2)\n",
    "SELECT user_id, avg(daily_count) avg_daily\n",
    "FROM raw\n",
    "GROUP BY user_id\n",
    "ORDER BY avg_daily\n",
    "'''\n",
    "\n",
    "# выполните запрос\n",
    "df_task5 = pd.read_sql_query(query, con=engine) \n",
    "df_task5"
   ]
  },
  {
   "cell_type": "markdown",
   "metadata": {
    "id": "EQ0dcFH4DWK5"
   },
   "source": [
    "# Задание 6"
   ]
  },
  {
   "cell_type": "markdown",
   "metadata": {
    "id": "c7flfg_hDWK5"
   },
   "source": [
    "Сколько в среднем дней в период с 1 по 7 декабря 2008 года пользователи взаимодействовали с платформой? Для каждого пользователя отберите дни, в которые он или она опубликовали хотя бы один пост. Нужно получить одно целое число — не забудьте округлить результат. "
   ]
  },
  {
   "cell_type": "markdown",
   "metadata": {
    "id": "RC1Ibzm9DWK6"
   },
   "source": [
    "| result |\n",
    "| -----  |\n",
    "| <целое число> |"
   ]
  },
  {
   "cell_type": "code",
   "execution_count": 29,
   "metadata": {
    "id": "kZ7LXTr6DWK6"
   },
   "outputs": [
    {
     "data": {
      "text/html": [
       "<div>\n",
       "<style scoped>\n",
       "    .dataframe tbody tr th:only-of-type {\n",
       "        vertical-align: middle;\n",
       "    }\n",
       "\n",
       "    .dataframe tbody tr th {\n",
       "        vertical-align: top;\n",
       "    }\n",
       "\n",
       "    .dataframe thead th {\n",
       "        text-align: right;\n",
       "    }\n",
       "</style>\n",
       "<table border=\"1\" class=\"dataframe\">\n",
       "  <thead>\n",
       "    <tr style=\"text-align: right;\">\n",
       "      <th></th>\n",
       "      <th>round</th>\n",
       "    </tr>\n",
       "  </thead>\n",
       "  <tbody>\n",
       "    <tr>\n",
       "      <th>0</th>\n",
       "      <td>2.0</td>\n",
       "    </tr>\n",
       "  </tbody>\n",
       "</table>\n",
       "</div>"
      ],
      "text/plain": [
       "   round\n",
       "0    2.0"
      ]
     },
     "execution_count": 29,
     "metadata": {},
     "output_type": "execute_result"
    }
   ],
   "source": [
    "# напишите запрос\n",
    "query = '''\n",
    "SELECT round(avg(days))\n",
    "FROM (WITH raw AS\n",
    "\t\t(SELECT DISTINCT user_id, creation_date :: date AS dt\n",
    "\t\tFROM stackoverflow.posts p \n",
    "\t\tWHERE creation_date :: date BETWEEN to_date('01122008', 'ddmmyyyy') AND to_date('07122008', 'ddmmyyyy'))\n",
    "\tSELECT user_id, count(dt) days\n",
    "\tFROM raw\n",
    "\tGROUP BY user_id) x\n",
    "'''\n",
    "\n",
    "# выполните запрос\n",
    "df_task6 = pd.read_sql_query(query, con=engine) \n",
    "df_task6"
   ]
  },
  {
   "cell_type": "markdown",
   "metadata": {
    "id": "wfOmqmfLDWK8"
   },
   "source": [
    "# Задание 7"
   ]
  },
  {
   "cell_type": "markdown",
   "metadata": {
    "id": "X4ARQimADWK9"
   },
   "source": [
    "Выведите историю активности каждого пользователя в таком виде: идентификатор пользователя, дата публикации поста. Отсортируйте вывод по возрастанию идентификаторов пользователей, а для каждого пользователя — по возрастанию даты публикации.\n",
    "\n",
    "Добавьте в таблицу новое поле: для каждого поста в нём будет указано название месяца предпоследней публикации пользователя относительно текущей. Если такой публикации нет, укажите `NULL`.  Python автоматически поменяет `NULL` на `None`, но дополнительно преобразовывать значения `None` вам не нужно.\n",
    "\n",
    "Посмотрите внимательно на образец таблицы: для первых двух постов предпоследней публикации нет, но, начиная с третьего поста, в новое поле входит нужный месяц. Для следующего пользователя в первые две записи поля `second_last_month` тоже войдёт `NULL`."
   ]
  },
  {
   "cell_type": "markdown",
   "metadata": {
    "id": "IGPjRP01DWK9"
   },
   "source": [
    "| user_id | creation_date | second_last_month |\n",
    "| ------- | ------------- | ----------------- |\n",
    "| 1       | 2008-07-31 23:41:00 | None |\n",
    "| 1       | 2008-07-31 23:55:38 | None |\n",
    "| 1       | 2008-07-31 23:56:41 | July |\n",
    "| 1       | 2008-08-04 02:45:08 | July |\n",
    "| 1       | 2008-08-04 04:31:03 | July |\n",
    "| 1       | 2008-08-04 08:04:42 | August |\n",
    "| ... | ... | ... |"
   ]
  },
  {
   "cell_type": "code",
   "execution_count": 30,
   "metadata": {
    "id": "HzI1vhaMDWK-"
   },
   "outputs": [
    {
     "data": {
      "text/html": [
       "<div>\n",
       "<style scoped>\n",
       "    .dataframe tbody tr th:only-of-type {\n",
       "        vertical-align: middle;\n",
       "    }\n",
       "\n",
       "    .dataframe tbody tr th {\n",
       "        vertical-align: top;\n",
       "    }\n",
       "\n",
       "    .dataframe thead th {\n",
       "        text-align: right;\n",
       "    }\n",
       "</style>\n",
       "<table border=\"1\" class=\"dataframe\">\n",
       "  <thead>\n",
       "    <tr style=\"text-align: right;\">\n",
       "      <th></th>\n",
       "      <th>user_id</th>\n",
       "      <th>post_dt</th>\n",
       "      <th>second_last_month</th>\n",
       "    </tr>\n",
       "  </thead>\n",
       "  <tbody>\n",
       "    <tr>\n",
       "      <th>0</th>\n",
       "      <td>1</td>\n",
       "      <td>2008-07-31 23:41:00</td>\n",
       "      <td>None</td>\n",
       "    </tr>\n",
       "    <tr>\n",
       "      <th>1</th>\n",
       "      <td>1</td>\n",
       "      <td>2008-07-31 23:55:38</td>\n",
       "      <td>None</td>\n",
       "    </tr>\n",
       "    <tr>\n",
       "      <th>2</th>\n",
       "      <td>1</td>\n",
       "      <td>2008-07-31 23:56:41</td>\n",
       "      <td>July</td>\n",
       "    </tr>\n",
       "    <tr>\n",
       "      <th>3</th>\n",
       "      <td>1</td>\n",
       "      <td>2008-08-04 02:45:08</td>\n",
       "      <td>July</td>\n",
       "    </tr>\n",
       "    <tr>\n",
       "      <th>4</th>\n",
       "      <td>1</td>\n",
       "      <td>2008-08-04 04:31:03</td>\n",
       "      <td>July</td>\n",
       "    </tr>\n",
       "    <tr>\n",
       "      <th>5</th>\n",
       "      <td>1</td>\n",
       "      <td>2008-08-04 08:04:42</td>\n",
       "      <td>August</td>\n",
       "    </tr>\n",
       "    <tr>\n",
       "      <th>6</th>\n",
       "      <td>1</td>\n",
       "      <td>2008-08-10 08:28:52</td>\n",
       "      <td>August</td>\n",
       "    </tr>\n",
       "    <tr>\n",
       "      <th>7</th>\n",
       "      <td>1</td>\n",
       "      <td>2008-08-11 19:23:47</td>\n",
       "      <td>August</td>\n",
       "    </tr>\n",
       "    <tr>\n",
       "      <th>8</th>\n",
       "      <td>1</td>\n",
       "      <td>2008-08-12 00:30:43</td>\n",
       "      <td>August</td>\n",
       "    </tr>\n",
       "    <tr>\n",
       "      <th>9</th>\n",
       "      <td>1</td>\n",
       "      <td>2008-08-12 04:59:35</td>\n",
       "      <td>August</td>\n",
       "    </tr>\n",
       "  </tbody>\n",
       "</table>\n",
       "</div>"
      ],
      "text/plain": [
       "   user_id             post_dt second_last_month\n",
       "0        1 2008-07-31 23:41:00              None\n",
       "1        1 2008-07-31 23:55:38              None\n",
       "2        1 2008-07-31 23:56:41         July     \n",
       "3        1 2008-08-04 02:45:08         July     \n",
       "4        1 2008-08-04 04:31:03         July     \n",
       "5        1 2008-08-04 08:04:42         August   \n",
       "6        1 2008-08-10 08:28:52         August   \n",
       "7        1 2008-08-11 19:23:47         August   \n",
       "8        1 2008-08-12 00:30:43         August   \n",
       "9        1 2008-08-12 04:59:35         August   "
      ]
     },
     "execution_count": 30,
     "metadata": {},
     "output_type": "execute_result"
    }
   ],
   "source": [
    "# напишите запрос\n",
    "query = '''\n",
    "SELECT user_id, creation_date post_dt,\n",
    "\t   to_char(lag(creation_date, 2, NULL) OVER (PARTITION BY user_id ORDER BY creation_date), 'Month') second_last_month\n",
    "FROM stackoverflow.posts p \n",
    "ORDER BY user_id\n",
    "'''\n",
    "\n",
    "# выполните запрос\n",
    "df_task7 = pd.read_sql_query(query, con=engine) \n",
    "df_task7.head(10)"
   ]
  },
  {
   "cell_type": "markdown",
   "metadata": {
    "id": "tf9qq2yzDWK_"
   },
   "source": [
    "# Задание 8"
   ]
  },
  {
   "cell_type": "markdown",
   "metadata": {
    "id": "gfwLVXBYDWLA"
   },
   "source": [
    "Рассчитайте аналог Retention Rate по месяцам для пользователей StackOverflow. Объедините пользователей в когорты по месяцу их первого поста. Возвращение определяйте по наличию поста в текущем месяце. "
   ]
  },
  {
   "cell_type": "markdown",
   "metadata": {
    "id": "kN2ic39WlKpl"
   },
   "source": [
    "| cohort_dt | session_date | users_cnt | cohort_users_cnt | retention_rate |\n",
    "| --- | --- | --- | --- | --- |\n",
    "| 2008-07-01 00:00:00 | 2008-07-01 00:00:00 | 3 | 3 | 100 |\n",
    "| 2008-07-01 00:00:00 | 2008-08-01 00:00:00 | 2 | 3 | 66,67 |\n",
    "| 2008-07-01 00:00:00 | 2008-09-01 00:00:00 | 1 | 3 | 33,33 |\n",
    "| 2008-07-01 00:00:00 | 2008-10-01 00:00:00 | 2 | 3 | 66,67 |\n",
    "| 2008-07-01 00:00:00 | 2008-11-01 00:00:00 | 1 | 3 | 33,33 |\n",
    "| 2008-07-01 00:00:00 | 2008-12-01 00:00:00 | 2 | 3 | 66,67 |\n",
    "| 2008-08-01 00:00:00 | 2008-08-01 00:00:00 | 2151 | 2151 | 100 |\n",
    "| ... | ... | ... | ... | ... |"
   ]
  },
  {
   "cell_type": "code",
   "execution_count": 31,
   "metadata": {
    "id": "LUgFmwmTDWLB"
   },
   "outputs": [
    {
     "data": {
      "text/html": [
       "<div>\n",
       "<style scoped>\n",
       "    .dataframe tbody tr th:only-of-type {\n",
       "        vertical-align: middle;\n",
       "    }\n",
       "\n",
       "    .dataframe tbody tr th {\n",
       "        vertical-align: top;\n",
       "    }\n",
       "\n",
       "    .dataframe thead th {\n",
       "        text-align: right;\n",
       "    }\n",
       "</style>\n",
       "<table border=\"1\" class=\"dataframe\">\n",
       "  <thead>\n",
       "    <tr style=\"text-align: right;\">\n",
       "      <th></th>\n",
       "      <th>cohort_dt</th>\n",
       "      <th>session_dt</th>\n",
       "      <th>users_cnt</th>\n",
       "      <th>cohort_users_cnt</th>\n",
       "      <th>retention_rate</th>\n",
       "    </tr>\n",
       "  </thead>\n",
       "  <tbody>\n",
       "    <tr>\n",
       "      <th>0</th>\n",
       "      <td>2008-07-01</td>\n",
       "      <td>2008-07-01</td>\n",
       "      <td>3</td>\n",
       "      <td>3</td>\n",
       "      <td>100.00</td>\n",
       "    </tr>\n",
       "    <tr>\n",
       "      <th>1</th>\n",
       "      <td>2008-07-01</td>\n",
       "      <td>2008-08-01</td>\n",
       "      <td>2</td>\n",
       "      <td>3</td>\n",
       "      <td>66.67</td>\n",
       "    </tr>\n",
       "    <tr>\n",
       "      <th>2</th>\n",
       "      <td>2008-07-01</td>\n",
       "      <td>2008-09-01</td>\n",
       "      <td>1</td>\n",
       "      <td>3</td>\n",
       "      <td>33.33</td>\n",
       "    </tr>\n",
       "    <tr>\n",
       "      <th>3</th>\n",
       "      <td>2008-07-01</td>\n",
       "      <td>2008-10-01</td>\n",
       "      <td>2</td>\n",
       "      <td>3</td>\n",
       "      <td>66.67</td>\n",
       "    </tr>\n",
       "    <tr>\n",
       "      <th>4</th>\n",
       "      <td>2008-07-01</td>\n",
       "      <td>2008-11-01</td>\n",
       "      <td>1</td>\n",
       "      <td>3</td>\n",
       "      <td>33.33</td>\n",
       "    </tr>\n",
       "    <tr>\n",
       "      <th>5</th>\n",
       "      <td>2008-07-01</td>\n",
       "      <td>2008-12-01</td>\n",
       "      <td>2</td>\n",
       "      <td>3</td>\n",
       "      <td>66.67</td>\n",
       "    </tr>\n",
       "    <tr>\n",
       "      <th>6</th>\n",
       "      <td>2008-08-01</td>\n",
       "      <td>2008-08-01</td>\n",
       "      <td>2151</td>\n",
       "      <td>2151</td>\n",
       "      <td>100.00</td>\n",
       "    </tr>\n",
       "    <tr>\n",
       "      <th>7</th>\n",
       "      <td>2008-08-01</td>\n",
       "      <td>2008-09-01</td>\n",
       "      <td>1571</td>\n",
       "      <td>2151</td>\n",
       "      <td>73.04</td>\n",
       "    </tr>\n",
       "    <tr>\n",
       "      <th>8</th>\n",
       "      <td>2008-08-01</td>\n",
       "      <td>2008-10-01</td>\n",
       "      <td>1275</td>\n",
       "      <td>2151</td>\n",
       "      <td>59.27</td>\n",
       "    </tr>\n",
       "    <tr>\n",
       "      <th>9</th>\n",
       "      <td>2008-08-01</td>\n",
       "      <td>2008-11-01</td>\n",
       "      <td>1050</td>\n",
       "      <td>2151</td>\n",
       "      <td>48.81</td>\n",
       "    </tr>\n",
       "  </tbody>\n",
       "</table>\n",
       "</div>"
      ],
      "text/plain": [
       "    cohort_dt  session_dt  users_cnt  cohort_users_cnt  retention_rate\n",
       "0  2008-07-01  2008-07-01          3                 3          100.00\n",
       "1  2008-07-01  2008-08-01          2                 3           66.67\n",
       "2  2008-07-01  2008-09-01          1                 3           33.33\n",
       "3  2008-07-01  2008-10-01          2                 3           66.67\n",
       "4  2008-07-01  2008-11-01          1                 3           33.33\n",
       "5  2008-07-01  2008-12-01          2                 3           66.67\n",
       "6  2008-08-01  2008-08-01       2151              2151          100.00\n",
       "7  2008-08-01  2008-09-01       1571              2151           73.04\n",
       "8  2008-08-01  2008-10-01       1275              2151           59.27\n",
       "9  2008-08-01  2008-11-01       1050              2151           48.81"
      ]
     },
     "execution_count": 31,
     "metadata": {},
     "output_type": "execute_result"
    }
   ],
   "source": [
    "# напишите запрос\n",
    "query = '''\n",
    "WITH cohorts as\n",
    "\t(SELECT x.*, count(user_id) OVER (PARTITION BY cohort_dt) cohort_users_cnt\n",
    "\tFROM (SELECT DISTINCT user_id, \n",
    "\t\t   \t\t CAST(date_trunc('month', min(creation_date) OVER (PARTITION BY user_id ORDER BY creation_date)) AS date) cohort_dt\n",
    "\t\t  FROM stackoverflow.posts) x),\n",
    "sessions as\n",
    "\t(SELECT user_id, cast(date_trunc('month', creation_date) AS date) session_dt\n",
    "\tFROM stackoverflow.posts \n",
    "\tGROUP BY 1, 2)\n",
    "SELECT c.cohort_dt, \n",
    "\t   s.session_dt, \n",
    "\t   count(c.user_id) users_cnt,\n",
    "\t   cohort_users_cnt, \n",
    "\t   round(count(c.user_id) * 100.0 / cohort_users_cnt, 2) retention_rate \n",
    "FROM cohorts c\n",
    "JOIN sessions s ON c.user_id = s.user_id\n",
    "GROUP BY 1, 2, 4\n",
    "'''\n",
    "\n",
    "# выполните запрос\n",
    "df_task8 = pd.read_sql_query(query, con=engine) \n",
    "df_task8.head(10)"
   ]
  },
  {
   "cell_type": "markdown",
   "metadata": {
    "id": "_msBtnb2DWLC"
   },
   "source": [
    "Постройте тепловую карту Retention Rate. Какие аномалии или другие необычные явления удалось выявить? Сформулируйте гипотезы о возможных причинах."
   ]
  },
  {
   "cell_type": "code",
   "execution_count": 32,
   "metadata": {
    "id": "qAEJc8H1DWLC"
   },
   "outputs": [
    {
     "data": {
      "image/png": "[encoded data removed]",
      "text/plain": [
       "<Figure size 1000x1000 with 2 Axes>"
      ]
     },
     "metadata": {},
     "output_type": "display_data"
    }
   ],
   "source": [
    "# постройте тепловую карту Retention Rate\n",
    "# создаём сводную таблицу с результатами\n",
    "retention = df_task8.pivot('cohort_dt', 'session_dt', 'retention_rate')\n",
    "retention.index = [str(x)[0:10] for x in retention.index]\n",
    "retention.columns = [str(x)[0:10] for x in retention.columns]\n",
    "\n",
    "# строим хитмэп\n",
    "plt.figure(figsize=(10, 10)) \n",
    "sns.heatmap(retention, \n",
    "            annot=True, \n",
    "            fmt='') # задаём исходный формат\n",
    "plt.title('Тепловая карта') \n",
    "plt.show()"
   ]
  },
  {
   "cell_type": "code",
   "execution_count": 33,
   "metadata": {
    "id": "EgOfIsI4DWLC"
   },
   "outputs": [],
   "source": [
    "# опишите аномалии или другие необычные явления и сформулируйте гипотезы"
   ]
  },
  {
   "cell_type": "markdown",
   "metadata": {
    "id": "MMVIz4yMlKpN"
   },
   "source": [
    "<div class=\"alert alert-block alert-info\">\n",
    "\n",
    "По хитмэпу активность июльских пользователей может показаться аномальной, но т.к. в июле у нас была небольшая выборка пользователей, эти отклонения можно не учитывать ввиду нерепрезентативности базы. \n",
    " \n",
    "По остальным данным видно снижение коэффициента удержания на второй месяц с августа по ноябрь, с 73% до 40% соотвественно. \n",
    "</div>"
   ]
  },
  {
   "cell_type": "markdown",
   "metadata": {
    "id": "1k7oPWt5DWLK"
   },
   "source": [
    "# Задание 9\n"
   ]
  },
  {
   "cell_type": "markdown",
   "metadata": {
    "id": "ALsYVSyRDWLM"
   },
   "source": [
    "На сколько процентов менялось количество постов ежемесячно с 1 сентября по 31 декабря 2008 года? Отобразите таблицу со следующими полями:\n",
    "\n",
    "- номер месяца;\n",
    "- количество постов за месяц;\n",
    "- процент, который показывает, насколько изменилось количество постов в текущем месяце по сравнению с предыдущим.\n",
    "\n",
    "Если постов стало меньше, значение процента должно быть отрицательным, если больше — положительным. Округлите значение процента до двух знаков после запятой.\n",
    "\n",
    "Напомним, что при делении одного целого числа на другое в PostgreSQL в результате получится целое число, округлённое до ближайшего целого вниз. Чтобы этого избежать, переведите делимое в тип `numeric`."
   ]
  },
  {
   "cell_type": "markdown",
   "metadata": {
    "id": "u4E2zF8DDWLM"
   },
   "source": [
    "| creation_month | posts_count | percentage |\n",
    "| -------------- | ----------- | ---------- |\n",
    "| 9 | 70731 | Nan |\n",
    "| 10 | 63102 | -10.33 |\n",
    "| ... | ... | ... |"
   ]
  },
  {
   "cell_type": "code",
   "execution_count": 34,
   "metadata": {
    "id": "Mb5pShStDWLN"
   },
   "outputs": [
    {
     "data": {
      "text/html": [
       "<div>\n",
       "<style scoped>\n",
       "    .dataframe tbody tr th:only-of-type {\n",
       "        vertical-align: middle;\n",
       "    }\n",
       "\n",
       "    .dataframe tbody tr th {\n",
       "        vertical-align: top;\n",
       "    }\n",
       "\n",
       "    .dataframe thead th {\n",
       "        text-align: right;\n",
       "    }\n",
       "</style>\n",
       "<table border=\"1\" class=\"dataframe\">\n",
       "  <thead>\n",
       "    <tr style=\"text-align: right;\">\n",
       "      <th></th>\n",
       "      <th>month_number</th>\n",
       "      <th>posts_cnt</th>\n",
       "      <th>percentage</th>\n",
       "    </tr>\n",
       "  </thead>\n",
       "  <tbody>\n",
       "    <tr>\n",
       "      <th>0</th>\n",
       "      <td>9.0</td>\n",
       "      <td>70371</td>\n",
       "      <td>NaN</td>\n",
       "    </tr>\n",
       "    <tr>\n",
       "      <th>1</th>\n",
       "      <td>10.0</td>\n",
       "      <td>63102</td>\n",
       "      <td>-10.33</td>\n",
       "    </tr>\n",
       "    <tr>\n",
       "      <th>2</th>\n",
       "      <td>11.0</td>\n",
       "      <td>46975</td>\n",
       "      <td>-25.56</td>\n",
       "    </tr>\n",
       "    <tr>\n",
       "      <th>3</th>\n",
       "      <td>12.0</td>\n",
       "      <td>44592</td>\n",
       "      <td>-5.07</td>\n",
       "    </tr>\n",
       "  </tbody>\n",
       "</table>\n",
       "</div>"
      ],
      "text/plain": [
       "   month_number  posts_cnt  percentage\n",
       "0           9.0      70371         NaN\n",
       "1          10.0      63102      -10.33\n",
       "2          11.0      46975      -25.56\n",
       "3          12.0      44592       -5.07"
      ]
     },
     "execution_count": 34,
     "metadata": {},
     "output_type": "execute_result"
    }
   ],
   "source": [
    "# напишите запрос\n",
    "query = '''\n",
    "SELECT month_number, posts_cnt, round((difference_perc * 100), 2) percentage\n",
    "FROM \n",
    "\t(WITH raw AS \n",
    "\t\t(SELECT EXTRACT(MONTH FROM (cast(date_trunc('month', creation_date) AS date))) month_number, count(id) posts_cnt\n",
    "\t\tFROM stackoverflow.posts\n",
    "\t\tWHERE creation_date :: date BETWEEN to_date('01092008', 'ddmmyyyy') AND to_date('31122008', 'ddmmyyyy')\n",
    "\t\tGROUP BY 1\n",
    "\t\tORDER BY 1)\n",
    "\tSELECT *, lag(posts_cnt) OVER (ORDER BY month_number),\n",
    "\t\t   (posts_cnt - lag(posts_cnt) OVER (ORDER BY month_number)) difference,\n",
    "\t\t   (posts_cnt - lag(posts_cnt) OVER (ORDER BY month_number)) :: numeric / lag(posts_cnt) OVER (ORDER BY month_number) difference_perc\n",
    "\tFROM raw) x\n",
    "'''\n",
    "\n",
    "# выполните запрос\n",
    "df_task9 = pd.read_sql_query(query, con=engine) \n",
    "df_task9"
   ]
  },
  {
   "cell_type": "markdown",
   "metadata": {
    "id": "9NQE2y_MDWLP"
   },
   "source": [
    "Постройте круговую диаграмму с количеством постов по месяцам."
   ]
  },
  {
   "cell_type": "code",
   "execution_count": 35,
   "metadata": {},
   "outputs": [
    {
     "data": {
      "image/png": "[encoded data removed]",
      "text/plain": [
       "<Figure size 800x800 with 1 Axes>"
      ]
     },
     "metadata": {},
     "output_type": "display_data"
    }
   ],
   "source": [
    "# постройте круговую диаграмму с количеством постов по месяцам\n",
    "\n",
    "posts_cnt = df_task9['posts_cnt']\n",
    "labels = df_task9['month_number']\n",
    "\n",
    "def make_autopct(values):\n",
    "    def my_autopct(pct):\n",
    "        total = sum(values)\n",
    "        val = int(round(pct*total/100.0))\n",
    "        return '{p:.2f}%  ({v:d})'.format(p=pct,v=val)\n",
    "    return my_autopct\n",
    "\n",
    "# строим piechart\n",
    "plt.figure(figsize=(8, 8)) \n",
    "plt.title('Кол-во постов по месяцам') \n",
    "\n",
    "plt.pie(posts_cnt, labels=labels, autopct=make_autopct(posts_cnt))\n",
    "plt.show()"
   ]
  },
  {
   "cell_type": "markdown",
   "metadata": {
    "id": "uw7qMtafDWLP"
   },
   "source": [
    "# Задание 10"
   ]
  },
  {
   "cell_type": "markdown",
   "metadata": {
    "id": "oRBpWKx3DWLQ"
   },
   "source": [
    "Выгрузите данные активности пользователя, который опубликовал больше всего постов за всё время. Выведите данные за октябрь 2008 года в таком виде:\n",
    "\n",
    "- номер недели;\n",
    "- дата и время последнего поста, опубликованного на этой неделе."
   ]
  },
  {
   "cell_type": "markdown",
   "metadata": {
    "id": "XjAWSn_3DWLQ"
   },
   "source": [
    "| week_creation | creation_date |\n",
    "| ------------- | ------------- |\n",
    "| 40 | 2008-10-05 09:00:58 |\n",
    "| 41 | 2008-10-12 21:22:23 |\n",
    "| ... | ... |"
   ]
  },
  {
   "cell_type": "code",
   "execution_count": 36,
   "metadata": {
    "id": "r5F5fSkwDWLQ"
   },
   "outputs": [
    {
     "data": {
      "text/html": [
       "<div>\n",
       "<style scoped>\n",
       "    .dataframe tbody tr th:only-of-type {\n",
       "        vertical-align: middle;\n",
       "    }\n",
       "\n",
       "    .dataframe tbody tr th {\n",
       "        vertical-align: top;\n",
       "    }\n",
       "\n",
       "    .dataframe thead th {\n",
       "        text-align: right;\n",
       "    }\n",
       "</style>\n",
       "<table border=\"1\" class=\"dataframe\">\n",
       "  <thead>\n",
       "    <tr style=\"text-align: right;\">\n",
       "      <th></th>\n",
       "      <th>week_num</th>\n",
       "      <th>max</th>\n",
       "    </tr>\n",
       "  </thead>\n",
       "  <tbody>\n",
       "    <tr>\n",
       "      <th>0</th>\n",
       "      <td>40.0</td>\n",
       "      <td>2008-10-05 09:00:58</td>\n",
       "    </tr>\n",
       "    <tr>\n",
       "      <th>1</th>\n",
       "      <td>41.0</td>\n",
       "      <td>2008-10-12 21:22:23</td>\n",
       "    </tr>\n",
       "    <tr>\n",
       "      <th>2</th>\n",
       "      <td>42.0</td>\n",
       "      <td>2008-10-19 06:49:30</td>\n",
       "    </tr>\n",
       "    <tr>\n",
       "      <th>3</th>\n",
       "      <td>43.0</td>\n",
       "      <td>2008-10-26 21:44:36</td>\n",
       "    </tr>\n",
       "    <tr>\n",
       "      <th>4</th>\n",
       "      <td>44.0</td>\n",
       "      <td>2008-10-31 22:16:01</td>\n",
       "    </tr>\n",
       "  </tbody>\n",
       "</table>\n",
       "</div>"
      ],
      "text/plain": [
       "   week_num                 max\n",
       "0      40.0 2008-10-05 09:00:58\n",
       "1      41.0 2008-10-12 21:22:23\n",
       "2      42.0 2008-10-19 06:49:30\n",
       "3      43.0 2008-10-26 21:44:36\n",
       "4      44.0 2008-10-31 22:16:01"
      ]
     },
     "execution_count": 36,
     "metadata": {},
     "output_type": "execute_result"
    }
   ],
   "source": [
    "# напишите запрос\n",
    "query = '''\n",
    "SELECT DISTINCT date_part('week', creation_date) week_num,\n",
    "\t   max(creation_date) OVER (PARTITION BY date_part('week', creation_date))\n",
    "FROM stackoverflow.posts \n",
    "WHERE date_trunc('month', creation_date) = '2008-10-01' \n",
    "AND user_id IN (SELECT user_id\n",
    "\t\t\t\tFROM stackoverflow.posts\n",
    "\t\t\t\tGROUP BY user_id\n",
    "\t\t\t\tORDER BY count(id) DESC\n",
    "\t\t\t\tLIMIT 1)\n",
    "\n",
    "'''\n",
    "\n",
    "# выполните запрос\n",
    "df_task10 = pd.read_sql_query(query, con=engine) \n",
    "df_task10"
   ]
  }
 ],
 "metadata": {
  "ExecuteTimeLog": [
   {
    "duration": 992,
    "start_time": "2023-02-22T22:49:11.315Z"
   },
   {
    "duration": 3,
    "start_time": "2023-02-22T22:49:15.109Z"
   },
   {
    "duration": 7554,
    "start_time": "2023-02-22T22:49:18.628Z"
   },
   {
    "duration": 230,
    "start_time": "2023-02-22T22:49:32.255Z"
   },
   {
    "duration": 22,
    "start_time": "2023-02-22T22:49:34.749Z"
   },
   {
    "duration": 863,
    "start_time": "2023-02-23T10:58:39.471Z"
   },
   {
    "duration": 4,
    "start_time": "2023-02-23T10:58:41.702Z"
   },
   {
    "duration": 8101,
    "start_time": "2023-02-23T10:58:44.594Z"
   },
   {
    "duration": 232,
    "start_time": "2023-02-23T10:58:52.697Z"
   },
   {
    "duration": 15,
    "start_time": "2023-02-23T10:59:10.555Z"
   },
   {
    "duration": 115,
    "start_time": "2023-02-23T11:13:36.676Z"
   },
   {
    "duration": 306,
    "start_time": "2023-02-23T11:45:54.344Z"
   },
   {
    "duration": 313,
    "start_time": "2023-02-23T11:47:42.067Z"
   },
   {
    "duration": 156,
    "start_time": "2023-02-23T12:13:58.888Z"
   },
   {
    "duration": 1330,
    "start_time": "2023-02-23T12:29:20.260Z"
   },
   {
    "duration": 151,
    "start_time": "2023-02-23T12:33:40.108Z"
   },
   {
    "duration": 96,
    "start_time": "2023-02-23T12:48:01.023Z"
   },
   {
    "duration": 4,
    "start_time": "2023-02-23T12:59:14.011Z"
   },
   {
    "duration": 83,
    "start_time": "2023-02-23T12:59:26.247Z"
   },
   {
    "duration": 87,
    "start_time": "2023-02-23T13:06:45.076Z"
   },
   {
    "duration": 221,
    "start_time": "2023-02-23T13:33:24.062Z"
   },
   {
    "duration": 1237,
    "start_time": "2023-02-23T13:33:54.763Z"
   },
   {
    "duration": 334,
    "start_time": "2023-02-23T13:47:43.327Z"
   },
   {
    "duration": 545,
    "start_time": "2023-02-23T14:19:11.085Z"
   },
   {
    "duration": 17,
    "start_time": "2023-02-23T14:22:24.595Z"
   },
   {
    "duration": 514,
    "start_time": "2023-02-23T14:22:45.945Z"
   },
   {
    "duration": 542,
    "start_time": "2023-02-23T14:22:47.649Z"
   },
   {
    "duration": 395,
    "start_time": "2023-02-23T14:23:46.064Z"
   },
   {
    "duration": 429,
    "start_time": "2023-02-23T14:24:48.155Z"
   },
   {
    "duration": 379,
    "start_time": "2023-02-23T14:25:02.373Z"
   },
   {
    "duration": 143,
    "start_time": "2023-02-23T16:11:18.361Z"
   },
   {
    "duration": 138,
    "start_time": "2023-02-23T16:11:28.485Z"
   },
   {
    "duration": 132,
    "start_time": "2023-02-23T16:11:37.854Z"
   },
   {
    "duration": 133,
    "start_time": "2023-02-23T16:11:42.148Z"
   },
   {
    "duration": 85,
    "start_time": "2023-02-23T16:16:55.743Z"
   },
   {
    "duration": 56,
    "start_time": "2023-02-23T16:17:20.656Z"
   },
   {
    "duration": 98,
    "start_time": "2023-02-23T16:17:40.473Z"
   },
   {
    "duration": 15,
    "start_time": "2023-02-23T16:17:57.465Z"
   },
   {
    "duration": 109,
    "start_time": "2023-02-23T16:18:53.952Z"
   },
   {
    "duration": 206,
    "start_time": "2023-02-23T16:19:18.593Z"
   },
   {
    "duration": 112,
    "start_time": "2023-02-23T16:21:11.570Z"
   },
   {
    "duration": 1193,
    "start_time": "2023-02-23T16:21:56.209Z"
   },
   {
    "duration": 123,
    "start_time": "2023-02-23T16:22:08.966Z"
   },
   {
    "duration": 194,
    "start_time": "2023-02-23T16:24:03.724Z"
   },
   {
    "duration": 112,
    "start_time": "2023-02-23T16:24:07.753Z"
   },
   {
    "duration": 89,
    "start_time": "2023-02-23T16:35:47.004Z"
   },
   {
    "duration": 104,
    "start_time": "2023-02-23T16:36:21.812Z"
   },
   {
    "duration": 118,
    "start_time": "2023-02-23T16:36:44.572Z"
   },
   {
    "duration": 108,
    "start_time": "2023-02-23T16:36:52.864Z"
   },
   {
    "duration": 136,
    "start_time": "2023-02-23T16:53:40.168Z"
   },
   {
    "duration": 1340,
    "start_time": "2023-02-23T16:54:37.651Z"
   },
   {
    "duration": 4,
    "start_time": "2023-02-23T16:54:38.993Z"
   },
   {
    "duration": 8059,
    "start_time": "2023-02-23T16:54:38.999Z"
   },
   {
    "duration": 228,
    "start_time": "2023-02-23T16:54:47.060Z"
   },
   {
    "duration": 18,
    "start_time": "2023-02-23T16:54:47.290Z"
   },
   {
    "duration": 101,
    "start_time": "2023-02-23T16:54:47.311Z"
   },
   {
    "duration": 319,
    "start_time": "2023-02-23T16:54:47.414Z"
   },
   {
    "duration": 148,
    "start_time": "2023-02-23T16:54:47.735Z"
   },
   {
    "duration": 1288,
    "start_time": "2023-02-23T16:54:47.885Z"
   },
   {
    "duration": 86,
    "start_time": "2023-02-23T16:54:49.176Z"
   },
   {
    "duration": 84,
    "start_time": "2023-02-23T16:54:49.264Z"
   },
   {
    "duration": 1227,
    "start_time": "2023-02-23T16:54:49.350Z"
   },
   {
    "duration": 522,
    "start_time": "2023-02-23T16:54:50.579Z"
   },
   {
    "duration": 437,
    "start_time": "2023-02-23T16:54:51.103Z"
   },
   {
    "duration": 2,
    "start_time": "2023-02-23T16:54:51.542Z"
   },
   {
    "duration": 140,
    "start_time": "2023-02-23T16:54:51.546Z"
   },
   {
    "duration": 117,
    "start_time": "2023-02-23T16:54:51.687Z"
   },
   {
    "duration": 149,
    "start_time": "2023-02-23T16:54:51.806Z"
   },
   {
    "duration": 1558,
    "start_time": "2023-02-23T19:03:03.083Z"
   },
   {
    "duration": 3,
    "start_time": "2023-02-23T19:03:04.643Z"
   },
   {
    "duration": 6685,
    "start_time": "2023-02-23T19:03:04.648Z"
   },
   {
    "duration": 232,
    "start_time": "2023-02-23T19:03:11.335Z"
   },
   {
    "duration": 22,
    "start_time": "2023-02-23T19:03:11.569Z"
   },
   {
    "duration": 108,
    "start_time": "2023-02-23T19:03:11.593Z"
   },
   {
    "duration": 318,
    "start_time": "2023-02-23T19:03:11.702Z"
   },
   {
    "duration": 155,
    "start_time": "2023-02-23T19:03:12.022Z"
   },
   {
    "duration": 1320,
    "start_time": "2023-02-23T19:03:12.179Z"
   },
   {
    "duration": 85,
    "start_time": "2023-02-23T19:03:13.502Z"
   },
   {
    "duration": 84,
    "start_time": "2023-02-23T19:03:13.589Z"
   },
   {
    "duration": 1275,
    "start_time": "2023-02-23T19:03:13.675Z"
   },
   {
    "duration": 551,
    "start_time": "2023-02-23T19:03:14.953Z"
   },
   {
    "duration": 511,
    "start_time": "2023-02-23T19:03:15.506Z"
   },
   {
    "duration": 3,
    "start_time": "2023-02-23T19:03:16.018Z"
   },
   {
    "duration": 159,
    "start_time": "2023-02-23T19:03:16.023Z"
   },
   {
    "duration": 116,
    "start_time": "2023-02-23T19:03:16.184Z"
   },
   {
    "duration": 138,
    "start_time": "2023-02-23T19:03:16.303Z"
   },
   {
    "duration": 48,
    "start_time": "2023-02-23T19:03:16.444Z"
   },
   {
    "duration": 48,
    "start_time": "2023-02-23T19:19:50.454Z"
   },
   {
    "duration": 1446,
    "start_time": "2023-02-23T19:20:06.698Z"
   },
   {
    "duration": 14,
    "start_time": "2023-02-23T19:20:08.147Z"
   },
   {
    "duration": 6109,
    "start_time": "2023-02-23T19:20:08.162Z"
   },
   {
    "duration": 117,
    "start_time": "2023-02-23T19:20:14.273Z"
   },
   {
    "duration": 17,
    "start_time": "2023-02-23T19:20:14.392Z"
   },
   {
    "duration": 70,
    "start_time": "2023-02-23T19:20:14.411Z"
   },
   {
    "duration": 292,
    "start_time": "2023-02-23T19:20:14.482Z"
   },
   {
    "duration": 114,
    "start_time": "2023-02-23T19:20:14.776Z"
   },
   {
    "duration": 1194,
    "start_time": "2023-02-23T19:20:14.891Z"
   },
   {
    "duration": 79,
    "start_time": "2023-02-23T19:20:16.089Z"
   },
   {
    "duration": 54,
    "start_time": "2023-02-23T19:20:16.170Z"
   },
   {
    "duration": 1049,
    "start_time": "2023-02-23T19:20:16.225Z"
   },
   {
    "duration": 496,
    "start_time": "2023-02-23T19:20:17.276Z"
   },
   {
    "duration": 444,
    "start_time": "2023-02-23T19:20:17.773Z"
   },
   {
    "duration": 2,
    "start_time": "2023-02-23T19:20:18.218Z"
   },
   {
    "duration": 106,
    "start_time": "2023-02-23T19:20:18.221Z"
   },
   {
    "duration": 107,
    "start_time": "2023-02-23T19:20:18.329Z"
   },
   {
    "duration": 102,
    "start_time": "2023-02-23T19:20:18.442Z"
   },
   {
    "duration": 272,
    "start_time": "2023-02-23T19:25:56.095Z"
   },
   {
    "duration": 146,
    "start_time": "2023-02-23T19:29:32.135Z"
   },
   {
    "duration": 5,
    "start_time": "2023-02-23T19:31:36.955Z"
   },
   {
    "duration": 5,
    "start_time": "2023-02-23T19:31:36.963Z"
   },
   {
    "duration": 11,
    "start_time": "2023-02-23T19:31:36.970Z"
   },
   {
    "duration": 44,
    "start_time": "2023-02-23T19:31:36.983Z"
   },
   {
    "duration": 13,
    "start_time": "2023-02-23T19:31:37.029Z"
   },
   {
    "duration": 69,
    "start_time": "2023-02-23T19:31:37.052Z"
   },
   {
    "duration": 140,
    "start_time": "2023-02-23T19:31:37.123Z"
   },
   {
    "duration": 117,
    "start_time": "2023-02-23T19:31:37.265Z"
   },
   {
    "duration": 1126,
    "start_time": "2023-02-23T19:31:37.384Z"
   },
   {
    "duration": 56,
    "start_time": "2023-02-23T19:31:38.512Z"
   },
   {
    "duration": 52,
    "start_time": "2023-02-23T19:31:38.569Z"
   },
   {
    "duration": 1045,
    "start_time": "2023-02-23T19:31:38.623Z"
   },
   {
    "duration": 521,
    "start_time": "2023-02-23T19:31:39.669Z"
   },
   {
    "duration": 411,
    "start_time": "2023-02-23T19:31:40.191Z"
   },
   {
    "duration": 2,
    "start_time": "2023-02-23T19:31:40.604Z"
   },
   {
    "duration": 112,
    "start_time": "2023-02-23T19:31:40.608Z"
   },
   {
    "duration": 105,
    "start_time": "2023-02-23T19:31:40.722Z"
   },
   {
    "duration": 100,
    "start_time": "2023-02-23T19:31:40.828Z"
   }
  ],
  "colab": {
   "name": "AdvansedSQLProjectTemplate.ipynb",
   "provenance": []
  },
  "kernelspec": {
   "display_name": "Python 3 (ipykernel)",
   "language": "python",
   "name": "python3"
  },
  "language_info": {
   "codemirror_mode": {
    "name": "ipython",
    "version": 3
   },
   "file_extension": ".py",
   "mimetype": "text/x-python",
   "name": "python",
   "nbconvert_exporter": "python",
   "pygments_lexer": "ipython3",
   "version": "3.9.13"
  },
  "toc": {
   "base_numbering": 1,
   "nav_menu": {},
   "number_sections": true,
   "sideBar": true,
   "skip_h1_title": true,
   "title_cell": "Table of Contents",
   "title_sidebar": "Contents",
   "toc_cell": false,
   "toc_position": {},
   "toc_section_display": true,
   "toc_window_display": false
  }
 },
 "nbformat": 4,
 "nbformat_minor": 1
}
